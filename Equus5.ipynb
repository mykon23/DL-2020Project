{
  "nbformat": 4,
  "nbformat_minor": 0,
  "metadata": {
    "colab": {
      "name": "Equus5.ipynb",
      "provenance": [],
      "authorship_tag": "ABX9TyMHZhvbrekZaYdxrCclTIF7",
      "include_colab_link": true
    },
    "kernelspec": {
      "name": "python3",
      "display_name": "Python 3"
    },
    "accelerator": "GPU"
  },
  "cells": [
    {
      "cell_type": "markdown",
      "metadata": {
        "id": "view-in-github",
        "colab_type": "text"
      },
      "source": [
        "<a href=\"https://colab.research.google.com/github/mykon23/DL-2020Project/blob/effects_of_aug/Equus5.ipynb\" target=\"_parent\"><img src=\"https://colab.research.google.com/assets/colab-badge.svg\" alt=\"Open In Colab\"/></a>"
      ]
    },
    {
      "cell_type": "markdown",
      "metadata": {
        "id": "kjLu1O6z0Iuz",
        "colab_type": "text"
      },
      "source": [
        "Get the Equus Dataset"
      ]
    },
    {
      "cell_type": "code",
      "metadata": {
        "id": "EGt_h0c20Anb",
        "colab_type": "code",
        "outputId": "a2d1d35f-740c-4f35-d76e-428aa5d8a206",
        "colab": {
          "base_uri": "https://localhost:8080/",
          "height": 357
        }
      },
      "source": [
        "! wget -O Equus.tar.gz https://github.com/mykon23/DL-2020Project/blob/master/Equus.tar.gz?raw=true"
      ],
      "execution_count": 1,
      "outputs": [
        {
          "output_type": "stream",
          "text": [
            "--2020-04-16 14:17:19--  https://github.com/mykon23/DL-2020Project/blob/master/Equus.tar.gz?raw=true\n",
            "Resolving github.com (github.com)... 140.82.114.4\n",
            "Connecting to github.com (github.com)|140.82.114.4|:443... connected.\n",
            "HTTP request sent, awaiting response... 302 Found\n",
            "Location: https://github.com/mykon23/DL-2020Project/raw/master/Equus.tar.gz [following]\n",
            "--2020-04-16 14:17:19--  https://github.com/mykon23/DL-2020Project/raw/master/Equus.tar.gz\n",
            "Reusing existing connection to github.com:443.\n",
            "HTTP request sent, awaiting response... 302 Found\n",
            "Location: https://raw.githubusercontent.com/mykon23/DL-2020Project/master/Equus.tar.gz [following]\n",
            "--2020-04-16 14:17:20--  https://raw.githubusercontent.com/mykon23/DL-2020Project/master/Equus.tar.gz\n",
            "Resolving raw.githubusercontent.com (raw.githubusercontent.com)... 151.101.0.133, 151.101.64.133, 151.101.128.133, ...\n",
            "Connecting to raw.githubusercontent.com (raw.githubusercontent.com)|151.101.0.133|:443... connected.\n",
            "HTTP request sent, awaiting response... 200 OK\n",
            "Length: 18230746 (17M) [application/octet-stream]\n",
            "Saving to: ‘Equus.tar.gz’\n",
            "\n",
            "Equus.tar.gz        100%[===================>]  17.39M   105MB/s    in 0.2s    \n",
            "\n",
            "2020-04-16 14:17:21 (105 MB/s) - ‘Equus.tar.gz’ saved [18230746/18230746]\n",
            "\n"
          ],
          "name": "stdout"
        }
      ]
    },
    {
      "cell_type": "code",
      "metadata": {
        "id": "NaXFSsGd0OwE",
        "colab_type": "code",
        "colab": {}
      },
      "source": [
        "! rm -rf Equus\n",
        "! tar -zxf Equus.tar.gz"
      ],
      "execution_count": 0,
      "outputs": []
    },
    {
      "cell_type": "code",
      "metadata": {
        "id": "xaudxFb70UxV",
        "colab_type": "code",
        "colab": {}
      },
      "source": [
        "! rm *.tar.gz\n",
        "! rm -rf train/\n",
        "! rm -rf validation/\n",
        "! rm -rf test/"
      ],
      "execution_count": 0,
      "outputs": []
    },
    {
      "cell_type": "markdown",
      "metadata": {
        "id": "KvUCkDgq0bc5",
        "colab_type": "text"
      },
      "source": [
        "Create the Training Set, Validation Set, and Test Set"
      ]
    },
    {
      "cell_type": "code",
      "metadata": {
        "id": "PcBmGeTL1Kw-",
        "colab_type": "code",
        "colab": {}
      },
      "source": [
        "import os\n",
        "\n",
        "##Creates the folder structure of the data staging locations\n",
        "def set_dataset_loc(loc, sub_dirs):\n",
        "  if not os.path.exists(loc):\n",
        "    os.mkdir(loc)\n",
        "    for s in sub_dirs:\n",
        "      os.mkdir(os.path.join(loc, s))\n",
        "\n",
        "\n",
        "dataset_dir = os.path.join('.', 'Equus')\n",
        "lst_members = os.listdir(dataset_dir)\n",
        "\n",
        "set_dataset_loc(os.path.join('.', 'train'), lst_members)\n",
        "set_dataset_loc(os.path.join('.', 'validation'), lst_members)\n",
        "set_dataset_loc(os.path.join('.', 'test'), lst_members)\n"
      ],
      "execution_count": 0,
      "outputs": []
    },
    {
      "cell_type": "code",
      "metadata": {
        "id": "d8gzbmDc4Peu",
        "colab_type": "code",
        "outputId": "ec2eab25-4400-4b5a-c6f6-69d2b246dd38",
        "colab": {
          "base_uri": "https://localhost:8080/",
          "height": 68
        }
      },
      "source": [
        "##Display distribution of data\n",
        "\n",
        "for d in os.listdir(dataset_dir):\n",
        "  print(f'{d}: {len(os.listdir(os.path.join(dataset_dir, d)))}')"
      ],
      "execution_count": 5,
      "outputs": [
        {
          "output_type": "stream",
          "text": [
            "Horse: 314\n",
            "Donkey: 391\n",
            "Zebra: 339\n"
          ],
          "name": "stdout"
        }
      ]
    },
    {
      "cell_type": "code",
      "metadata": {
        "id": "MM690uru5zRv",
        "colab_type": "code",
        "outputId": "580271f3-b670-44a8-f188-5844e19955c0",
        "colab": {
          "base_uri": "https://localhost:8080/",
          "height": 119
        }
      },
      "source": [
        "!ls -lh"
      ],
      "execution_count": 6,
      "outputs": [
        {
          "output_type": "stream",
          "text": [
            "total 20K\n",
            "drwxr-xr-x 5 root root 4.0K Mar 16 03:00 Equus\n",
            "drwxr-xr-x 1 root root 4.0K Apr  3 16:24 sample_data\n",
            "drwxr-xr-x 5 root root 4.0K Apr 16 14:17 test\n",
            "drwxr-xr-x 5 root root 4.0K Apr 16 14:17 train\n",
            "drwxr-xr-x 5 root root 4.0K Apr 16 14:17 validation\n"
          ],
          "name": "stdout"
        }
      ]
    },
    {
      "cell_type": "code",
      "metadata": {
        "id": "UNF_wQ-f6FLC",
        "colab_type": "code",
        "colab": {}
      },
      "source": [
        "import shutil\n",
        "\n",
        "##Populate the staging locations for the data\n",
        "def stage_data_loc(stage_loc, data_loc, dict_ind):\n",
        "\n",
        "  ##Create a dictionary containing the images\n",
        "  dict_images = { k : os.listdir(os.path.join(data_loc, k)) for k in lst_members }\n",
        "\n",
        "  for k in dict_images.keys():\n",
        "    for i in range(dict_ind[k][0], dict_ind[k][1]):\n",
        "      src = os.path.join(os.path.join(data_loc, k), dict_images[k][i])\n",
        "      dst = os.path.join(os.path.join(stage_loc, k), dict_images[k][i])\n",
        "      shutil.copyfile(src, dst)\n",
        "\n",
        "##Keep indices for the data splits\n",
        "dict_train = {'Donkey': [0, 240], 'Horse': [0, 185], 'Zebra':[0, 185]}\n",
        "dict_val = {'Donkey': [240, 315], 'Horse': [185, 250], 'Zebra':[185, 249]}\n",
        "dict_test = {'Donkey': [315, 391], 'Horse': [250, 314],'Zebra': [249, 339]}\n",
        "\n",
        "stage_data_loc(os.path.join('.', 'train'), dataset_dir, dict_train)\n",
        "stage_data_loc(os.path.join('.', 'validation'), dataset_dir, dict_val)\n",
        "stage_data_loc(os.path.join('.', 'test'), dataset_dir, dict_test)\n"
      ],
      "execution_count": 0,
      "outputs": []
    },
    {
      "cell_type": "code",
      "metadata": {
        "id": "9H6sP8pTHqxt",
        "colab_type": "code",
        "outputId": "0ceafeb4-4c89-4b4b-f329-74cdf09f5ae4",
        "colab": {
          "base_uri": "https://localhost:8080/",
          "height": 68
        }
      },
      "source": [
        "##Count the number of files within each directory\n",
        "! ls -lh train/*/* | wc -l\n",
        "! ls -lh validation/*/* | wc -l\n",
        "! ls -lh test/*/* | wc -l"
      ],
      "execution_count": 8,
      "outputs": [
        {
          "output_type": "stream",
          "text": [
            "610\n",
            "204\n",
            "230\n"
          ],
          "name": "stdout"
        }
      ]
    },
    {
      "cell_type": "markdown",
      "metadata": {
        "id": "o0r9y23DjaGe",
        "colab_type": "text"
      },
      "source": [
        "Define Train and Test Operations"
      ]
    },
    {
      "cell_type": "code",
      "metadata": {
        "id": "FcvDpVyGjhcf",
        "colab_type": "code",
        "colab": {
          "base_uri": "https://localhost:8080/",
          "height": 34
        },
        "outputId": "b032fe78-706b-440c-92e7-f53f8d615bbf"
      },
      "source": [
        "import keras\n",
        "import matplotlib.pyplot as plt\n",
        "import tensorflow as tf\n",
        "\n",
        "def train_model(model, train, val, model_path):\n",
        "  ##Set the callbacks\n",
        "  callback_list = [\n",
        "  tf.keras.callbacks.EarlyStopping(\n",
        "    monitor='val_accuracy',\n",
        "    patience=8,\n",
        "    ),\n",
        "  tf.keras.callbacks.ModelCheckpoint(\n",
        "      filepath=model_path,\n",
        "      monitor='val_loss',\n",
        "      save_best_only=True,\n",
        "    )\n",
        "  ]\n",
        "\n",
        "  ##Train the model\n",
        "  history = model.fit(\n",
        "      train['gen'],\n",
        "      steps_per_epoch=train['steps'],\n",
        "      epochs=25,\n",
        "      callbacks = callback_list,\n",
        "      validation_data=val['gen'],\n",
        "      validation_steps=val['steps'])\n",
        "  \n",
        "  return history\n",
        "\n",
        "def disp_plot(history, title):\n",
        "  plt.figure()\n",
        "  plt.plot(history.history['accuracy'], 'bo', label='Training Acc')\n",
        "  plt.plot(history.history['val_accuracy'], 'b', label='Validation Acc')\n",
        "  plt.ylabel('Accuracy')\n",
        "  plt.xlabel('Epoch')\n",
        "  plt.title(title)\n",
        "  plt.legend()\n",
        "  plt.show()\n",
        "\n",
        "  plt.figure()\n",
        "  plt.plot(history.history['loss'], 'bo', label='Training Loss')\n",
        "  plt.plot(history.history['val_loss'], 'b', label='Validation Loss')\n",
        "  plt.ylabel('Loss')\n",
        "  plt.xlabel('Epoch')\n",
        "  plt.title(title)\n",
        "  plt.legend()\n",
        "  plt.show()\n",
        "\n",
        "def test_model(model, test):\n",
        "  ##Observe the results of the model against the test data\n",
        "  test_loss, test_acc = model.evaluate(\n",
        "    test['gen'],\n",
        "    steps=test['steps']\n",
        "  )\n",
        "  \n",
        "  return {'accuracy': test_acc, 'loss': test_loss }\n"
      ],
      "execution_count": 9,
      "outputs": [
        {
          "output_type": "stream",
          "text": [
            "Using TensorFlow backend.\n"
          ],
          "name": "stderr"
        }
      ]
    },
    {
      "cell_type": "markdown",
      "metadata": {
        "id": "bS8RIDlnzkGX",
        "colab_type": "text"
      },
      "source": [
        "Establish Baseline Data Generators"
      ]
    },
    {
      "cell_type": "code",
      "metadata": {
        "id": "VLYsPrerzqck",
        "colab_type": "code",
        "outputId": "9c0c537a-4dd9-4fb7-d6cc-2d4ea6768775",
        "colab": {
          "base_uri": "https://localhost:8080/",
          "height": 68
        }
      },
      "source": [
        "from tensorflow.keras.preprocessing.image import ImageDataGenerator\n",
        "\n",
        "train_dir = os.path.join('.', 'train')\n",
        "val_dir = os.path.join('.', 'validation')\n",
        "test_dir = os.path.join('.', 'test')\n",
        "\n",
        "train_batches = 61\n",
        "val_batches = 17\n",
        "test_batches = 23\n",
        "\n",
        "##Create Development Set Generators\n",
        "##Note that 61 * 10 = 610 training samples\n",
        "train_generator = ImageDataGenerator(rescale=1./255,\n",
        "                                     ).flow_from_directory(train_dir, target_size=(256, 256), batch_size=10, class_mode='categorical')\n",
        "##Note that 17 * 12 = 240 validation samples\n",
        "val_generator = ImageDataGenerator(rescale=1./255).flow_from_directory(val_dir, target_size=(256, 256), batch_size=12, class_mode='categorical')\n",
        "\n",
        "##Create Test Generator\n",
        "##Note that 23 * 10 = 230 Test samples\n",
        "test_generator = ImageDataGenerator(rescale=1./255).flow_from_directory(test_dir, target_size=(256,256), batch_size=10, class_mode='categorical')"
      ],
      "execution_count": 10,
      "outputs": [
        {
          "output_type": "stream",
          "text": [
            "Found 610 images belonging to 3 classes.\n",
            "Found 204 images belonging to 3 classes.\n",
            "Found 230 images belonging to 3 classes.\n"
          ],
          "name": "stdout"
        }
      ]
    },
    {
      "cell_type": "code",
      "metadata": {
        "id": "Zb5WrdxQzxVT",
        "colab_type": "code",
        "outputId": "bdadc686-ee7e-4491-8dc3-35fe015672ee",
        "colab": {
          "base_uri": "https://localhost:8080/",
          "height": 1000
        }
      },
      "source": [
        "from tensorflow.keras.models import Sequential\n",
        "from tensorflow.keras.layers import Dense, Conv2D, Flatten, MaxPooling2D\n",
        "\n",
        "model = Sequential()\n",
        "model.add( Conv2D( 12, ( 3, 3 ), activation = 'relu', input_shape = (256, 256, 3) ) )\n",
        "model.add( MaxPooling2D((2,2)) )\n",
        "model.add( Conv2D( 12, ( 3, 3 ), activation = 'relu' ) )\n",
        "model.add( MaxPooling2D((2,2)) )\n",
        "model.add( Conv2D( 32, ( 3, 3 ), activation = 'relu' ) )\n",
        "model.add( MaxPooling2D(2,2) )\n",
        "model.add( Conv2D( 32, (3, 3 ), activation='relu') )\n",
        "model.add( Flatten() )\n",
        "model.add( Dense( 24, activation = 'relu' ) )\n",
        "model.add( Dense( 12, activation = 'relu' ) )\n",
        "model.add( Dense( 3, activation = 'softmax' ) )\n",
        "model.summary()\n",
        "\n",
        "##Compile the model\n",
        "model.compile( optimizer = 'adam', loss = 'categorical_crossentropy', metrics = [ 'accuracy' ] )\n",
        "\n",
        "##Set the params from training\n",
        "train = {'gen': train_generator, 'steps': int( (1 + 0.0) * train_batches) }\n",
        "val = {'gen': val_generator, 'steps': val_batches }\n",
        "test = {'gen': test_generator, 'steps': test_batches }\n",
        "\n",
        "model_path = '4ConvMaxPool3DenseBaseline.h5'\n",
        "\n",
        "##Train the model\n",
        "history = train_model(model, train, val, model_path)\n",
        "disp_plot(history, model_path.split('.')[0])"
      ],
      "execution_count": 11,
      "outputs": [
        {
          "output_type": "stream",
          "text": [
            "Model: \"sequential\"\n",
            "_________________________________________________________________\n",
            "Layer (type)                 Output Shape              Param #   \n",
            "=================================================================\n",
            "conv2d (Conv2D)              (None, 254, 254, 12)      336       \n",
            "_________________________________________________________________\n",
            "max_pooling2d (MaxPooling2D) (None, 127, 127, 12)      0         \n",
            "_________________________________________________________________\n",
            "conv2d_1 (Conv2D)            (None, 125, 125, 12)      1308      \n",
            "_________________________________________________________________\n",
            "max_pooling2d_1 (MaxPooling2 (None, 62, 62, 12)        0         \n",
            "_________________________________________________________________\n",
            "conv2d_2 (Conv2D)            (None, 60, 60, 32)        3488      \n",
            "_________________________________________________________________\n",
            "max_pooling2d_2 (MaxPooling2 (None, 30, 30, 32)        0         \n",
            "_________________________________________________________________\n",
            "conv2d_3 (Conv2D)            (None, 28, 28, 32)        9248      \n",
            "_________________________________________________________________\n",
            "flatten (Flatten)            (None, 25088)             0         \n",
            "_________________________________________________________________\n",
            "dense (Dense)                (None, 24)                602136    \n",
            "_________________________________________________________________\n",
            "dense_1 (Dense)              (None, 12)                300       \n",
            "_________________________________________________________________\n",
            "dense_2 (Dense)              (None, 3)                 39        \n",
            "=================================================================\n",
            "Total params: 616,855\n",
            "Trainable params: 616,855\n",
            "Non-trainable params: 0\n",
            "_________________________________________________________________\n",
            "Epoch 1/25\n",
            "61/61 [==============================] - 3s 46ms/step - loss: 1.0914 - accuracy: 0.3869 - val_loss: 1.0255 - val_accuracy: 0.4559\n",
            "Epoch 2/25\n",
            "61/61 [==============================] - 2s 40ms/step - loss: 0.8786 - accuracy: 0.5852 - val_loss: 0.7612 - val_accuracy: 0.6618\n",
            "Epoch 3/25\n",
            "61/61 [==============================] - 2s 39ms/step - loss: 0.6951 - accuracy: 0.7066 - val_loss: 0.6373 - val_accuracy: 0.7157\n",
            "Epoch 4/25\n",
            "61/61 [==============================] - 2s 38ms/step - loss: 0.5475 - accuracy: 0.7443 - val_loss: 0.7321 - val_accuracy: 0.6765\n",
            "Epoch 5/25\n",
            "61/61 [==============================] - 2s 39ms/step - loss: 0.5279 - accuracy: 0.7459 - val_loss: 0.6973 - val_accuracy: 0.6863\n",
            "Epoch 6/25\n",
            "61/61 [==============================] - 2s 37ms/step - loss: 0.4413 - accuracy: 0.8148 - val_loss: 0.7055 - val_accuracy: 0.7402\n",
            "Epoch 7/25\n",
            "61/61 [==============================] - 2s 38ms/step - loss: 0.3927 - accuracy: 0.8279 - val_loss: 0.7304 - val_accuracy: 0.6863\n",
            "Epoch 8/25\n",
            "61/61 [==============================] - 2s 37ms/step - loss: 0.3745 - accuracy: 0.8393 - val_loss: 0.8324 - val_accuracy: 0.7451\n",
            "Epoch 9/25\n",
            "61/61 [==============================] - 2s 38ms/step - loss: 0.3826 - accuracy: 0.8754 - val_loss: 0.8216 - val_accuracy: 0.6765\n",
            "Epoch 10/25\n",
            "61/61 [==============================] - 2s 38ms/step - loss: 0.3555 - accuracy: 0.8672 - val_loss: 0.6525 - val_accuracy: 0.7255\n",
            "Epoch 11/25\n",
            "61/61 [==============================] - 2s 38ms/step - loss: 0.1830 - accuracy: 0.9311 - val_loss: 1.3238 - val_accuracy: 0.7255\n",
            "Epoch 12/25\n",
            "61/61 [==============================] - 2s 39ms/step - loss: 0.1353 - accuracy: 0.9475 - val_loss: 1.0059 - val_accuracy: 0.7108\n",
            "Epoch 13/25\n",
            "61/61 [==============================] - 2s 38ms/step - loss: 0.1153 - accuracy: 0.9590 - val_loss: 1.3884 - val_accuracy: 0.6667\n",
            "Epoch 14/25\n",
            "61/61 [==============================] - 2s 38ms/step - loss: 0.1069 - accuracy: 0.9639 - val_loss: 1.1021 - val_accuracy: 0.6961\n",
            "Epoch 15/25\n",
            "61/61 [==============================] - 2s 38ms/step - loss: 0.0769 - accuracy: 0.9689 - val_loss: 1.9623 - val_accuracy: 0.6569\n",
            "Epoch 16/25\n",
            "61/61 [==============================] - 2s 38ms/step - loss: 0.0313 - accuracy: 0.9902 - val_loss: 2.1583 - val_accuracy: 0.6569\n"
          ],
          "name": "stdout"
        },
        {
          "output_type": "display_data",
          "data": {
            "image/png": "[encoded data removed]",
            "text/plain": [
              "<Figure size 432x288 with 1 Axes>"
            ]
          },
          "metadata": {
            "tags": [],
            "needs_background": "light"
          }
        },
        {
          "output_type": "display_data",
          "data": {
            "image/png": "[encoded data removed]",
            "text/plain": [
              "<Figure size 432x288 with 1 Axes>"
            ]
          },
          "metadata": {
            "tags": [],
            "needs_background": "light"
          }
        }
      ]
    },
    {
      "cell_type": "code",
      "metadata": {
        "id": "FI9UNY0q0AnP",
        "colab_type": "code",
        "outputId": "d354a2e2-8525-4a45-8c71-32987e7a5250",
        "colab": {
          "base_uri": "https://localhost:8080/",
          "height": 85
        }
      },
      "source": [
        "##Load the weights of the best model acquired in training\n",
        "model.load_weights(model_path)\n",
        "\n",
        "results = test_model(model, test)\n",
        "print(f'Test: {results}')\n",
        "\n",
        "results = test_model(model, val)\n",
        "print(f'Val: {results}')"
      ],
      "execution_count": 12,
      "outputs": [
        {
          "output_type": "stream",
          "text": [
            "23/23 [==============================] - 1s 24ms/step - loss: 0.6130 - accuracy: 0.7087\n",
            "Test: {'accuracy': 0.708695650100708, 'loss': 0.6129947900772095}\n",
            "17/17 [==============================] - 0s 29ms/step - loss: 0.6401 - accuracy: 0.7059\n",
            "Val: {'accuracy': 0.7058823704719543, 'loss': 0.6400743126869202}\n"
          ],
          "name": "stdout"
        }
      ]
    },
    {
      "cell_type": "markdown",
      "metadata": {
        "id": "9ylxcIz3HzXy",
        "colab_type": "text"
      },
      "source": [
        "Establish the Six Degrees of Freedom Data Generators"
      ]
    },
    {
      "cell_type": "code",
      "metadata": {
        "id": "mgAukmT9H4iu",
        "colab_type": "code",
        "outputId": "c1b9b3d3-48b4-4d2d-d7da-cda85071277c",
        "colab": {
          "base_uri": "https://localhost:8080/",
          "height": 68
        }
      },
      "source": [
        "from tensorflow.keras.preprocessing.image import ImageDataGenerator\n",
        "\n",
        "train_dir = os.path.join('.', 'train')\n",
        "val_dir = os.path.join('.', 'validation')\n",
        "test_dir = os.path.join('.', 'test')\n",
        "\n",
        "train_batches = 61\n",
        "val_batches = 17\n",
        "test_batches = 23\n",
        "\n",
        "##Create Development Set Generators\n",
        "##Note that 61 * 10 = 610 training samples\n",
        "train_generator = ImageDataGenerator(rescale=1./255,\n",
        "                                     rotation_range=30,\n",
        "                                     width_shift_range=0.2,\n",
        "                                     height_shift_range=0.2,\n",
        "                                     horizontal_flip=True,\n",
        "                                     fill_mode='nearest',\n",
        "                                     ).flow_from_directory(train_dir, target_size=(256, 256), batch_size=10, class_mode='categorical')\n",
        "##Note that 17 * 12 = 240 validation samples\n",
        "val_generator = ImageDataGenerator(rescale=1./255).flow_from_directory(val_dir, target_size=(256, 256), batch_size=12, class_mode='categorical')\n",
        "\n",
        "##Create Test Generator\n",
        "##Note that 23 * 10 = 230 Test samples\n",
        "test_generator = ImageDataGenerator(rescale=1./255).flow_from_directory(test_dir, target_size=(256,256), batch_size=10, class_mode='categorical')"
      ],
      "execution_count": 13,
      "outputs": [
        {
          "output_type": "stream",
          "text": [
            "Found 610 images belonging to 3 classes.\n",
            "Found 204 images belonging to 3 classes.\n",
            "Found 230 images belonging to 3 classes.\n"
          ],
          "name": "stdout"
        }
      ]
    },
    {
      "cell_type": "markdown",
      "metadata": {
        "id": "56Xry6rcnM1m",
        "colab_type": "text"
      },
      "source": [
        "Run Best Validation Loss Model Against Six Degree of Freedom Data"
      ]
    },
    {
      "cell_type": "code",
      "metadata": {
        "id": "YypzhH02nMY_",
        "colab_type": "code",
        "outputId": "13d634d4-ea85-4e53-e264-4c814b40afac",
        "colab": {
          "base_uri": "https://localhost:8080/",
          "height": 1000
        }
      },
      "source": [
        "from tensorflow.keras.models import Sequential\n",
        "from tensorflow.keras.layers import Dense, Conv2D, Flatten, MaxPooling2D\n",
        "\n",
        "model = Sequential()\n",
        "model.add( Conv2D( 12, ( 3, 3 ), activation = 'relu', input_shape = (256, 256, 3) ) )\n",
        "model.add( MaxPooling2D((2,2)) )\n",
        "model.add( Conv2D( 12, ( 3, 3 ), activation = 'relu' ) )\n",
        "model.add( MaxPooling2D((2,2)) )\n",
        "model.add( Conv2D( 32, ( 3, 3 ), activation = 'relu' ) )\n",
        "model.add( MaxPooling2D(2,2) )\n",
        "model.add( Conv2D( 32, (3, 3 ), activation='relu') )\n",
        "model.add( Flatten() )\n",
        "model.add( Dense( 24, activation = 'relu' ) )\n",
        "model.add( Dense( 12, activation = 'relu' ) )\n",
        "model.add( Dense( 3, activation = 'softmax' ) )\n",
        "model.summary()\n",
        "\n",
        "##Compile the model\n",
        "model.compile( optimizer = 'adam', loss = 'categorical_crossentropy', metrics = [ 'accuracy' ] )\n",
        "\n",
        "##Set the params from training\n",
        "train = {'gen': train_generator, 'steps': int( (1 + 1.0) * train_batches) }\n",
        "val = {'gen': val_generator, 'steps': val_batches }\n",
        "test = {'gen': test_generator, 'steps': test_batches }\n",
        "\n",
        "model_path = '4ConvMaxPool3Dense.h5'\n",
        "\n",
        "##Train the model\n",
        "history = train_model(model, train, val, model_path)\n",
        "disp_plot(history, model_path.split('.')[0])"
      ],
      "execution_count": 14,
      "outputs": [
        {
          "output_type": "stream",
          "text": [
            "Model: \"sequential_1\"\n",
            "_________________________________________________________________\n",
            "Layer (type)                 Output Shape              Param #   \n",
            "=================================================================\n",
            "conv2d_4 (Conv2D)            (None, 254, 254, 12)      336       \n",
            "_________________________________________________________________\n",
            "max_pooling2d_3 (MaxPooling2 (None, 127, 127, 12)      0         \n",
            "_________________________________________________________________\n",
            "conv2d_5 (Conv2D)            (None, 125, 125, 12)      1308      \n",
            "_________________________________________________________________\n",
            "max_pooling2d_4 (MaxPooling2 (None, 62, 62, 12)        0         \n",
            "_________________________________________________________________\n",
            "conv2d_6 (Conv2D)            (None, 60, 60, 32)        3488      \n",
            "_________________________________________________________________\n",
            "max_pooling2d_5 (MaxPooling2 (None, 30, 30, 32)        0         \n",
            "_________________________________________________________________\n",
            "conv2d_7 (Conv2D)            (None, 28, 28, 32)        9248      \n",
            "_________________________________________________________________\n",
            "flatten_1 (Flatten)          (None, 25088)             0         \n",
            "_________________________________________________________________\n",
            "dense_3 (Dense)              (None, 24)                602136    \n",
            "_________________________________________________________________\n",
            "dense_4 (Dense)              (None, 12)                300       \n",
            "_________________________________________________________________\n",
            "dense_5 (Dense)              (None, 3)                 39        \n",
            "=================================================================\n",
            "Total params: 616,855\n",
            "Trainable params: 616,855\n",
            "Non-trainable params: 0\n",
            "_________________________________________________________________\n",
            "Epoch 1/25\n",
            "122/122 [==============================] - 21s 170ms/step - loss: 0.9509 - accuracy: 0.4910 - val_loss: 1.2231 - val_accuracy: 0.5441\n",
            "Epoch 2/25\n",
            "122/122 [==============================] - 21s 173ms/step - loss: 0.7449 - accuracy: 0.6148 - val_loss: 0.8904 - val_accuracy: 0.5833\n",
            "Epoch 3/25\n",
            "122/122 [==============================] - 21s 170ms/step - loss: 0.6780 - accuracy: 0.6623 - val_loss: 0.9923 - val_accuracy: 0.6127\n",
            "Epoch 4/25\n",
            "122/122 [==============================] - 20s 167ms/step - loss: 0.6601 - accuracy: 0.6656 - val_loss: 0.8312 - val_accuracy: 0.6765\n",
            "Epoch 5/25\n",
            "122/122 [==============================] - 21s 168ms/step - loss: 0.5833 - accuracy: 0.7066 - val_loss: 1.2906 - val_accuracy: 0.6373\n",
            "Epoch 6/25\n",
            "122/122 [==============================] - 21s 170ms/step - loss: 0.5813 - accuracy: 0.7000 - val_loss: 0.5860 - val_accuracy: 0.7304\n",
            "Epoch 7/25\n",
            "122/122 [==============================] - 20s 167ms/step - loss: 0.5620 - accuracy: 0.7328 - val_loss: 0.6644 - val_accuracy: 0.7353\n",
            "Epoch 8/25\n",
            "122/122 [==============================] - 20s 167ms/step - loss: 0.5172 - accuracy: 0.7426 - val_loss: 0.8684 - val_accuracy: 0.7353\n",
            "Epoch 9/25\n",
            "122/122 [==============================] - 20s 168ms/step - loss: 0.5033 - accuracy: 0.7566 - val_loss: 0.9059 - val_accuracy: 0.6520\n",
            "Epoch 10/25\n",
            "122/122 [==============================] - 20s 166ms/step - loss: 0.5197 - accuracy: 0.7607 - val_loss: 0.8370 - val_accuracy: 0.6667\n",
            "Epoch 11/25\n",
            "122/122 [==============================] - 20s 166ms/step - loss: 0.5061 - accuracy: 0.7639 - val_loss: 0.8015 - val_accuracy: 0.6716\n",
            "Epoch 12/25\n",
            "122/122 [==============================] - 20s 165ms/step - loss: 0.5055 - accuracy: 0.7615 - val_loss: 0.5906 - val_accuracy: 0.7598\n",
            "Epoch 13/25\n",
            "122/122 [==============================] - 20s 164ms/step - loss: 0.4640 - accuracy: 0.7959 - val_loss: 1.8778 - val_accuracy: 0.6324\n",
            "Epoch 14/25\n",
            "122/122 [==============================] - 20s 165ms/step - loss: 0.4707 - accuracy: 0.7762 - val_loss: 0.6699 - val_accuracy: 0.7157\n",
            "Epoch 15/25\n",
            "122/122 [==============================] - 20s 165ms/step - loss: 0.4052 - accuracy: 0.8098 - val_loss: 0.7353 - val_accuracy: 0.7304\n",
            "Epoch 16/25\n",
            "122/122 [==============================] - 20s 166ms/step - loss: 0.4571 - accuracy: 0.7910 - val_loss: 0.8826 - val_accuracy: 0.7402\n",
            "Epoch 17/25\n",
            "122/122 [==============================] - 20s 168ms/step - loss: 0.4321 - accuracy: 0.7926 - val_loss: 0.7373 - val_accuracy: 0.7598\n",
            "Epoch 18/25\n",
            "122/122 [==============================] - 20s 167ms/step - loss: 0.4353 - accuracy: 0.8057 - val_loss: 1.0238 - val_accuracy: 0.7108\n",
            "Epoch 19/25\n",
            "122/122 [==============================] - 20s 166ms/step - loss: 0.4369 - accuracy: 0.7943 - val_loss: 0.7299 - val_accuracy: 0.7353\n",
            "Epoch 20/25\n",
            "122/122 [==============================] - 20s 168ms/step - loss: 0.4541 - accuracy: 0.7951 - val_loss: 0.6523 - val_accuracy: 0.7696\n",
            "Epoch 21/25\n",
            "122/122 [==============================] - 21s 170ms/step - loss: 0.4200 - accuracy: 0.8148 - val_loss: 0.7488 - val_accuracy: 0.7745\n",
            "Epoch 22/25\n",
            "122/122 [==============================] - 21s 173ms/step - loss: 0.4170 - accuracy: 0.8107 - val_loss: 1.0976 - val_accuracy: 0.7304\n",
            "Epoch 23/25\n",
            "122/122 [==============================] - 21s 172ms/step - loss: 0.3866 - accuracy: 0.8221 - val_loss: 1.5279 - val_accuracy: 0.7304\n",
            "Epoch 24/25\n",
            "122/122 [==============================] - 20s 167ms/step - loss: 0.3957 - accuracy: 0.8156 - val_loss: 1.6495 - val_accuracy: 0.7255\n",
            "Epoch 25/25\n",
            "122/122 [==============================] - 20s 165ms/step - loss: 0.4223 - accuracy: 0.8057 - val_loss: 1.3731 - val_accuracy: 0.7108\n"
          ],
          "name": "stdout"
        },
        {
          "output_type": "display_data",
          "data": {
            "image/png": "[encoded data removed]",
            "text/plain": [
              "<Figure size 432x288 with 1 Axes>"
            ]
          },
          "metadata": {
            "tags": [],
            "needs_background": "light"
          }
        },
        {
          "output_type": "display_data",
          "data": {
            "image/png": "[encoded data removed]",
            "text/plain": [
              "<Figure size 432x288 with 1 Axes>"
            ]
          },
          "metadata": {
            "tags": [],
            "needs_background": "light"
          }
        }
      ]
    },
    {
      "cell_type": "code",
      "metadata": {
        "id": "cVVw2QPyrAmU",
        "colab_type": "code",
        "outputId": "ad756ff4-de7b-4a91-8f56-89cb77f97681",
        "colab": {
          "base_uri": "https://localhost:8080/",
          "height": 85
        }
      },
      "source": [
        "##Load the weights of the best model acquired in training\n",
        "model.load_weights(model_path)\n",
        "\n",
        "results = test_model(model, test)\n",
        "print(f'Test: {results}')\n",
        "\n",
        "results = test_model(model, val)\n",
        "print(f'Val: {results}')"
      ],
      "execution_count": 15,
      "outputs": [
        {
          "output_type": "stream",
          "text": [
            "23/23 [==============================] - 1s 24ms/step - loss: 0.5798 - accuracy: 0.7174\n",
            "Test: {'accuracy': 0.717391312122345, 'loss': 0.5797961354255676}\n",
            "17/17 [==============================] - 1s 30ms/step - loss: 0.5683 - accuracy: 0.7353\n",
            "Val: {'accuracy': 0.7352941036224365, 'loss': 0.568266749382019}\n"
          ],
          "name": "stdout"
        }
      ]
    },
    {
      "cell_type": "markdown",
      "metadata": {
        "id": "vqQIMygbvf-N",
        "colab_type": "text"
      },
      "source": [
        "Model with Data Augmentation and Dropout 0.2\n",
        "\n"
      ]
    },
    {
      "cell_type": "code",
      "metadata": {
        "id": "xMHEgKHLvjcq",
        "colab_type": "code",
        "outputId": "b4db1c83-954b-4a41-d4ac-3c2a54e530a3",
        "colab": {
          "base_uri": "https://localhost:8080/",
          "height": 1000
        }
      },
      "source": [
        "from tensorflow.keras.models import Sequential\n",
        "from tensorflow.keras.layers import Dense, Conv2D, Flatten, MaxPooling2D, Dropout\n",
        "\n",
        "model = Sequential()\n",
        "model.add( Conv2D( 12, ( 3, 3 ), activation = 'relu', input_shape = (256, 256, 3) ) )\n",
        "model.add( MaxPooling2D((2,2)) )\n",
        "model.add( Conv2D( 12, ( 3, 3 ), activation = 'relu' ) )\n",
        "model.add( MaxPooling2D((2,2)) )\n",
        "model.add( Conv2D( 32, ( 3, 3 ), activation = 'relu' ) )\n",
        "model.add( MaxPooling2D(2,2) )\n",
        "model.add( Conv2D( 32, (3, 3 ), activation='relu') )\n",
        "model.add( Flatten() )\n",
        "model.add( Dropout(0.2) )\n",
        "model.add( Dense( 24, activation = 'relu' ) )\n",
        "model.add( Dense( 12, activation = 'relu' ) )\n",
        "model.add( Dense( 3, activation = 'softmax' ) )\n",
        "model.summary()\n",
        "\n",
        "##Compile the model\n",
        "model.compile( optimizer = 'adam', loss = 'categorical_crossentropy', metrics = [ 'accuracy' ] )\n",
        "\n",
        "##Set the params from training\n",
        "train = {'gen': train_generator, 'steps': int( (1 + 1.0) * train_batches) }\n",
        "val = {'gen': val_generator, 'steps': val_batches }\n",
        "test = {'gen': test_generator, 'steps': test_batches }\n",
        "\n",
        "model_path = '4ConvMaxPool3DenseDropout2.h5'\n",
        "\n",
        "##Train the model\n",
        "history = train_model(model, train, val, model_path)\n",
        "disp_plot(history, model_path.split('.')[0])"
      ],
      "execution_count": 16,
      "outputs": [
        {
          "output_type": "stream",
          "text": [
            "Model: \"sequential_2\"\n",
            "_________________________________________________________________\n",
            "Layer (type)                 Output Shape              Param #   \n",
            "=================================================================\n",
            "conv2d_8 (Conv2D)            (None, 254, 254, 12)      336       \n",
            "_________________________________________________________________\n",
            "max_pooling2d_6 (MaxPooling2 (None, 127, 127, 12)      0         \n",
            "_________________________________________________________________\n",
            "conv2d_9 (Conv2D)            (None, 125, 125, 12)      1308      \n",
            "_________________________________________________________________\n",
            "max_pooling2d_7 (MaxPooling2 (None, 62, 62, 12)        0         \n",
            "_________________________________________________________________\n",
            "conv2d_10 (Conv2D)           (None, 60, 60, 32)        3488      \n",
            "_________________________________________________________________\n",
            "max_pooling2d_8 (MaxPooling2 (None, 30, 30, 32)        0         \n",
            "_________________________________________________________________\n",
            "conv2d_11 (Conv2D)           (None, 28, 28, 32)        9248      \n",
            "_________________________________________________________________\n",
            "flatten_2 (Flatten)          (None, 25088)             0         \n",
            "_________________________________________________________________\n",
            "dropout (Dropout)            (None, 25088)             0         \n",
            "_________________________________________________________________\n",
            "dense_6 (Dense)              (None, 24)                602136    \n",
            "_________________________________________________________________\n",
            "dense_7 (Dense)              (None, 12)                300       \n",
            "_________________________________________________________________\n",
            "dense_8 (Dense)              (None, 3)                 39        \n",
            "=================================================================\n",
            "Total params: 616,855\n",
            "Trainable params: 616,855\n",
            "Non-trainable params: 0\n",
            "_________________________________________________________________\n",
            "Epoch 1/25\n",
            "122/122 [==============================] - 20s 166ms/step - loss: 1.0454 - accuracy: 0.4598 - val_loss: 0.7943 - val_accuracy: 0.6324\n",
            "Epoch 2/25\n",
            "122/122 [==============================] - 20s 166ms/step - loss: 0.7539 - accuracy: 0.6738 - val_loss: 1.0609 - val_accuracy: 0.5980\n",
            "Epoch 3/25\n",
            "122/122 [==============================] - 20s 167ms/step - loss: 0.6421 - accuracy: 0.7254 - val_loss: 1.4480 - val_accuracy: 0.5686\n",
            "Epoch 4/25\n",
            "122/122 [==============================] - 20s 166ms/step - loss: 0.5905 - accuracy: 0.7434 - val_loss: 0.8203 - val_accuracy: 0.7108\n",
            "Epoch 5/25\n",
            "122/122 [==============================] - 20s 163ms/step - loss: 0.5541 - accuracy: 0.7623 - val_loss: 1.0947 - val_accuracy: 0.5784\n",
            "Epoch 6/25\n",
            "122/122 [==============================] - 20s 163ms/step - loss: 0.5332 - accuracy: 0.7607 - val_loss: 0.6153 - val_accuracy: 0.7500\n",
            "Epoch 7/25\n",
            "122/122 [==============================] - 20s 164ms/step - loss: 0.5345 - accuracy: 0.7615 - val_loss: 0.6545 - val_accuracy: 0.7206\n",
            "Epoch 8/25\n",
            "122/122 [==============================] - 20s 165ms/step - loss: 0.4891 - accuracy: 0.7844 - val_loss: 1.0904 - val_accuracy: 0.6814\n",
            "Epoch 9/25\n",
            "122/122 [==============================] - 20s 163ms/step - loss: 0.5046 - accuracy: 0.7680 - val_loss: 0.6965 - val_accuracy: 0.7108\n",
            "Epoch 10/25\n",
            "122/122 [==============================] - 20s 163ms/step - loss: 0.4761 - accuracy: 0.7984 - val_loss: 0.6182 - val_accuracy: 0.7549\n",
            "Epoch 11/25\n",
            "122/122 [==============================] - 20s 163ms/step - loss: 0.4769 - accuracy: 0.7885 - val_loss: 0.8578 - val_accuracy: 0.7304\n",
            "Epoch 12/25\n",
            "122/122 [==============================] - 21s 168ms/step - loss: 0.4918 - accuracy: 0.7779 - val_loss: 0.7159 - val_accuracy: 0.7304\n",
            "Epoch 13/25\n",
            "122/122 [==============================] - 21s 168ms/step - loss: 0.4504 - accuracy: 0.8008 - val_loss: 0.6601 - val_accuracy: 0.7549\n",
            "Epoch 14/25\n",
            "122/122 [==============================] - 21s 171ms/step - loss: 0.4517 - accuracy: 0.7861 - val_loss: 0.9019 - val_accuracy: 0.7304\n",
            "Epoch 15/25\n",
            "122/122 [==============================] - 21s 170ms/step - loss: 0.4284 - accuracy: 0.8090 - val_loss: 1.0894 - val_accuracy: 0.7157\n",
            "Epoch 16/25\n",
            "122/122 [==============================] - 21s 173ms/step - loss: 0.4644 - accuracy: 0.8049 - val_loss: 0.8433 - val_accuracy: 0.7696\n",
            "Epoch 17/25\n",
            "122/122 [==============================] - 21s 169ms/step - loss: 0.4167 - accuracy: 0.8000 - val_loss: 0.6648 - val_accuracy: 0.7990\n",
            "Epoch 18/25\n",
            "122/122 [==============================] - 21s 169ms/step - loss: 0.4174 - accuracy: 0.8000 - val_loss: 0.9547 - val_accuracy: 0.7843\n",
            "Epoch 19/25\n",
            "122/122 [==============================] - 21s 169ms/step - loss: 0.4107 - accuracy: 0.8148 - val_loss: 1.0547 - val_accuracy: 0.7304\n",
            "Epoch 20/25\n",
            "122/122 [==============================] - 21s 168ms/step - loss: 0.4094 - accuracy: 0.8131 - val_loss: 0.8743 - val_accuracy: 0.7108\n",
            "Epoch 21/25\n",
            "122/122 [==============================] - 21s 169ms/step - loss: 0.3914 - accuracy: 0.8262 - val_loss: 0.6689 - val_accuracy: 0.7990\n",
            "Epoch 22/25\n",
            "122/122 [==============================] - 21s 168ms/step - loss: 0.4291 - accuracy: 0.8131 - val_loss: 0.6492 - val_accuracy: 0.7402\n",
            "Epoch 23/25\n",
            "122/122 [==============================] - 20s 166ms/step - loss: 0.3757 - accuracy: 0.8262 - val_loss: 1.1613 - val_accuracy: 0.7402\n",
            "Epoch 24/25\n",
            "122/122 [==============================] - 20s 168ms/step - loss: 0.3865 - accuracy: 0.8279 - val_loss: 0.7005 - val_accuracy: 0.8088\n",
            "Epoch 25/25\n",
            "122/122 [==============================] - 21s 170ms/step - loss: 0.3929 - accuracy: 0.8336 - val_loss: 0.8000 - val_accuracy: 0.7990\n"
          ],
          "name": "stdout"
        },
        {
          "output_type": "display_data",
          "data": {
            "image/png": "[encoded data removed]",
            "text/plain": [
              "<Figure size 432x288 with 1 Axes>"
            ]
          },
          "metadata": {
            "tags": [],
            "needs_background": "light"
          }
        },
        {
          "output_type": "display_data",
          "data": {
            "image/png": "[encoded data removed]",
            "text/plain": [
              "<Figure size 432x288 with 1 Axes>"
            ]
          },
          "metadata": {
            "tags": [],
            "needs_background": "light"
          }
        }
      ]
    },
    {
      "cell_type": "code",
      "metadata": {
        "id": "NrQm3F91xDiW",
        "colab_type": "code",
        "outputId": "63c3dd0b-3782-41eb-d226-a831c39d0c59",
        "colab": {
          "base_uri": "https://localhost:8080/",
          "height": 85
        }
      },
      "source": [
        "##Load the weights of the best model acquired in training\n",
        "model.load_weights(model_path)\n",
        "\n",
        "results = test_model(model, test)\n",
        "print(f'Test: {results}')\n",
        "\n",
        "results = test_model(model, val)\n",
        "print(f'Val: {results}')"
      ],
      "execution_count": 17,
      "outputs": [
        {
          "output_type": "stream",
          "text": [
            "23/23 [==============================] - 1s 27ms/step - loss: 0.5438 - accuracy: 0.7435\n",
            "Test: {'accuracy': 0.7434782385826111, 'loss': 0.543770968914032}\n",
            "17/17 [==============================] - 0s 29ms/step - loss: 0.6067 - accuracy: 0.7598\n",
            "Val: {'accuracy': 0.7598039507865906, 'loss': 0.6067448854446411}\n"
          ],
          "name": "stdout"
        }
      ]
    },
    {
      "cell_type": "markdown",
      "metadata": {
        "id": "WnzK5NVcxLE4",
        "colab_type": "text"
      },
      "source": [
        "Model with Data Augmentation and Dropout 0.5"
      ]
    },
    {
      "cell_type": "code",
      "metadata": {
        "id": "IAJy2kPPxXTi",
        "colab_type": "code",
        "outputId": "921a1304-a156-4a69-a0a1-b8fa2db12e2d",
        "colab": {
          "base_uri": "https://localhost:8080/",
          "height": 1000
        }
      },
      "source": [
        "from tensorflow.keras.models import Sequential\n",
        "from tensorflow.keras.layers import Dense, Conv2D, Flatten, MaxPooling2D, Dropout\n",
        "\n",
        "model = Sequential()\n",
        "model.add( Conv2D( 12, ( 3, 3 ), activation = 'relu', input_shape = (256, 256, 3) ) )\n",
        "model.add( MaxPooling2D((2,2)) )\n",
        "model.add( Conv2D( 12, ( 3, 3 ), activation = 'relu' ) )\n",
        "model.add( MaxPooling2D((2,2)) )\n",
        "model.add( Conv2D( 32, ( 3, 3 ), activation = 'relu' ) )\n",
        "model.add( MaxPooling2D(2,2) )\n",
        "model.add( Conv2D( 32, (3, 3 ), activation='relu') )\n",
        "model.add( Flatten() )\n",
        "model.add( Dropout(0.5) )\n",
        "model.add( Dense( 24, activation = 'relu' ) )\n",
        "model.add( Dense( 12, activation = 'relu' ) )\n",
        "model.add( Dense( 3, activation = 'softmax' ) )\n",
        "model.summary()\n",
        "\n",
        "##Compile the model\n",
        "model.compile( optimizer = 'adam', loss = 'categorical_crossentropy', metrics = [ 'accuracy' ] )\n",
        "\n",
        "##Set the params from training\n",
        "train = {'gen': train_generator, 'steps': int( (1 + 1.0) * train_batches) }\n",
        "val = {'gen': val_generator, 'steps': val_batches }\n",
        "test = {'gen': test_generator, 'steps': test_batches }\n",
        "\n",
        "model_path = '4ConvMaxPool3DenseDropout5.h5'\n",
        "\n",
        "##Train the model\n",
        "history = train_model(model, train, val, model_path)\n",
        "disp_plot(history, model_path.split('.')[0])"
      ],
      "execution_count": 18,
      "outputs": [
        {
          "output_type": "stream",
          "text": [
            "Model: \"sequential_3\"\n",
            "_________________________________________________________________\n",
            "Layer (type)                 Output Shape              Param #   \n",
            "=================================================================\n",
            "conv2d_12 (Conv2D)           (None, 254, 254, 12)      336       \n",
            "_________________________________________________________________\n",
            "max_pooling2d_9 (MaxPooling2 (None, 127, 127, 12)      0         \n",
            "_________________________________________________________________\n",
            "conv2d_13 (Conv2D)           (None, 125, 125, 12)      1308      \n",
            "_________________________________________________________________\n",
            "max_pooling2d_10 (MaxPooling (None, 62, 62, 12)        0         \n",
            "_________________________________________________________________\n",
            "conv2d_14 (Conv2D)           (None, 60, 60, 32)        3488      \n",
            "_________________________________________________________________\n",
            "max_pooling2d_11 (MaxPooling (None, 30, 30, 32)        0         \n",
            "_________________________________________________________________\n",
            "conv2d_15 (Conv2D)           (None, 28, 28, 32)        9248      \n",
            "_________________________________________________________________\n",
            "flatten_3 (Flatten)          (None, 25088)             0         \n",
            "_________________________________________________________________\n",
            "dropout_1 (Dropout)          (None, 25088)             0         \n",
            "_________________________________________________________________\n",
            "dense_9 (Dense)              (None, 24)                602136    \n",
            "_________________________________________________________________\n",
            "dense_10 (Dense)             (None, 12)                300       \n",
            "_________________________________________________________________\n",
            "dense_11 (Dense)             (None, 3)                 39        \n",
            "=================================================================\n",
            "Total params: 616,855\n",
            "Trainable params: 616,855\n",
            "Non-trainable params: 0\n",
            "_________________________________________________________________\n",
            "Epoch 1/25\n",
            "122/122 [==============================] - 21s 176ms/step - loss: 0.9880 - accuracy: 0.4705 - val_loss: 0.8385 - val_accuracy: 0.6078\n",
            "Epoch 2/25\n",
            "122/122 [==============================] - 21s 176ms/step - loss: 0.6566 - accuracy: 0.7082 - val_loss: 0.9962 - val_accuracy: 0.6225\n",
            "Epoch 3/25\n",
            "122/122 [==============================] - 21s 175ms/step - loss: 0.6522 - accuracy: 0.6910 - val_loss: 1.2372 - val_accuracy: 0.6275\n",
            "Epoch 4/25\n",
            "122/122 [==============================] - 21s 171ms/step - loss: 0.5886 - accuracy: 0.7172 - val_loss: 1.2069 - val_accuracy: 0.5931\n",
            "Epoch 5/25\n",
            "122/122 [==============================] - 21s 172ms/step - loss: 0.5874 - accuracy: 0.7254 - val_loss: 0.5523 - val_accuracy: 0.7500\n",
            "Epoch 6/25\n",
            "122/122 [==============================] - 21s 170ms/step - loss: 0.5215 - accuracy: 0.7672 - val_loss: 1.0463 - val_accuracy: 0.7206\n",
            "Epoch 7/25\n",
            "122/122 [==============================] - 21s 171ms/step - loss: 0.5177 - accuracy: 0.7779 - val_loss: 1.2085 - val_accuracy: 0.6912\n",
            "Epoch 8/25\n",
            "122/122 [==============================] - 21s 169ms/step - loss: 0.4888 - accuracy: 0.7754 - val_loss: 0.8256 - val_accuracy: 0.7402\n",
            "Epoch 9/25\n",
            "122/122 [==============================] - 20s 167ms/step - loss: 0.4938 - accuracy: 0.7762 - val_loss: 0.8547 - val_accuracy: 0.6765\n",
            "Epoch 10/25\n",
            "122/122 [==============================] - 20s 167ms/step - loss: 0.5046 - accuracy: 0.7836 - val_loss: 1.3911 - val_accuracy: 0.6520\n",
            "Epoch 11/25\n",
            "122/122 [==============================] - 20s 166ms/step - loss: 0.4931 - accuracy: 0.7852 - val_loss: 0.8281 - val_accuracy: 0.7255\n",
            "Epoch 12/25\n",
            "122/122 [==============================] - 20s 166ms/step - loss: 0.4709 - accuracy: 0.8016 - val_loss: 0.8817 - val_accuracy: 0.6912\n",
            "Epoch 13/25\n",
            "122/122 [==============================] - 20s 166ms/step - loss: 0.4723 - accuracy: 0.7787 - val_loss: 1.0989 - val_accuracy: 0.6961\n"
          ],
          "name": "stdout"
        },
        {
          "output_type": "display_data",
          "data": {
            "image/png": "[encoded data removed]",
            "text/plain": [
              "<Figure size 432x288 with 1 Axes>"
            ]
          },
          "metadata": {
            "tags": [],
            "needs_background": "light"
          }
        },
        {
          "output_type": "display_data",
          "data": {
            "image/png": "[encoded data removed]",
            "text/plain": [
              "<Figure size 432x288 with 1 Axes>"
            ]
          },
          "metadata": {
            "tags": [],
            "needs_background": "light"
          }
        }
      ]
    },
    {
      "cell_type": "code",
      "metadata": {
        "id": "INmYMigwxaqb",
        "colab_type": "code",
        "outputId": "00a4c591-b63d-4d92-c268-1dbd59bddd47",
        "colab": {
          "base_uri": "https://localhost:8080/",
          "height": 85
        }
      },
      "source": [
        "##Load the weights of the best model acquired in training\n",
        "model.load_weights(model_path)\n",
        "\n",
        "results = test_model(model, test)\n",
        "print(f'Test: {results}')\n",
        "\n",
        "results = test_model(model, val)\n",
        "print(f'Val: {results}')"
      ],
      "execution_count": 19,
      "outputs": [
        {
          "output_type": "stream",
          "text": [
            "23/23 [==============================] - 1s 25ms/step - loss: 0.5083 - accuracy: 0.7696\n",
            "Test: {'accuracy': 0.769565224647522, 'loss': 0.5082654356956482}\n",
            "17/17 [==============================] - 0s 29ms/step - loss: 0.6002 - accuracy: 0.7304\n",
            "Val: {'accuracy': 0.7303921580314636, 'loss': 0.6002175211906433}\n"
          ],
          "name": "stdout"
        }
      ]
    },
    {
      "cell_type": "markdown",
      "metadata": {
        "id": "dn5lMwAJpX8P",
        "colab_type": "text"
      },
      "source": [
        "Establish Translations-Only Data Generators"
      ]
    },
    {
      "cell_type": "code",
      "metadata": {
        "colab_type": "code",
        "outputId": "a25e026a-22f6-427a-fed3-f4870a3b30c9",
        "id": "gImI9k9mpsJv",
        "colab": {
          "base_uri": "https://localhost:8080/",
          "height": 68
        }
      },
      "source": [
        "from tensorflow.keras.preprocessing.image import ImageDataGenerator\n",
        "\n",
        "train_dir = os.path.join('.', 'train')\n",
        "val_dir = os.path.join('.', 'validation')\n",
        "test_dir = os.path.join('.', 'test')\n",
        "\n",
        "train_batches = 61\n",
        "val_batches = 17\n",
        "test_batches = 23\n",
        "\n",
        "##Create Development Set Generators\n",
        "##Note that 61 * 10 = 610 training samples\n",
        "train_generator = ImageDataGenerator(rescale=1./255,\n",
        "                                     width_shift_range=0.2,\n",
        "                                     height_shift_range=0.2,\n",
        "                                     fill_mode='nearest',\n",
        "                                     ).flow_from_directory(train_dir, target_size=(256, 256), batch_size=10, class_mode='categorical')\n",
        "##Note that 17 * 12 = 240 validation samples\n",
        "val_generator = ImageDataGenerator(rescale=1./255).flow_from_directory(val_dir, target_size=(256, 256), batch_size=12, class_mode='categorical')\n",
        "\n",
        "##Create Test Generator\n",
        "##Note that 23 * 10 = 230 Test samples\n",
        "test_generator = ImageDataGenerator(rescale=1./255).flow_from_directory(test_dir, target_size=(256,256), batch_size=10, class_mode='categorical')"
      ],
      "execution_count": 20,
      "outputs": [
        {
          "output_type": "stream",
          "text": [
            "Found 610 images belonging to 3 classes.\n",
            "Found 204 images belonging to 3 classes.\n",
            "Found 230 images belonging to 3 classes.\n"
          ],
          "name": "stdout"
        }
      ]
    },
    {
      "cell_type": "markdown",
      "metadata": {
        "id": "1tszEOn1s8Td",
        "colab_type": "text"
      },
      "source": [
        "Run Model Against Translations-Only Data Generators"
      ]
    },
    {
      "cell_type": "code",
      "metadata": {
        "id": "ONAdK1eUrSWa",
        "colab_type": "code",
        "outputId": "d6325c0d-0279-47ac-f095-6f9c8a2acf94",
        "colab": {
          "base_uri": "https://localhost:8080/",
          "height": 1000
        }
      },
      "source": [
        "from tensorflow.keras.models import Sequential\n",
        "from tensorflow.keras.layers import Dense, Conv2D, Flatten, MaxPooling2D\n",
        "\n",
        "model = Sequential()\n",
        "model.add( Conv2D( 12, ( 3, 3 ), activation = 'relu', input_shape = (256, 256, 3) ) )\n",
        "model.add( MaxPooling2D((2,2)) )\n",
        "model.add( Conv2D( 12, ( 3, 3 ), activation = 'relu' ) )\n",
        "model.add( MaxPooling2D((2,2)) )\n",
        "model.add( Conv2D( 32, ( 3, 3 ), activation = 'relu' ) )\n",
        "model.add( MaxPooling2D(2,2) )\n",
        "model.add( Conv2D( 32, (3, 3 ), activation='relu') )\n",
        "model.add( Flatten() )\n",
        "model.add( Dense( 24, activation = 'relu' ) )\n",
        "model.add( Dense( 12, activation = 'relu' ) )\n",
        "model.add( Dense( 3, activation = 'softmax' ) )\n",
        "model.summary()\n",
        "\n",
        "##Compile the model\n",
        "model.compile( optimizer = 'adam', loss = 'categorical_crossentropy', metrics = [ 'accuracy' ] )\n",
        "\n",
        "##Set the params from training\n",
        "train = {'gen': train_generator, 'steps': int( (1 + 1.0) * train_batches) }\n",
        "val = {'gen': val_generator, 'steps': val_batches }\n",
        "test = {'gen': test_generator, 'steps': test_batches }\n",
        "\n",
        "model_path = '4ConvMaxPool3DenseXyZ.h5'\n",
        "\n",
        "##Train the model\n",
        "history = train_model(model, train, val, model_path)\n",
        "disp_plot(history, model_path.split('.')[0])"
      ],
      "execution_count": 21,
      "outputs": [
        {
          "output_type": "stream",
          "text": [
            "Model: \"sequential_4\"\n",
            "_________________________________________________________________\n",
            "Layer (type)                 Output Shape              Param #   \n",
            "=================================================================\n",
            "conv2d_16 (Conv2D)           (None, 254, 254, 12)      336       \n",
            "_________________________________________________________________\n",
            "max_pooling2d_12 (MaxPooling (None, 127, 127, 12)      0         \n",
            "_________________________________________________________________\n",
            "conv2d_17 (Conv2D)           (None, 125, 125, 12)      1308      \n",
            "_________________________________________________________________\n",
            "max_pooling2d_13 (MaxPooling (None, 62, 62, 12)        0         \n",
            "_________________________________________________________________\n",
            "conv2d_18 (Conv2D)           (None, 60, 60, 32)        3488      \n",
            "_________________________________________________________________\n",
            "max_pooling2d_14 (MaxPooling (None, 30, 30, 32)        0         \n",
            "_________________________________________________________________\n",
            "conv2d_19 (Conv2D)           (None, 28, 28, 32)        9248      \n",
            "_________________________________________________________________\n",
            "flatten_4 (Flatten)          (None, 25088)             0         \n",
            "_________________________________________________________________\n",
            "dense_12 (Dense)             (None, 24)                602136    \n",
            "_________________________________________________________________\n",
            "dense_13 (Dense)             (None, 12)                300       \n",
            "_________________________________________________________________\n",
            "dense_14 (Dense)             (None, 3)                 39        \n",
            "=================================================================\n",
            "Total params: 616,855\n",
            "Trainable params: 616,855\n",
            "Non-trainable params: 0\n",
            "_________________________________________________________________\n",
            "Epoch 1/25\n",
            "122/122 [==============================] - 20s 166ms/step - loss: 0.9995 - accuracy: 0.4705 - val_loss: 1.4128 - val_accuracy: 0.4314\n",
            "Epoch 2/25\n",
            "122/122 [==============================] - 20s 165ms/step - loss: 0.7880 - accuracy: 0.5910 - val_loss: 0.7221 - val_accuracy: 0.6225\n",
            "Epoch 3/25\n",
            "122/122 [==============================] - 20s 166ms/step - loss: 0.7455 - accuracy: 0.6492 - val_loss: 1.1366 - val_accuracy: 0.5931\n",
            "Epoch 4/25\n",
            "122/122 [==============================] - 20s 167ms/step - loss: 0.6439 - accuracy: 0.7008 - val_loss: 1.0453 - val_accuracy: 0.6029\n",
            "Epoch 5/25\n",
            "122/122 [==============================] - 20s 165ms/step - loss: 0.6265 - accuracy: 0.6951 - val_loss: 0.8593 - val_accuracy: 0.6520\n",
            "Epoch 6/25\n",
            "122/122 [==============================] - 20s 165ms/step - loss: 0.6471 - accuracy: 0.7041 - val_loss: 0.7262 - val_accuracy: 0.6716\n",
            "Epoch 7/25\n",
            "122/122 [==============================] - 20s 166ms/step - loss: 0.6060 - accuracy: 0.7213 - val_loss: 0.5494 - val_accuracy: 0.7549\n",
            "Epoch 8/25\n",
            "122/122 [==============================] - 20s 164ms/step - loss: 0.5648 - accuracy: 0.7434 - val_loss: 0.6921 - val_accuracy: 0.6765\n",
            "Epoch 9/25\n",
            "122/122 [==============================] - 20s 166ms/step - loss: 0.5859 - accuracy: 0.7254 - val_loss: 0.7123 - val_accuracy: 0.6912\n",
            "Epoch 10/25\n",
            "122/122 [==============================] - 20s 166ms/step - loss: 0.5072 - accuracy: 0.7598 - val_loss: 0.7189 - val_accuracy: 0.6667\n",
            "Epoch 11/25\n",
            "122/122 [==============================] - 20s 165ms/step - loss: 0.5081 - accuracy: 0.7811 - val_loss: 0.7268 - val_accuracy: 0.7206\n",
            "Epoch 12/25\n",
            "122/122 [==============================] - 20s 165ms/step - loss: 0.4853 - accuracy: 0.7787 - val_loss: 0.9261 - val_accuracy: 0.6765\n",
            "Epoch 13/25\n",
            "122/122 [==============================] - 20s 164ms/step - loss: 0.4732 - accuracy: 0.7770 - val_loss: 0.9463 - val_accuracy: 0.6814\n",
            "Epoch 14/25\n",
            "122/122 [==============================] - 20s 166ms/step - loss: 0.4607 - accuracy: 0.7967 - val_loss: 0.4907 - val_accuracy: 0.8039\n",
            "Epoch 15/25\n",
            "122/122 [==============================] - 20s 165ms/step - loss: 0.4487 - accuracy: 0.7918 - val_loss: 0.7733 - val_accuracy: 0.7059\n",
            "Epoch 16/25\n",
            "122/122 [==============================] - 20s 165ms/step - loss: 0.5067 - accuracy: 0.7730 - val_loss: 0.5094 - val_accuracy: 0.8039\n",
            "Epoch 17/25\n",
            "122/122 [==============================] - 20s 163ms/step - loss: 0.4585 - accuracy: 0.7943 - val_loss: 0.5772 - val_accuracy: 0.7304\n",
            "Epoch 18/25\n",
            "122/122 [==============================] - 20s 165ms/step - loss: 0.4467 - accuracy: 0.7910 - val_loss: 0.6221 - val_accuracy: 0.7745\n",
            "Epoch 19/25\n",
            "122/122 [==============================] - 20s 166ms/step - loss: 0.4315 - accuracy: 0.8016 - val_loss: 0.5784 - val_accuracy: 0.7745\n",
            "Epoch 20/25\n",
            "122/122 [==============================] - 20s 164ms/step - loss: 0.4004 - accuracy: 0.8189 - val_loss: 0.4985 - val_accuracy: 0.8186\n",
            "Epoch 21/25\n",
            "122/122 [==============================] - 20s 165ms/step - loss: 0.4136 - accuracy: 0.8090 - val_loss: 0.5877 - val_accuracy: 0.7990\n",
            "Epoch 22/25\n",
            "122/122 [==============================] - 20s 165ms/step - loss: 0.3797 - accuracy: 0.8311 - val_loss: 0.4732 - val_accuracy: 0.8039\n",
            "Epoch 23/25\n",
            "122/122 [==============================] - 20s 166ms/step - loss: 0.3839 - accuracy: 0.8426 - val_loss: 0.4494 - val_accuracy: 0.8088\n",
            "Epoch 24/25\n",
            "122/122 [==============================] - 20s 164ms/step - loss: 0.3532 - accuracy: 0.8295 - val_loss: 0.5327 - val_accuracy: 0.8382\n",
            "Epoch 25/25\n",
            "122/122 [==============================] - 20s 165ms/step - loss: 0.3676 - accuracy: 0.8352 - val_loss: 0.5887 - val_accuracy: 0.8137\n"
          ],
          "name": "stdout"
        },
        {
          "output_type": "display_data",
          "data": {
            "image/png": "[encoded data removed]",
            "text/plain": [
              "<Figure size 432x288 with 1 Axes>"
            ]
          },
          "metadata": {
            "tags": [],
            "needs_background": "light"
          }
        },
        {
          "output_type": "display_data",
          "data": {
            "image/png": "[encoded data removed]",
            "text/plain": [
              "<Figure size 432x288 with 1 Axes>"
            ]
          },
          "metadata": {
            "tags": [],
            "needs_background": "light"
          }
        }
      ]
    },
    {
      "cell_type": "code",
      "metadata": {
        "id": "mAfPzLjtrah8",
        "colab_type": "code",
        "outputId": "f45a3391-8d09-4d4a-c568-ffe9d8a55b33",
        "colab": {
          "base_uri": "https://localhost:8080/",
          "height": 85
        }
      },
      "source": [
        "##Load the weights of the best model acquired in training\n",
        "model.load_weights(model_path)\n",
        "\n",
        "results = test_model(model, test)\n",
        "print(f'Test: {results}')\n",
        "\n",
        "results = test_model(model, val)\n",
        "print(f'Val: {results}')"
      ],
      "execution_count": 22,
      "outputs": [
        {
          "output_type": "stream",
          "text": [
            "23/23 [==============================] - 1s 25ms/step - loss: 0.4263 - accuracy: 0.7870\n",
            "Test: {'accuracy': 0.7869565486907959, 'loss': 0.4262838363647461}\n",
            "17/17 [==============================] - 0s 29ms/step - loss: 0.4707 - accuracy: 0.7843\n",
            "Val: {'accuracy': 0.7843137383460999, 'loss': 0.4706917405128479}\n"
          ],
          "name": "stdout"
        }
      ]
    },
    {
      "cell_type": "markdown",
      "metadata": {
        "id": "0Q2sqyMEpyI8",
        "colab_type": "text"
      },
      "source": [
        "Establish Rotations-Only Data Generators"
      ]
    },
    {
      "cell_type": "code",
      "metadata": {
        "id": "etX0ChLkp4KQ",
        "colab_type": "code",
        "outputId": "71b66a66-4b56-4e8c-e4fc-2f0150d6b5f7",
        "colab": {
          "base_uri": "https://localhost:8080/",
          "height": 68
        }
      },
      "source": [
        "from tensorflow.keras.preprocessing.image import ImageDataGenerator\n",
        "\n",
        "train_dir = os.path.join('.', 'train')\n",
        "val_dir = os.path.join('.', 'validation')\n",
        "test_dir = os.path.join('.', 'test')\n",
        "\n",
        "train_batches = 61\n",
        "val_batches = 17\n",
        "test_batches = 23\n",
        "\n",
        "##Create Development Set Generators\n",
        "##Note that 61 * 10 = 610 training samples\n",
        "train_generator = ImageDataGenerator(rescale=1./255,\n",
        "                                     rotation_range=30,\n",
        "                                     fill_mode='nearest',\n",
        "                                     ).flow_from_directory(train_dir, target_size=(256, 256), batch_size=10, class_mode='categorical')\n",
        "##Note that 17 * 12 = 240 validation samples\n",
        "val_generator = ImageDataGenerator(rescale=1./255).flow_from_directory(val_dir, target_size=(256, 256), batch_size=12, class_mode='categorical')\n",
        "\n",
        "##Create Test Generator\n",
        "##Note that 23 * 10 = 230 Test samples\n",
        "test_generator = ImageDataGenerator(rescale=1./255).flow_from_directory(test_dir, target_size=(256,256), batch_size=10, class_mode='categorical')"
      ],
      "execution_count": 23,
      "outputs": [
        {
          "output_type": "stream",
          "text": [
            "Found 610 images belonging to 3 classes.\n",
            "Found 204 images belonging to 3 classes.\n",
            "Found 230 images belonging to 3 classes.\n"
          ],
          "name": "stdout"
        }
      ]
    },
    {
      "cell_type": "markdown",
      "metadata": {
        "id": "ktES0JvFtGzf",
        "colab_type": "text"
      },
      "source": [
        "Run Model on Rotations-Only Data Generators"
      ]
    },
    {
      "cell_type": "code",
      "metadata": {
        "id": "1-tRamTHroiG",
        "colab_type": "code",
        "outputId": "acd290fd-ef73-447a-838d-39b2aa0e0e74",
        "colab": {
          "base_uri": "https://localhost:8080/",
          "height": 1000
        }
      },
      "source": [
        "from tensorflow.keras.models import Sequential\n",
        "from tensorflow.keras.layers import Dense, Conv2D, Flatten, MaxPooling2D\n",
        "\n",
        "model = Sequential()\n",
        "model.add( Conv2D( 12, ( 3, 3 ), activation = 'relu', input_shape = (256, 256, 3) ) )\n",
        "model.add( MaxPooling2D((2,2)) )\n",
        "model.add( Conv2D( 12, ( 3, 3 ), activation = 'relu' ) )\n",
        "model.add( MaxPooling2D((2,2)) )\n",
        "model.add( Conv2D( 32, ( 3, 3 ), activation = 'relu' ) )\n",
        "model.add( MaxPooling2D(2,2) )\n",
        "model.add( Conv2D( 32, (3, 3 ), activation='relu') )\n",
        "model.add( Flatten() )\n",
        "model.add( Dense( 24, activation = 'relu' ) )\n",
        "model.add( Dense( 12, activation = 'relu' ) )\n",
        "model.add( Dense( 3, activation = 'softmax' ) )\n",
        "model.summary()\n",
        "\n",
        "##Compile the model\n",
        "model.compile( optimizer = 'adam', loss = 'categorical_crossentropy', metrics = [ 'accuracy' ] )\n",
        "\n",
        "##Set the params from training\n",
        "train = {'gen': train_generator, 'steps': int( (1 + 1.0) * train_batches) }\n",
        "val = {'gen': val_generator, 'steps': val_batches }\n",
        "test = {'gen': test_generator, 'steps': test_batches }\n",
        "\n",
        "model_path = '4ConvMaxPool3DenseRot.h5'\n",
        "\n",
        "##Train the model\n",
        "history = train_model(model, train, val, model_path)\n",
        "disp_plot(history, model_path.split('.')[0])"
      ],
      "execution_count": 24,
      "outputs": [
        {
          "output_type": "stream",
          "text": [
            "Model: \"sequential_5\"\n",
            "_________________________________________________________________\n",
            "Layer (type)                 Output Shape              Param #   \n",
            "=================================================================\n",
            "conv2d_20 (Conv2D)           (None, 254, 254, 12)      336       \n",
            "_________________________________________________________________\n",
            "max_pooling2d_15 (MaxPooling (None, 127, 127, 12)      0         \n",
            "_________________________________________________________________\n",
            "conv2d_21 (Conv2D)           (None, 125, 125, 12)      1308      \n",
            "_________________________________________________________________\n",
            "max_pooling2d_16 (MaxPooling (None, 62, 62, 12)        0         \n",
            "_________________________________________________________________\n",
            "conv2d_22 (Conv2D)           (None, 60, 60, 32)        3488      \n",
            "_________________________________________________________________\n",
            "max_pooling2d_17 (MaxPooling (None, 30, 30, 32)        0         \n",
            "_________________________________________________________________\n",
            "conv2d_23 (Conv2D)           (None, 28, 28, 32)        9248      \n",
            "_________________________________________________________________\n",
            "flatten_5 (Flatten)          (None, 25088)             0         \n",
            "_________________________________________________________________\n",
            "dense_15 (Dense)             (None, 24)                602136    \n",
            "_________________________________________________________________\n",
            "dense_16 (Dense)             (None, 12)                300       \n",
            "_________________________________________________________________\n",
            "dense_17 (Dense)             (None, 3)                 39        \n",
            "=================================================================\n",
            "Total params: 616,855\n",
            "Trainable params: 616,855\n",
            "Non-trainable params: 0\n",
            "_________________________________________________________________\n",
            "Epoch 1/25\n",
            "122/122 [==============================] - 20s 168ms/step - loss: 0.9584 - accuracy: 0.4959 - val_loss: 0.7737 - val_accuracy: 0.6225\n",
            "Epoch 2/25\n",
            "122/122 [==============================] - 20s 166ms/step - loss: 0.6783 - accuracy: 0.6598 - val_loss: 0.7289 - val_accuracy: 0.6275\n",
            "Epoch 3/25\n",
            "122/122 [==============================] - 20s 166ms/step - loss: 0.6093 - accuracy: 0.7139 - val_loss: 0.6677 - val_accuracy: 0.7402\n",
            "Epoch 4/25\n",
            "122/122 [==============================] - 20s 168ms/step - loss: 0.5576 - accuracy: 0.7361 - val_loss: 0.6342 - val_accuracy: 0.7304\n",
            "Epoch 5/25\n",
            "122/122 [==============================] - 20s 164ms/step - loss: 0.5123 - accuracy: 0.7721 - val_loss: 0.6912 - val_accuracy: 0.7255\n",
            "Epoch 6/25\n",
            "122/122 [==============================] - 20s 164ms/step - loss: 0.4705 - accuracy: 0.7852 - val_loss: 1.0523 - val_accuracy: 0.7206\n",
            "Epoch 7/25\n",
            "122/122 [==============================] - 20s 164ms/step - loss: 0.4360 - accuracy: 0.8025 - val_loss: 0.8223 - val_accuracy: 0.7647\n",
            "Epoch 8/25\n",
            "122/122 [==============================] - 20s 163ms/step - loss: 0.3972 - accuracy: 0.8344 - val_loss: 0.8754 - val_accuracy: 0.6961\n",
            "Epoch 9/25\n",
            "122/122 [==============================] - 20s 164ms/step - loss: 0.4168 - accuracy: 0.8139 - val_loss: 0.8034 - val_accuracy: 0.7255\n",
            "Epoch 10/25\n",
            "122/122 [==============================] - 20s 163ms/step - loss: 0.3869 - accuracy: 0.8230 - val_loss: 0.6760 - val_accuracy: 0.7990\n",
            "Epoch 11/25\n",
            "122/122 [==============================] - 20s 162ms/step - loss: 0.3251 - accuracy: 0.8541 - val_loss: 0.9376 - val_accuracy: 0.7353\n",
            "Epoch 12/25\n",
            "122/122 [==============================] - 20s 161ms/step - loss: 0.2971 - accuracy: 0.8713 - val_loss: 0.8267 - val_accuracy: 0.7598\n",
            "Epoch 13/25\n",
            "122/122 [==============================] - 20s 161ms/step - loss: 0.2967 - accuracy: 0.8779 - val_loss: 1.1484 - val_accuracy: 0.7255\n",
            "Epoch 14/25\n",
            "122/122 [==============================] - 20s 160ms/step - loss: 0.2589 - accuracy: 0.8877 - val_loss: 0.9148 - val_accuracy: 0.7598\n",
            "Epoch 15/25\n",
            "122/122 [==============================] - 19s 160ms/step - loss: 0.2597 - accuracy: 0.8934 - val_loss: 1.4044 - val_accuracy: 0.6667\n",
            "Epoch 16/25\n",
            "122/122 [==============================] - 20s 160ms/step - loss: 0.2503 - accuracy: 0.9008 - val_loss: 1.5699 - val_accuracy: 0.6814\n",
            "Epoch 17/25\n",
            "122/122 [==============================] - 19s 160ms/step - loss: 0.1859 - accuracy: 0.9287 - val_loss: 1.1034 - val_accuracy: 0.7402\n",
            "Epoch 18/25\n",
            "122/122 [==============================] - 19s 159ms/step - loss: 0.2016 - accuracy: 0.9262 - val_loss: 1.6409 - val_accuracy: 0.6912\n"
          ],
          "name": "stdout"
        },
        {
          "output_type": "display_data",
          "data": {
            "image/png": "[encoded data removed]",
            "text/plain": [
              "<Figure size 432x288 with 1 Axes>"
            ]
          },
          "metadata": {
            "tags": [],
            "needs_background": "light"
          }
        },
        {
          "output_type": "display_data",
          "data": {
            "image/png": "[encoded data removed]",
            "text/plain": [
              "<Figure size 432x288 with 1 Axes>"
            ]
          },
          "metadata": {
            "tags": [],
            "needs_background": "light"
          }
        }
      ]
    },
    {
      "cell_type": "code",
      "metadata": {
        "id": "sQTf1LgprrSI",
        "colab_type": "code",
        "outputId": "b3a55cc6-2b8e-40b9-eaef-7bdf8fda8f5f",
        "colab": {
          "base_uri": "https://localhost:8080/",
          "height": 85
        }
      },
      "source": [
        "##Load the weights of the best model acquired in training\n",
        "model.load_weights(model_path)\n",
        "\n",
        "results = test_model(model, test)\n",
        "print(f'Test: {results}')\n",
        "\n",
        "results = test_model(model, val)\n",
        "print(f'Val: {results}')"
      ],
      "execution_count": 25,
      "outputs": [
        {
          "output_type": "stream",
          "text": [
            "23/23 [==============================] - 1s 23ms/step - loss: 0.5506 - accuracy: 0.7522\n",
            "Test: {'accuracy': 0.752173900604248, 'loss': 0.5506086349487305}\n",
            "17/17 [==============================] - 0s 28ms/step - loss: 0.6425 - accuracy: 0.7353\n",
            "Val: {'accuracy': 0.7352941036224365, 'loss': 0.6425313353538513}\n"
          ],
          "name": "stdout"
        }
      ]
    }
  ]
}