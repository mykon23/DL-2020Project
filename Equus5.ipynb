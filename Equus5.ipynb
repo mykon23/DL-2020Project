{
  "nbformat": 4,
  "nbformat_minor": 0,
  "metadata": {
    "colab": {
      "name": "Equus5.ipynb",
      "provenance": [],
      "authorship_tag": "ABX9TyPgrO1e+jI5ecE9w5DVCIJY",
      "include_colab_link": true
    },
    "kernelspec": {
      "name": "python3",
      "display_name": "Python 3"
    },
    "accelerator": "GPU"
  },
  "cells": [
    {
      "cell_type": "markdown",
      "metadata": {
        "id": "view-in-github",
        "colab_type": "text"
      },
      "source": [
        "<a href=\"https://colab.research.google.com/github/mykon23/DL-2020Project/blob/effects_of_aug/Equus5.ipynb\" target=\"_parent\"><img src=\"https://colab.research.google.com/assets/colab-badge.svg\" alt=\"Open In Colab\"/></a>"
      ]
    },
    {
      "cell_type": "markdown",
      "metadata": {
        "id": "kjLu1O6z0Iuz",
        "colab_type": "text"
      },
      "source": [
        "Get the Equus Dataset"
      ]
    },
    {
      "cell_type": "code",
      "metadata": {
        "id": "EGt_h0c20Anb",
        "colab_type": "code",
        "colab": {
          "base_uri": "https://localhost:8080/",
          "height": 353
        },
        "outputId": "e285a161-ea1b-4546-f04e-0e610037fa17"
      },
      "source": [
        "! wget -O Equus.tar.gz https://github.com/mykon23/DL-2020Project/blob/master/Equus.tar.gz?raw=true"
      ],
      "execution_count": 144,
      "outputs": [
        {
          "output_type": "stream",
          "text": [
            "--2020-04-16 05:40:02--  https://github.com/mykon23/DL-2020Project/blob/master/Equus.tar.gz?raw=true\n",
            "Resolving github.com (github.com)... 140.82.118.3\n",
            "Connecting to github.com (github.com)|140.82.118.3|:443... connected.\n",
            "HTTP request sent, awaiting response... 302 Found\n",
            "Location: https://github.com/mykon23/DL-2020Project/raw/master/Equus.tar.gz [following]\n",
            "--2020-04-16 05:40:03--  https://github.com/mykon23/DL-2020Project/raw/master/Equus.tar.gz\n",
            "Reusing existing connection to github.com:443.\n",
            "HTTP request sent, awaiting response... 302 Found\n",
            "Location: https://raw.githubusercontent.com/mykon23/DL-2020Project/master/Equus.tar.gz [following]\n",
            "--2020-04-16 05:40:03--  https://raw.githubusercontent.com/mykon23/DL-2020Project/master/Equus.tar.gz\n",
            "Resolving raw.githubusercontent.com (raw.githubusercontent.com)... 151.101.0.133, 151.101.64.133, 151.101.128.133, ...\n",
            "Connecting to raw.githubusercontent.com (raw.githubusercontent.com)|151.101.0.133|:443... connected.\n",
            "HTTP request sent, awaiting response... 200 OK\n",
            "Length: 18230746 (17M) [application/octet-stream]\n",
            "Saving to: ‘Equus.tar.gz’\n",
            "\n",
            "\rEquus.tar.gz          0%[                    ]       0  --.-KB/s               \rEquus.tar.gz        100%[===================>]  17.39M  --.-KB/s    in 0.08s   \n",
            "\n",
            "2020-04-16 05:40:03 (214 MB/s) - ‘Equus.tar.gz’ saved [18230746/18230746]\n",
            "\n"
          ],
          "name": "stdout"
        }
      ]
    },
    {
      "cell_type": "code",
      "metadata": {
        "id": "NaXFSsGd0OwE",
        "colab_type": "code",
        "colab": {}
      },
      "source": [
        "! rm -rf Equus\n",
        "! tar -zxf Equus.tar.gz"
      ],
      "execution_count": 0,
      "outputs": []
    },
    {
      "cell_type": "code",
      "metadata": {
        "id": "xaudxFb70UxV",
        "colab_type": "code",
        "colab": {}
      },
      "source": [
        "! rm *.tar.gz\n",
        "! rm -rf train/\n",
        "! rm -rf validation/\n",
        "! rm -rf test/"
      ],
      "execution_count": 0,
      "outputs": []
    },
    {
      "cell_type": "markdown",
      "metadata": {
        "id": "KvUCkDgq0bc5",
        "colab_type": "text"
      },
      "source": [
        "Create the Training Set, Validation Set, and Test Set"
      ]
    },
    {
      "cell_type": "code",
      "metadata": {
        "id": "PcBmGeTL1Kw-",
        "colab_type": "code",
        "colab": {}
      },
      "source": [
        "import os\n",
        "\n",
        "##Creates the folder structure of the data staging locations\n",
        "def set_dataset_loc(loc, sub_dirs):\n",
        "  if not os.path.exists(loc):\n",
        "    os.mkdir(loc)\n",
        "    for s in sub_dirs:\n",
        "      os.mkdir(os.path.join(loc, s))\n",
        "\n",
        "\n",
        "dataset_dir = os.path.join('.', 'Equus')\n",
        "lst_members = os.listdir(dataset_dir)\n",
        "\n",
        "set_dataset_loc(os.path.join('.', 'train'), lst_members)\n",
        "set_dataset_loc(os.path.join('.', 'validation'), lst_members)\n",
        "set_dataset_loc(os.path.join('.', 'test'), lst_members)\n"
      ],
      "execution_count": 0,
      "outputs": []
    },
    {
      "cell_type": "code",
      "metadata": {
        "id": "d8gzbmDc4Peu",
        "colab_type": "code",
        "colab": {
          "base_uri": "https://localhost:8080/",
          "height": 67
        },
        "outputId": "95f4c165-6330-4620-8606-6c57dfbd8ee8"
      },
      "source": [
        "##Display distribution of data\n",
        "\n",
        "for d in os.listdir(dataset_dir):\n",
        "  print(f'{d}: {len(os.listdir(os.path.join(dataset_dir, d)))}')"
      ],
      "execution_count": 148,
      "outputs": [
        {
          "output_type": "stream",
          "text": [
            "Horse: 314\n",
            "Donkey: 391\n",
            "Zebra: 339\n"
          ],
          "name": "stdout"
        }
      ]
    },
    {
      "cell_type": "code",
      "metadata": {
        "id": "MM690uru5zRv",
        "colab_type": "code",
        "colab": {
          "base_uri": "https://localhost:8080/",
          "height": 302
        },
        "outputId": "384403ad-26e2-4173-95e3-cb4bc0fbf32d"
      },
      "source": [
        "!ls -lh"
      ],
      "execution_count": 149,
      "outputs": [
        {
          "output_type": "stream",
          "text": [
            "total 144M\n",
            "-rw-r--r-- 1 root root 7.2M Apr 16 05:37 4ConvMaxPool3Dense3Batch.h5\n",
            "-rw-r--r-- 1 root root 7.2M Apr 16 04:55 4ConvMaxPool3DenseBaseline.h5\n",
            "-rw-r--r-- 1 root root 7.2M Apr 16 05:07 4ConvMaxPool3DenseDropout2.h5\n",
            "-rw-r--r-- 1 root root 7.2M Apr 16 05:11 4ConvMaxPool3DenseDropout5.h5\n",
            "-rw-r--r-- 1 root root 7.2M Apr 16 04:59 4ConvMaxPool3Dense.h5\n",
            "-rw-r--r-- 1 root root  24M Apr 16 03:03 4ConvMaxPool3DensePrimeBasline.h5\n",
            "-rw-r--r-- 1 root root  24M Apr 16 03:25 4ConvMaxPool3DensePrime.h5\n",
            "-rw-r--r-- 1 root root  24M Apr 16 03:47 4ConvMaxPool3DensePrimeRot.h5\n",
            "-rw-r--r-- 1 root root  24M Apr 16 03:37 4ConvMaxPool3DensePrimeXyZ.h5\n",
            "-rw-r--r-- 1 root root 7.2M Apr 16 05:27 4ConvMaxPool3DenseRot.h5\n",
            "-rw-r--r-- 1 root root 7.2M Apr 16 05:21 4ConvMaxPool3DenseXyZ.h5\n",
            "drwxr-xr-x 5 root root 4.0K Mar 16 03:00 Equus\n",
            "drwxr-xr-x 1 root root 4.0K Apr  3 16:24 sample_data\n",
            "drwxr-xr-x 5 root root 4.0K Apr 16 05:40 test\n",
            "drwxr-xr-x 5 root root 4.0K Apr 16 05:40 train\n",
            "drwxr-xr-x 5 root root 4.0K Apr 16 05:40 validation\n"
          ],
          "name": "stdout"
        }
      ]
    },
    {
      "cell_type": "code",
      "metadata": {
        "id": "UNF_wQ-f6FLC",
        "colab_type": "code",
        "colab": {}
      },
      "source": [
        "import shutil\n",
        "\n",
        "##Populate the staging locations for the data\n",
        "def stage_data_loc(stage_loc, data_loc, dict_ind):\n",
        "\n",
        "  ##Create a dictionary containing the images\n",
        "  dict_images = { k : os.listdir(os.path.join(data_loc, k)) for k in lst_members }\n",
        "\n",
        "  for k in dict_images.keys():\n",
        "    for i in range(dict_ind[k][0], dict_ind[k][1]):\n",
        "      src = os.path.join(os.path.join(data_loc, k), dict_images[k][i])\n",
        "      dst = os.path.join(os.path.join(stage_loc, k), dict_images[k][i])\n",
        "      shutil.copyfile(src, dst)\n",
        "\n",
        "##Keep indices for the data splits\n",
        "dict_train = {'Donkey': [0, 240], 'Horse': [0, 185], 'Zebra':[0, 185]}\n",
        "dict_val = {'Donkey': [240, 315], 'Horse': [185, 250], 'Zebra':[185, 249]}\n",
        "dict_test = {'Donkey': [315, 391], 'Horse': [250, 314],'Zebra': [249, 339]}\n",
        "\n",
        "stage_data_loc(os.path.join('.', 'train'), dataset_dir, dict_train)\n",
        "stage_data_loc(os.path.join('.', 'validation'), dataset_dir, dict_val)\n",
        "stage_data_loc(os.path.join('.', 'test'), dataset_dir, dict_test)\n"
      ],
      "execution_count": 0,
      "outputs": []
    },
    {
      "cell_type": "code",
      "metadata": {
        "id": "9H6sP8pTHqxt",
        "colab_type": "code",
        "colab": {
          "base_uri": "https://localhost:8080/",
          "height": 67
        },
        "outputId": "669e355f-4b94-407f-f4ae-0246ec748e9d"
      },
      "source": [
        "##Count the number of files within each directory\n",
        "! ls -lh train/*/* | wc -l\n",
        "! ls -lh validation/*/* | wc -l\n",
        "! ls -lh test/*/* | wc -l"
      ],
      "execution_count": 151,
      "outputs": [
        {
          "output_type": "stream",
          "text": [
            "610\n",
            "204\n",
            "230\n"
          ],
          "name": "stdout"
        }
      ]
    },
    {
      "cell_type": "markdown",
      "metadata": {
        "id": "o0r9y23DjaGe",
        "colab_type": "text"
      },
      "source": [
        "Define Train and Test Operations"
      ]
    },
    {
      "cell_type": "code",
      "metadata": {
        "id": "FcvDpVyGjhcf",
        "colab_type": "code",
        "colab": {}
      },
      "source": [
        "import keras\n",
        "import matplotlib.pyplot as plt\n",
        "import tensorflow as tf\n",
        "\n",
        "def train_model(model, train, val, model_path):\n",
        "  ##Set the callbacks\n",
        "  callback_list = [\n",
        "  tf.keras.callbacks.EarlyStopping(\n",
        "    monitor='val_accuracy',\n",
        "    patience=8,\n",
        "    ),\n",
        "  tf.keras.callbacks.ModelCheckpoint(\n",
        "      filepath=model_path,\n",
        "      monitor='val_loss',\n",
        "      save_best_only=True,\n",
        "    )\n",
        "  ]\n",
        "\n",
        "  ##Train the model\n",
        "  history = model.fit(\n",
        "      train['gen'],\n",
        "      steps_per_epoch=train['steps'],\n",
        "      epochs=25,\n",
        "      callbacks = callback_list,\n",
        "      validation_data=val['gen'],\n",
        "      validation_steps=val['steps'])\n",
        "  \n",
        "  return history\n",
        "\n",
        "def disp_plot(history, title):\n",
        "  plt.figure()\n",
        "  plt.plot(history.history['accuracy'], 'bo', label='Training Acc')\n",
        "  plt.plot(history.history['val_accuracy'], 'b', label='Validation Acc')\n",
        "  plt.ylabel('Accuracy')\n",
        "  plt.xlabel('Epoch')\n",
        "  plt.title(title)\n",
        "  plt.legend()\n",
        "  plt.show()\n",
        "\n",
        "  plt.figure()\n",
        "  plt.plot(history.history['loss'], 'bo', label='Training Loss')\n",
        "  plt.plot(history.history['val_loss'], 'b', label='Validation Loss')\n",
        "  plt.ylabel('Loss')\n",
        "  plt.xlabel('Epoch')\n",
        "  plt.title(title)\n",
        "  plt.legend()\n",
        "  plt.show()\n",
        "\n",
        "def test_model(model, test):\n",
        "  ##Observe the results of the model against the test data\n",
        "  test_loss, test_acc = model.evaluate(\n",
        "    test['gen'],\n",
        "    steps=test['steps']\n",
        "  )\n",
        "  \n",
        "  return {'accuracy': test_acc, 'loss': test_loss }\n"
      ],
      "execution_count": 0,
      "outputs": []
    },
    {
      "cell_type": "markdown",
      "metadata": {
        "id": "bS8RIDlnzkGX",
        "colab_type": "text"
      },
      "source": [
        "Establish Baseline Data Generators"
      ]
    },
    {
      "cell_type": "code",
      "metadata": {
        "id": "VLYsPrerzqck",
        "colab_type": "code",
        "colab": {
          "base_uri": "https://localhost:8080/",
          "height": 67
        },
        "outputId": "b98bcb8a-4fdd-4fd4-8bbc-3ca804fb7006"
      },
      "source": [
        "from tensorflow.keras.preprocessing.image import ImageDataGenerator\n",
        "\n",
        "train_dir = os.path.join('.', 'train')\n",
        "val_dir = os.path.join('.', 'validation')\n",
        "test_dir = os.path.join('.', 'test')\n",
        "\n",
        "train_batches = 61\n",
        "val_batches = 17\n",
        "test_batches = 23\n",
        "\n",
        "##Create Development Set Generators\n",
        "##Note that 61 * 10 = 610 training samples\n",
        "train_generator = ImageDataGenerator(rescale=1./255,\n",
        "                                     ).flow_from_directory(train_dir, target_size=(256, 256), batch_size=10, class_mode='categorical')\n",
        "##Note that 17 * 12 = 240 validation samples\n",
        "val_generator = ImageDataGenerator(rescale=1./255).flow_from_directory(val_dir, target_size=(256, 256), batch_size=12, class_mode='categorical')\n",
        "\n",
        "##Create Test Generator\n",
        "##Note that 23 * 10 = 230 Test samples\n",
        "test_generator = ImageDataGenerator(rescale=1./255).flow_from_directory(test_dir, target_size=(256,256), batch_size=10, class_mode='categorical')"
      ],
      "execution_count": 153,
      "outputs": [
        {
          "output_type": "stream",
          "text": [
            "Found 610 images belonging to 3 classes.\n",
            "Found 204 images belonging to 3 classes.\n",
            "Found 230 images belonging to 3 classes.\n"
          ],
          "name": "stdout"
        }
      ]
    },
    {
      "cell_type": "code",
      "metadata": {
        "id": "Zb5WrdxQzxVT",
        "colab_type": "code",
        "colab": {
          "base_uri": "https://localhost:8080/",
          "height": 1000
        },
        "outputId": "3e08f861-2c6d-4b2d-cf9b-a9676ec1d502"
      },
      "source": [
        "from tensorflow.keras.models import Sequential\n",
        "from tensorflow.keras.layers import Dense, Conv2D, Flatten, MaxPooling2D\n",
        "\n",
        "model = Sequential()\n",
        "model.add( Conv2D( 12, ( 3, 3 ), activation = 'relu', input_shape = (256, 256, 3) ) )\n",
        "model.add( MaxPooling2D((2,2)) )\n",
        "model.add( Conv2D( 12, ( 3, 3 ), activation = 'relu' ) )\n",
        "model.add( MaxPooling2D((2,2)) )\n",
        "model.add( Conv2D( 32, ( 3, 3 ), activation = 'relu' ) )\n",
        "model.add( MaxPooling2D(2,2) )\n",
        "model.add( Conv2D( 32, (3, 3 ), activation='relu') )\n",
        "model.add( Flatten() )\n",
        "model.add( Dense( 24, activation = 'relu' ) )\n",
        "model.add( Dense( 12, activation = 'relu' ) )\n",
        "model.add( Dense( 3, activation = 'softmax' ) )\n",
        "model.summary()\n",
        "\n",
        "##Compile the model\n",
        "model.compile( optimizer = 'adam', loss = 'categorical_crossentropy', metrics = [ 'accuracy' ] )\n",
        "\n",
        "##Set the params from training\n",
        "train = {'gen': train_generator, 'steps': int( (1 + 0.0) * train_batches) }\n",
        "val = {'gen': val_generator, 'steps': val_batches }\n",
        "test = {'gen': test_generator, 'steps': test_batches }\n",
        "\n",
        "model_path = '4ConvMaxPool3DenseBaseline.h5'\n",
        "\n",
        "##Train the model\n",
        "history = train_model(model, train, val, model_path)\n",
        "disp_plot(history, model_path.split('.')[0])"
      ],
      "execution_count": 154,
      "outputs": [
        {
          "output_type": "stream",
          "text": [
            "Model: \"sequential_42\"\n",
            "_________________________________________________________________\n",
            "Layer (type)                 Output Shape              Param #   \n",
            "=================================================================\n",
            "conv2d_168 (Conv2D)          (None, 254, 254, 12)      336       \n",
            "_________________________________________________________________\n",
            "max_pooling2d_126 (MaxPoolin (None, 127, 127, 12)      0         \n",
            "_________________________________________________________________\n",
            "conv2d_169 (Conv2D)          (None, 125, 125, 12)      1308      \n",
            "_________________________________________________________________\n",
            "max_pooling2d_127 (MaxPoolin (None, 62, 62, 12)        0         \n",
            "_________________________________________________________________\n",
            "conv2d_170 (Conv2D)          (None, 60, 60, 32)        3488      \n",
            "_________________________________________________________________\n",
            "max_pooling2d_128 (MaxPoolin (None, 30, 30, 32)        0         \n",
            "_________________________________________________________________\n",
            "conv2d_171 (Conv2D)          (None, 28, 28, 32)        9248      \n",
            "_________________________________________________________________\n",
            "flatten_42 (Flatten)         (None, 25088)             0         \n",
            "_________________________________________________________________\n",
            "dense_114 (Dense)            (None, 24)                602136    \n",
            "_________________________________________________________________\n",
            "dense_115 (Dense)            (None, 12)                300       \n",
            "_________________________________________________________________\n",
            "dense_116 (Dense)            (None, 3)                 39        \n",
            "=================================================================\n",
            "Total params: 616,855\n",
            "Trainable params: 616,855\n",
            "Non-trainable params: 0\n",
            "_________________________________________________________________\n",
            "Epoch 1/25\n",
            "61/61 [==============================] - 2s 33ms/step - loss: 1.0631 - accuracy: 0.4230 - val_loss: 0.8453 - val_accuracy: 0.6127\n",
            "Epoch 2/25\n",
            "61/61 [==============================] - 2s 30ms/step - loss: 0.7388 - accuracy: 0.6361 - val_loss: 0.9894 - val_accuracy: 0.4706\n",
            "Epoch 3/25\n",
            "61/61 [==============================] - 2s 31ms/step - loss: 0.6675 - accuracy: 0.7000 - val_loss: 0.7551 - val_accuracy: 0.6275\n",
            "Epoch 4/25\n",
            "61/61 [==============================] - 2s 31ms/step - loss: 0.5692 - accuracy: 0.7525 - val_loss: 0.6547 - val_accuracy: 0.7157\n",
            "Epoch 5/25\n",
            "61/61 [==============================] - 2s 31ms/step - loss: 0.5237 - accuracy: 0.7656 - val_loss: 0.7537 - val_accuracy: 0.6569\n",
            "Epoch 6/25\n",
            "61/61 [==============================] - 2s 31ms/step - loss: 0.5624 - accuracy: 0.7541 - val_loss: 0.6583 - val_accuracy: 0.6716\n",
            "Epoch 7/25\n",
            "61/61 [==============================] - 2s 31ms/step - loss: 0.3817 - accuracy: 0.8459 - val_loss: 0.6157 - val_accuracy: 0.6814\n",
            "Epoch 8/25\n",
            "61/61 [==============================] - 2s 30ms/step - loss: 0.2900 - accuracy: 0.9016 - val_loss: 0.7890 - val_accuracy: 0.7010\n",
            "Epoch 9/25\n",
            "61/61 [==============================] - 2s 31ms/step - loss: 0.1992 - accuracy: 0.9230 - val_loss: 0.9532 - val_accuracy: 0.7108\n",
            "Epoch 10/25\n",
            "61/61 [==============================] - 2s 31ms/step - loss: 0.1573 - accuracy: 0.9410 - val_loss: 0.8113 - val_accuracy: 0.6618\n",
            "Epoch 11/25\n",
            "61/61 [==============================] - 2s 31ms/step - loss: 0.3308 - accuracy: 0.9033 - val_loss: 0.8550 - val_accuracy: 0.7059\n",
            "Epoch 12/25\n",
            "61/61 [==============================] - 2s 31ms/step - loss: 0.2067 - accuracy: 0.9262 - val_loss: 0.9070 - val_accuracy: 0.6814\n"
          ],
          "name": "stdout"
        },
        {
          "output_type": "display_data",
          "data": {
            "image/png": "[encoded data removed]",
            "text/plain": [
              "<Figure size 432x288 with 1 Axes>"
            ]
          },
          "metadata": {
            "tags": [],
            "needs_background": "light"
          }
        },
        {
          "output_type": "display_data",
          "data": {
            "image/png": "[encoded data removed]",
            "text/plain": [
              "<Figure size 432x288 with 1 Axes>"
            ]
          },
          "metadata": {
            "tags": [],
            "needs_background": "light"
          }
        }
      ]
    },
    {
      "cell_type": "code",
      "metadata": {
        "id": "FI9UNY0q0AnP",
        "colab_type": "code",
        "colab": {
          "base_uri": "https://localhost:8080/",
          "height": 84
        },
        "outputId": "4aea9a43-44d7-48e4-fb0b-121d069cbe8b"
      },
      "source": [
        "##Load the weights of the best model acquired in training\n",
        "model.load_weights(model_path)\n",
        "\n",
        "results = test_model(model, test)\n",
        "print(f'Test: {results}')\n",
        "\n",
        "results = test_model(model, val)\n",
        "print(f'Val: {results}')"
      ],
      "execution_count": 155,
      "outputs": [
        {
          "output_type": "stream",
          "text": [
            "23/23 [==============================] - 0s 20ms/step - loss: 0.5313 - accuracy: 0.7304\n",
            "Test: {'accuracy': 0.730434775352478, 'loss': 0.5313270688056946}\n",
            "17/17 [==============================] - 0s 24ms/step - loss: 0.7005 - accuracy: 0.6667\n",
            "Val: {'accuracy': 0.6666666865348816, 'loss': 0.700518786907196}\n"
          ],
          "name": "stdout"
        }
      ]
    },
    {
      "cell_type": "markdown",
      "metadata": {
        "id": "9ylxcIz3HzXy",
        "colab_type": "text"
      },
      "source": [
        "Establish the Six Degrees of Freedom Data Generators"
      ]
    },
    {
      "cell_type": "code",
      "metadata": {
        "id": "mgAukmT9H4iu",
        "colab_type": "code",
        "colab": {
          "base_uri": "https://localhost:8080/",
          "height": 67
        },
        "outputId": "b6fb397e-0a4c-4f34-fb9e-d545dd5a7b70"
      },
      "source": [
        "from tensorflow.keras.preprocessing.image import ImageDataGenerator\n",
        "\n",
        "train_dir = os.path.join('.', 'train')\n",
        "val_dir = os.path.join('.', 'validation')\n",
        "test_dir = os.path.join('.', 'test')\n",
        "\n",
        "train_batches = 61\n",
        "val_batches = 17\n",
        "test_batches = 23\n",
        "\n",
        "##Create Development Set Generators\n",
        "##Note that 61 * 10 = 610 training samples\n",
        "train_generator = ImageDataGenerator(rescale=1./255,\n",
        "                                     rotation_range=60,\n",
        "                                     width_shift_range=0.2,\n",
        "                                     height_shift_range=0.2,\n",
        "                                     horizontal_flip=True,\n",
        "                                     fill_mode='nearest',\n",
        "                                     ).flow_from_directory(train_dir, target_size=(256, 256), batch_size=10, class_mode='categorical')\n",
        "##Note that 17 * 12 = 240 validation samples\n",
        "val_generator = ImageDataGenerator(rescale=1./255).flow_from_directory(val_dir, target_size=(256, 256), batch_size=12, class_mode='categorical')\n",
        "\n",
        "##Create Test Generator\n",
        "##Note that 23 * 10 = 230 Test samples\n",
        "test_generator = ImageDataGenerator(rescale=1./255).flow_from_directory(test_dir, target_size=(256,256), batch_size=10, class_mode='categorical')"
      ],
      "execution_count": 156,
      "outputs": [
        {
          "output_type": "stream",
          "text": [
            "Found 610 images belonging to 3 classes.\n",
            "Found 204 images belonging to 3 classes.\n",
            "Found 230 images belonging to 3 classes.\n"
          ],
          "name": "stdout"
        }
      ]
    },
    {
      "cell_type": "markdown",
      "metadata": {
        "id": "56Xry6rcnM1m",
        "colab_type": "text"
      },
      "source": [
        "Run Best Validation Loss Model Against Six Degree of Freedom Data"
      ]
    },
    {
      "cell_type": "code",
      "metadata": {
        "id": "YypzhH02nMY_",
        "colab_type": "code",
        "colab": {
          "base_uri": "https://localhost:8080/",
          "height": 1000
        },
        "outputId": "b418d79f-6a8d-4bed-e5a4-a468e4d5bf1c"
      },
      "source": [
        "from tensorflow.keras.models import Sequential\n",
        "from tensorflow.keras.layers import Dense, Conv2D, Flatten, MaxPooling2D\n",
        "\n",
        "model = Sequential()\n",
        "model.add( Conv2D( 12, ( 3, 3 ), activation = 'relu', input_shape = (256, 256, 3) ) )\n",
        "model.add( MaxPooling2D((2,2)) )\n",
        "model.add( Conv2D( 12, ( 3, 3 ), activation = 'relu' ) )\n",
        "model.add( MaxPooling2D((2,2)) )\n",
        "model.add( Conv2D( 32, ( 3, 3 ), activation = 'relu' ) )\n",
        "model.add( MaxPooling2D(2,2) )\n",
        "model.add( Conv2D( 32, (3, 3 ), activation='relu') )\n",
        "model.add( Flatten() )\n",
        "model.add( Dense( 24, activation = 'relu' ) )\n",
        "model.add( Dense( 12, activation = 'relu' ) )\n",
        "model.add( Dense( 3, activation = 'softmax' ) )\n",
        "model.summary()\n",
        "\n",
        "##Compile the model\n",
        "model.compile( optimizer = 'adam', loss = 'categorical_crossentropy', metrics = [ 'accuracy' ] )\n",
        "\n",
        "##Set the params from training\n",
        "train = {'gen': train_generator, 'steps': int( (1 + 1.0) * train_batches) }\n",
        "val = {'gen': val_generator, 'steps': val_batches }\n",
        "test = {'gen': test_generator, 'steps': test_batches }\n",
        "\n",
        "model_path = '4ConvMaxPool3Dense.h5'\n",
        "\n",
        "##Train the model\n",
        "history = train_model(model, train, val, model_path)\n",
        "disp_plot(history, model_path.split('.')[0])"
      ],
      "execution_count": 157,
      "outputs": [
        {
          "output_type": "stream",
          "text": [
            "Model: \"sequential_43\"\n",
            "_________________________________________________________________\n",
            "Layer (type)                 Output Shape              Param #   \n",
            "=================================================================\n",
            "conv2d_172 (Conv2D)          (None, 254, 254, 12)      336       \n",
            "_________________________________________________________________\n",
            "max_pooling2d_129 (MaxPoolin (None, 127, 127, 12)      0         \n",
            "_________________________________________________________________\n",
            "conv2d_173 (Conv2D)          (None, 125, 125, 12)      1308      \n",
            "_________________________________________________________________\n",
            "max_pooling2d_130 (MaxPoolin (None, 62, 62, 12)        0         \n",
            "_________________________________________________________________\n",
            "conv2d_174 (Conv2D)          (None, 60, 60, 32)        3488      \n",
            "_________________________________________________________________\n",
            "max_pooling2d_131 (MaxPoolin (None, 30, 30, 32)        0         \n",
            "_________________________________________________________________\n",
            "conv2d_175 (Conv2D)          (None, 28, 28, 32)        9248      \n",
            "_________________________________________________________________\n",
            "flatten_43 (Flatten)         (None, 25088)             0         \n",
            "_________________________________________________________________\n",
            "dense_117 (Dense)            (None, 24)                602136    \n",
            "_________________________________________________________________\n",
            "dense_118 (Dense)            (None, 12)                300       \n",
            "_________________________________________________________________\n",
            "dense_119 (Dense)            (None, 3)                 39        \n",
            "=================================================================\n",
            "Total params: 616,855\n",
            "Trainable params: 616,855\n",
            "Non-trainable params: 0\n",
            "_________________________________________________________________\n",
            "Epoch 1/25\n",
            "122/122 [==============================] - 17s 142ms/step - loss: 0.9208 - accuracy: 0.4615 - val_loss: 0.7352 - val_accuracy: 0.6225\n",
            "Epoch 2/25\n",
            "122/122 [==============================] - 17s 141ms/step - loss: 0.7376 - accuracy: 0.6172 - val_loss: 0.6901 - val_accuracy: 0.6373\n",
            "Epoch 3/25\n",
            "122/122 [==============================] - 17s 140ms/step - loss: 0.6937 - accuracy: 0.6336 - val_loss: 1.1478 - val_accuracy: 0.5147\n",
            "Epoch 4/25\n",
            "122/122 [==============================] - 17s 140ms/step - loss: 0.6631 - accuracy: 0.6902 - val_loss: 1.2425 - val_accuracy: 0.5833\n",
            "Epoch 5/25\n",
            "122/122 [==============================] - 17s 139ms/step - loss: 0.6271 - accuracy: 0.7008 - val_loss: 0.8718 - val_accuracy: 0.6373\n",
            "Epoch 6/25\n",
            "122/122 [==============================] - 17s 141ms/step - loss: 0.5775 - accuracy: 0.7205 - val_loss: 0.6579 - val_accuracy: 0.6569\n",
            "Epoch 7/25\n",
            "122/122 [==============================] - 17s 143ms/step - loss: 0.5750 - accuracy: 0.7287 - val_loss: 0.6267 - val_accuracy: 0.7304\n",
            "Epoch 8/25\n",
            "122/122 [==============================] - 17s 141ms/step - loss: 0.5524 - accuracy: 0.7377 - val_loss: 1.5768 - val_accuracy: 0.5735\n",
            "Epoch 9/25\n",
            "122/122 [==============================] - 17s 140ms/step - loss: 0.5166 - accuracy: 0.7557 - val_loss: 0.8196 - val_accuracy: 0.7108\n",
            "Epoch 10/25\n",
            "122/122 [==============================] - 17s 140ms/step - loss: 0.5257 - accuracy: 0.7574 - val_loss: 0.7853 - val_accuracy: 0.7059\n",
            "Epoch 11/25\n",
            "122/122 [==============================] - 17s 141ms/step - loss: 0.5512 - accuracy: 0.7377 - val_loss: 0.7278 - val_accuracy: 0.6863\n",
            "Epoch 12/25\n",
            "122/122 [==============================] - 17s 140ms/step - loss: 0.5387 - accuracy: 0.7484 - val_loss: 0.7243 - val_accuracy: 0.7206\n",
            "Epoch 13/25\n",
            "122/122 [==============================] - 17s 140ms/step - loss: 0.5120 - accuracy: 0.7607 - val_loss: 0.9897 - val_accuracy: 0.6716\n",
            "Epoch 14/25\n",
            "122/122 [==============================] - 17s 141ms/step - loss: 0.5495 - accuracy: 0.7393 - val_loss: 1.0393 - val_accuracy: 0.6618\n",
            "Epoch 15/25\n",
            "122/122 [==============================] - 17s 141ms/step - loss: 0.5151 - accuracy: 0.7713 - val_loss: 0.6888 - val_accuracy: 0.7010\n"
          ],
          "name": "stdout"
        },
        {
          "output_type": "display_data",
          "data": {
            "image/png": "[encoded data removed]",
            "text/plain": [
              "<Figure size 432x288 with 1 Axes>"
            ]
          },
          "metadata": {
            "tags": [],
            "needs_background": "light"
          }
        },
        {
          "output_type": "display_data",
          "data": {
            "image/png": "[encoded data removed]",
            "text/plain": [
              "<Figure size 432x288 with 1 Axes>"
            ]
          },
          "metadata": {
            "tags": [],
            "needs_background": "light"
          }
        }
      ]
    },
    {
      "cell_type": "code",
      "metadata": {
        "id": "cVVw2QPyrAmU",
        "colab_type": "code",
        "colab": {
          "base_uri": "https://localhost:8080/",
          "height": 84
        },
        "outputId": "3629eff1-05fa-4764-d9a0-927b855fc613"
      },
      "source": [
        "##Load the weights of the best model acquired in training\n",
        "model.load_weights(model_path)\n",
        "\n",
        "results = test_model(model, test)\n",
        "print(f'Test: {results}')\n",
        "\n",
        "results = test_model(model, val)\n",
        "print(f'Val: {results}')"
      ],
      "execution_count": 158,
      "outputs": [
        {
          "output_type": "stream",
          "text": [
            "23/23 [==============================] - 0s 20ms/step - loss: 0.5842 - accuracy: 0.7609\n",
            "Test: {'accuracy': 0.760869562625885, 'loss': 0.5842004418373108}\n",
            "17/17 [==============================] - 0s 27ms/step - loss: 0.6626 - accuracy: 0.7010\n",
            "Val: {'accuracy': 0.7009803652763367, 'loss': 0.6625620722770691}\n"
          ],
          "name": "stdout"
        }
      ]
    },
    {
      "cell_type": "markdown",
      "metadata": {
        "id": "vqQIMygbvf-N",
        "colab_type": "text"
      },
      "source": [
        "Model with Data Augmentation and Dropout 0.2\n",
        "\n"
      ]
    },
    {
      "cell_type": "code",
      "metadata": {
        "id": "xMHEgKHLvjcq",
        "colab_type": "code",
        "colab": {
          "base_uri": "https://localhost:8080/",
          "height": 1000
        },
        "outputId": "99acf4d4-220a-43e9-abe4-5a31b4effe9f"
      },
      "source": [
        "from tensorflow.keras.models import Sequential\n",
        "from tensorflow.keras.layers import Dense, Conv2D, Flatten, MaxPooling2D, Dropout\n",
        "\n",
        "model = Sequential()\n",
        "model.add( Conv2D( 12, ( 3, 3 ), activation = 'relu', input_shape = (256, 256, 3) ) )\n",
        "model.add( MaxPooling2D((2,2)) )\n",
        "model.add( Conv2D( 12, ( 3, 3 ), activation = 'relu' ) )\n",
        "model.add( MaxPooling2D((2,2)) )\n",
        "model.add( Conv2D( 32, ( 3, 3 ), activation = 'relu' ) )\n",
        "model.add( MaxPooling2D(2,2) )\n",
        "model.add( Conv2D( 32, (3, 3 ), activation='relu') )\n",
        "model.add( Flatten() )\n",
        "model.add( Dropout(0.2) )\n",
        "model.add( Dense( 24, activation = 'relu' ) )\n",
        "model.add( Dense( 12, activation = 'relu' ) )\n",
        "model.add( Dense( 3, activation = 'softmax' ) )\n",
        "model.summary()\n",
        "\n",
        "##Compile the model\n",
        "model.compile( optimizer = 'adam', loss = 'categorical_crossentropy', metrics = [ 'accuracy' ] )\n",
        "\n",
        "##Set the params from training\n",
        "train = {'gen': train_generator, 'steps': int( (1 + 1.0) * train_batches) }\n",
        "val = {'gen': val_generator, 'steps': val_batches }\n",
        "test = {'gen': test_generator, 'steps': test_batches }\n",
        "\n",
        "model_path = '4ConvMaxPool3DenseDropout2.h5'\n",
        "\n",
        "##Train the model\n",
        "history = train_model(model, train, val, model_path)\n",
        "disp_plot(history, model_path.split('.')[0])"
      ],
      "execution_count": 159,
      "outputs": [
        {
          "output_type": "stream",
          "text": [
            "Model: \"sequential_44\"\n",
            "_________________________________________________________________\n",
            "Layer (type)                 Output Shape              Param #   \n",
            "=================================================================\n",
            "conv2d_176 (Conv2D)          (None, 254, 254, 12)      336       \n",
            "_________________________________________________________________\n",
            "max_pooling2d_132 (MaxPoolin (None, 127, 127, 12)      0         \n",
            "_________________________________________________________________\n",
            "conv2d_177 (Conv2D)          (None, 125, 125, 12)      1308      \n",
            "_________________________________________________________________\n",
            "max_pooling2d_133 (MaxPoolin (None, 62, 62, 12)        0         \n",
            "_________________________________________________________________\n",
            "conv2d_178 (Conv2D)          (None, 60, 60, 32)        3488      \n",
            "_________________________________________________________________\n",
            "max_pooling2d_134 (MaxPoolin (None, 30, 30, 32)        0         \n",
            "_________________________________________________________________\n",
            "conv2d_179 (Conv2D)          (None, 28, 28, 32)        9248      \n",
            "_________________________________________________________________\n",
            "flatten_44 (Flatten)         (None, 25088)             0         \n",
            "_________________________________________________________________\n",
            "dropout_8 (Dropout)          (None, 25088)             0         \n",
            "_________________________________________________________________\n",
            "dense_120 (Dense)            (None, 24)                602136    \n",
            "_________________________________________________________________\n",
            "dense_121 (Dense)            (None, 12)                300       \n",
            "_________________________________________________________________\n",
            "dense_122 (Dense)            (None, 3)                 39        \n",
            "=================================================================\n",
            "Total params: 616,855\n",
            "Trainable params: 616,855\n",
            "Non-trainable params: 0\n",
            "_________________________________________________________________\n",
            "Epoch 1/25\n",
            "122/122 [==============================] - 17s 142ms/step - loss: 1.0019 - accuracy: 0.4566 - val_loss: 0.8338 - val_accuracy: 0.6373\n",
            "Epoch 2/25\n",
            "122/122 [==============================] - 17s 141ms/step - loss: 0.7346 - accuracy: 0.6672 - val_loss: 0.7464 - val_accuracy: 0.6814\n",
            "Epoch 3/25\n",
            "122/122 [==============================] - 17s 141ms/step - loss: 0.6441 - accuracy: 0.7115 - val_loss: 1.1338 - val_accuracy: 0.5784\n",
            "Epoch 4/25\n",
            "122/122 [==============================] - 17s 141ms/step - loss: 0.6206 - accuracy: 0.7131 - val_loss: 0.8231 - val_accuracy: 0.6765\n",
            "Epoch 5/25\n",
            "122/122 [==============================] - 17s 143ms/step - loss: 0.6238 - accuracy: 0.7131 - val_loss: 1.1241 - val_accuracy: 0.6569\n",
            "Epoch 6/25\n",
            "122/122 [==============================] - 17s 142ms/step - loss: 0.5640 - accuracy: 0.7500 - val_loss: 1.1422 - val_accuracy: 0.5735\n",
            "Epoch 7/25\n",
            "122/122 [==============================] - 17s 141ms/step - loss: 0.5572 - accuracy: 0.7525 - val_loss: 1.5634 - val_accuracy: 0.5931\n",
            "Epoch 8/25\n",
            "122/122 [==============================] - 17s 140ms/step - loss: 0.5566 - accuracy: 0.7402 - val_loss: 0.6064 - val_accuracy: 0.7255\n",
            "Epoch 9/25\n",
            "122/122 [==============================] - 17s 141ms/step - loss: 0.5181 - accuracy: 0.7598 - val_loss: 0.8413 - val_accuracy: 0.7010\n",
            "Epoch 10/25\n",
            "122/122 [==============================] - 18s 144ms/step - loss: 0.5155 - accuracy: 0.7574 - val_loss: 0.6316 - val_accuracy: 0.7500\n",
            "Epoch 11/25\n",
            "122/122 [==============================] - 17s 140ms/step - loss: 0.5088 - accuracy: 0.7803 - val_loss: 0.8421 - val_accuracy: 0.6716\n",
            "Epoch 12/25\n",
            "122/122 [==============================] - 17s 141ms/step - loss: 0.4800 - accuracy: 0.7877 - val_loss: 0.7397 - val_accuracy: 0.7304\n",
            "Epoch 13/25\n",
            "122/122 [==============================] - 17s 141ms/step - loss: 0.4619 - accuracy: 0.7934 - val_loss: 0.5856 - val_accuracy: 0.7353\n",
            "Epoch 14/25\n",
            "122/122 [==============================] - 17s 142ms/step - loss: 0.4944 - accuracy: 0.7738 - val_loss: 0.7536 - val_accuracy: 0.7255\n",
            "Epoch 15/25\n",
            "122/122 [==============================] - 17s 141ms/step - loss: 0.4939 - accuracy: 0.7754 - val_loss: 1.0175 - val_accuracy: 0.6814\n",
            "Epoch 16/25\n",
            "122/122 [==============================] - 17s 141ms/step - loss: 0.4577 - accuracy: 0.7869 - val_loss: 0.7291 - val_accuracy: 0.7353\n",
            "Epoch 17/25\n",
            "122/122 [==============================] - 17s 140ms/step - loss: 0.4416 - accuracy: 0.8057 - val_loss: 0.9290 - val_accuracy: 0.7549\n",
            "Epoch 18/25\n",
            "122/122 [==============================] - 17s 141ms/step - loss: 0.4592 - accuracy: 0.7951 - val_loss: 0.6607 - val_accuracy: 0.7157\n",
            "Epoch 19/25\n",
            "122/122 [==============================] - 17s 143ms/step - loss: 0.4868 - accuracy: 0.7803 - val_loss: 0.5942 - val_accuracy: 0.7647\n",
            "Epoch 20/25\n",
            "122/122 [==============================] - 17s 142ms/step - loss: 0.4620 - accuracy: 0.7967 - val_loss: 0.6956 - val_accuracy: 0.7549\n",
            "Epoch 21/25\n",
            "122/122 [==============================] - 17s 141ms/step - loss: 0.4320 - accuracy: 0.8090 - val_loss: 0.9484 - val_accuracy: 0.7402\n",
            "Epoch 22/25\n",
            "122/122 [==============================] - 17s 141ms/step - loss: 0.4298 - accuracy: 0.8016 - val_loss: 1.0698 - val_accuracy: 0.6863\n",
            "Epoch 23/25\n",
            "122/122 [==============================] - 17s 142ms/step - loss: 0.4166 - accuracy: 0.8148 - val_loss: 0.6502 - val_accuracy: 0.7549\n",
            "Epoch 24/25\n",
            "122/122 [==============================] - 17s 142ms/step - loss: 0.4325 - accuracy: 0.7951 - val_loss: 0.7206 - val_accuracy: 0.7647\n",
            "Epoch 25/25\n",
            "122/122 [==============================] - 17s 142ms/step - loss: 0.4201 - accuracy: 0.8131 - val_loss: 0.5142 - val_accuracy: 0.7990\n"
          ],
          "name": "stdout"
        },
        {
          "output_type": "display_data",
          "data": {
            "image/png": "[encoded data removed]",
            "text/plain": [
              "<Figure size 432x288 with 1 Axes>"
            ]
          },
          "metadata": {
            "tags": [],
            "needs_background": "light"
          }
        },
        {
          "output_type": "display_data",
          "data": {
            "image/png": "[encoded data removed]",
            "text/plain": [
              "<Figure size 432x288 with 1 Axes>"
            ]
          },
          "metadata": {
            "tags": [],
            "needs_background": "light"
          }
        }
      ]
    },
    {
      "cell_type": "code",
      "metadata": {
        "id": "NrQm3F91xDiW",
        "colab_type": "code",
        "colab": {
          "base_uri": "https://localhost:8080/",
          "height": 84
        },
        "outputId": "6bf43497-f8a7-4160-cce1-3966c5ddd393"
      },
      "source": [
        "##Load the weights of the best model acquired in training\n",
        "model.load_weights(model_path)\n",
        "\n",
        "results = test_model(model, test)\n",
        "print(f'Test: {results}')\n",
        "\n",
        "results = test_model(model, val)\n",
        "print(f'Val: {results}')"
      ],
      "execution_count": 160,
      "outputs": [
        {
          "output_type": "stream",
          "text": [
            "23/23 [==============================] - 0s 20ms/step - loss: 0.5023 - accuracy: 0.8130\n",
            "Test: {'accuracy': 0.813043475151062, 'loss': 0.5023206472396851}\n",
            "17/17 [==============================] - 0s 26ms/step - loss: 0.5436 - accuracy: 0.7647\n",
            "Val: {'accuracy': 0.7647058963775635, 'loss': 0.5435891151428223}\n"
          ],
          "name": "stdout"
        }
      ]
    },
    {
      "cell_type": "markdown",
      "metadata": {
        "id": "WnzK5NVcxLE4",
        "colab_type": "text"
      },
      "source": [
        "Model with Data Augmentation and Dropout 0.5"
      ]
    },
    {
      "cell_type": "code",
      "metadata": {
        "id": "IAJy2kPPxXTi",
        "colab_type": "code",
        "colab": {
          "base_uri": "https://localhost:8080/",
          "height": 1000
        },
        "outputId": "9600f352-cc93-42b1-ee41-1741c1c743cf"
      },
      "source": [
        "from tensorflow.keras.models import Sequential\n",
        "from tensorflow.keras.layers import Dense, Conv2D, Flatten, MaxPooling2D, Dropout\n",
        "\n",
        "model = Sequential()\n",
        "model.add( Conv2D( 12, ( 3, 3 ), activation = 'relu', input_shape = (256, 256, 3) ) )\n",
        "model.add( MaxPooling2D((2,2)) )\n",
        "model.add( Conv2D( 12, ( 3, 3 ), activation = 'relu' ) )\n",
        "model.add( MaxPooling2D((2,2)) )\n",
        "model.add( Conv2D( 32, ( 3, 3 ), activation = 'relu' ) )\n",
        "model.add( MaxPooling2D(2,2) )\n",
        "model.add( Conv2D( 32, (3, 3 ), activation='relu') )\n",
        "model.add( Flatten() )\n",
        "model.add( Dropout(0.5) )\n",
        "model.add( Dense( 24, activation = 'relu' ) )\n",
        "model.add( Dense( 12, activation = 'relu' ) )\n",
        "model.add( Dense( 3, activation = 'softmax' ) )\n",
        "model.summary()\n",
        "\n",
        "##Compile the model\n",
        "model.compile( optimizer = 'adam', loss = 'categorical_crossentropy', metrics = [ 'accuracy' ] )\n",
        "\n",
        "##Set the params from training\n",
        "train = {'gen': train_generator, 'steps': int( (1 + 1.0) * train_batches) }\n",
        "val = {'gen': val_generator, 'steps': val_batches }\n",
        "test = {'gen': test_generator, 'steps': test_batches }\n",
        "\n",
        "model_path = '4ConvMaxPool3DenseDropout5.h5'\n",
        "\n",
        "##Train the model\n",
        "history = train_model(model, train, val, model_path)\n",
        "disp_plot(history, model_path.split('.')[0])"
      ],
      "execution_count": 161,
      "outputs": [
        {
          "output_type": "stream",
          "text": [
            "Model: \"sequential_45\"\n",
            "_________________________________________________________________\n",
            "Layer (type)                 Output Shape              Param #   \n",
            "=================================================================\n",
            "conv2d_180 (Conv2D)          (None, 254, 254, 12)      336       \n",
            "_________________________________________________________________\n",
            "max_pooling2d_135 (MaxPoolin (None, 127, 127, 12)      0         \n",
            "_________________________________________________________________\n",
            "conv2d_181 (Conv2D)          (None, 125, 125, 12)      1308      \n",
            "_________________________________________________________________\n",
            "max_pooling2d_136 (MaxPoolin (None, 62, 62, 12)        0         \n",
            "_________________________________________________________________\n",
            "conv2d_182 (Conv2D)          (None, 60, 60, 32)        3488      \n",
            "_________________________________________________________________\n",
            "max_pooling2d_137 (MaxPoolin (None, 30, 30, 32)        0         \n",
            "_________________________________________________________________\n",
            "conv2d_183 (Conv2D)          (None, 28, 28, 32)        9248      \n",
            "_________________________________________________________________\n",
            "flatten_45 (Flatten)         (None, 25088)             0         \n",
            "_________________________________________________________________\n",
            "dropout_9 (Dropout)          (None, 25088)             0         \n",
            "_________________________________________________________________\n",
            "dense_123 (Dense)            (None, 24)                602136    \n",
            "_________________________________________________________________\n",
            "dense_124 (Dense)            (None, 12)                300       \n",
            "_________________________________________________________________\n",
            "dense_125 (Dense)            (None, 3)                 39        \n",
            "=================================================================\n",
            "Total params: 616,855\n",
            "Trainable params: 616,855\n",
            "Non-trainable params: 0\n",
            "_________________________________________________________________\n",
            "Epoch 1/25\n",
            "122/122 [==============================] - 17s 143ms/step - loss: 0.9379 - accuracy: 0.5025 - val_loss: 0.9589 - val_accuracy: 0.5196\n",
            "Epoch 2/25\n",
            "122/122 [==============================] - 17s 141ms/step - loss: 0.7257 - accuracy: 0.6213 - val_loss: 1.3227 - val_accuracy: 0.5049\n",
            "Epoch 3/25\n",
            "122/122 [==============================] - 18s 146ms/step - loss: 0.6912 - accuracy: 0.6361 - val_loss: 1.2203 - val_accuracy: 0.5147\n",
            "Epoch 4/25\n",
            "122/122 [==============================] - 18s 146ms/step - loss: 0.6559 - accuracy: 0.6803 - val_loss: 0.7357 - val_accuracy: 0.6618\n",
            "Epoch 5/25\n",
            "122/122 [==============================] - 17s 140ms/step - loss: 0.5927 - accuracy: 0.7262 - val_loss: 1.5656 - val_accuracy: 0.5000\n",
            "Epoch 6/25\n",
            "122/122 [==============================] - 17s 140ms/step - loss: 0.5413 - accuracy: 0.7508 - val_loss: 1.1920 - val_accuracy: 0.6029\n",
            "Epoch 7/25\n",
            "122/122 [==============================] - 17s 142ms/step - loss: 0.5796 - accuracy: 0.7213 - val_loss: 1.3421 - val_accuracy: 0.5245\n",
            "Epoch 8/25\n",
            "122/122 [==============================] - 17s 142ms/step - loss: 0.5327 - accuracy: 0.7574 - val_loss: 1.9589 - val_accuracy: 0.4951\n",
            "Epoch 9/25\n",
            "122/122 [==============================] - 17s 141ms/step - loss: 0.5121 - accuracy: 0.7590 - val_loss: 0.9231 - val_accuracy: 0.6422\n",
            "Epoch 10/25\n",
            "122/122 [==============================] - 17s 140ms/step - loss: 0.5255 - accuracy: 0.7697 - val_loss: 0.7385 - val_accuracy: 0.6667\n",
            "Epoch 11/25\n",
            "122/122 [==============================] - 17s 141ms/step - loss: 0.4728 - accuracy: 0.7918 - val_loss: 0.7094 - val_accuracy: 0.7402\n",
            "Epoch 12/25\n",
            "122/122 [==============================] - 17s 140ms/step - loss: 0.5227 - accuracy: 0.7426 - val_loss: 0.7823 - val_accuracy: 0.6569\n",
            "Epoch 13/25\n",
            "122/122 [==============================] - 17s 141ms/step - loss: 0.4755 - accuracy: 0.7738 - val_loss: 0.6927 - val_accuracy: 0.7157\n",
            "Epoch 14/25\n",
            "122/122 [==============================] - 17s 141ms/step - loss: 0.4990 - accuracy: 0.7844 - val_loss: 0.8050 - val_accuracy: 0.6912\n",
            "Epoch 15/25\n",
            "122/122 [==============================] - 17s 140ms/step - loss: 0.5331 - accuracy: 0.7361 - val_loss: 0.5585 - val_accuracy: 0.7598\n",
            "Epoch 16/25\n",
            "122/122 [==============================] - 17s 140ms/step - loss: 0.4908 - accuracy: 0.7779 - val_loss: 0.6899 - val_accuracy: 0.7304\n",
            "Epoch 17/25\n",
            "122/122 [==============================] - 17s 141ms/step - loss: 0.4607 - accuracy: 0.7852 - val_loss: 0.7011 - val_accuracy: 0.7010\n",
            "Epoch 18/25\n",
            "122/122 [==============================] - 17s 140ms/step - loss: 0.4578 - accuracy: 0.8025 - val_loss: 0.7821 - val_accuracy: 0.7255\n",
            "Epoch 19/25\n",
            "122/122 [==============================] - 17s 140ms/step - loss: 0.4381 - accuracy: 0.7992 - val_loss: 0.6279 - val_accuracy: 0.7500\n",
            "Epoch 20/25\n",
            "122/122 [==============================] - 17s 141ms/step - loss: 0.4426 - accuracy: 0.7951 - val_loss: 0.8079 - val_accuracy: 0.7157\n",
            "Epoch 21/25\n",
            "122/122 [==============================] - 17s 142ms/step - loss: 0.4326 - accuracy: 0.7918 - val_loss: 0.9399 - val_accuracy: 0.6765\n",
            "Epoch 22/25\n",
            "122/122 [==============================] - 17s 141ms/step - loss: 0.4579 - accuracy: 0.7738 - val_loss: 0.7080 - val_accuracy: 0.6912\n",
            "Epoch 23/25\n",
            "122/122 [==============================] - 17s 141ms/step - loss: 0.4284 - accuracy: 0.8074 - val_loss: 1.0437 - val_accuracy: 0.7304\n"
          ],
          "name": "stdout"
        },
        {
          "output_type": "display_data",
          "data": {
            "image/png": "[encoded data removed]",
            "text/plain": [
              "<Figure size 432x288 with 1 Axes>"
            ]
          },
          "metadata": {
            "tags": [],
            "needs_background": "light"
          }
        },
        {
          "output_type": "display_data",
          "data": {
            "image/png": "[encoded data removed]",
            "text/plain": [
              "<Figure size 432x288 with 1 Axes>"
            ]
          },
          "metadata": {
            "tags": [],
            "needs_background": "light"
          }
        }
      ]
    },
    {
      "cell_type": "code",
      "metadata": {
        "id": "INmYMigwxaqb",
        "colab_type": "code",
        "colab": {
          "base_uri": "https://localhost:8080/",
          "height": 84
        },
        "outputId": "ff81ec3c-e460-4f95-8fff-2cc39be35235"
      },
      "source": [
        "##Load the weights of the best model acquired in training\n",
        "model.load_weights(model_path)\n",
        "\n",
        "results = test_model(model, test)\n",
        "print(f'Test: {results}')\n",
        "\n",
        "results = test_model(model, val)\n",
        "print(f'Val: {results}')"
      ],
      "execution_count": 162,
      "outputs": [
        {
          "output_type": "stream",
          "text": [
            "23/23 [==============================] - 0s 19ms/step - loss: 0.5220 - accuracy: 0.7783\n",
            "Test: {'accuracy': 0.7782608866691589, 'loss': 0.5219878554344177}\n",
            "17/17 [==============================] - 0s 28ms/step - loss: 0.6155 - accuracy: 0.7353\n",
            "Val: {'accuracy': 0.7352941036224365, 'loss': 0.6155266761779785}\n"
          ],
          "name": "stdout"
        }
      ]
    },
    {
      "cell_type": "markdown",
      "metadata": {
        "id": "dn5lMwAJpX8P",
        "colab_type": "text"
      },
      "source": [
        "Establish Translations-Only Data Generators"
      ]
    },
    {
      "cell_type": "code",
      "metadata": {
        "colab_type": "code",
        "outputId": "ee07fc0e-b901-45f7-9b9b-bac8884d5e2b",
        "id": "gImI9k9mpsJv",
        "colab": {
          "base_uri": "https://localhost:8080/",
          "height": 67
        }
      },
      "source": [
        "from tensorflow.keras.preprocessing.image import ImageDataGenerator\n",
        "\n",
        "train_dir = os.path.join('.', 'train')\n",
        "val_dir = os.path.join('.', 'validation')\n",
        "test_dir = os.path.join('.', 'test')\n",
        "\n",
        "train_batches = 61\n",
        "val_batches = 17\n",
        "test_batches = 23\n",
        "\n",
        "##Create Development Set Generators\n",
        "##Note that 61 * 10 = 610 training samples\n",
        "train_generator = ImageDataGenerator(rescale=1./255,\n",
        "                                     width_shift_range=0.2,\n",
        "                                     height_shift_range=0.2,\n",
        "                                     fill_mode='nearest',\n",
        "                                     ).flow_from_directory(train_dir, target_size=(256, 256), batch_size=10, class_mode='categorical')\n",
        "##Note that 17 * 12 = 240 validation samples\n",
        "val_generator = ImageDataGenerator(rescale=1./255).flow_from_directory(val_dir, target_size=(256, 256), batch_size=12, class_mode='categorical')\n",
        "\n",
        "##Create Test Generator\n",
        "##Note that 23 * 10 = 230 Test samples\n",
        "test_generator = ImageDataGenerator(rescale=1./255).flow_from_directory(test_dir, target_size=(256,256), batch_size=10, class_mode='categorical')"
      ],
      "execution_count": 163,
      "outputs": [
        {
          "output_type": "stream",
          "text": [
            "Found 610 images belonging to 3 classes.\n",
            "Found 204 images belonging to 3 classes.\n",
            "Found 230 images belonging to 3 classes.\n"
          ],
          "name": "stdout"
        }
      ]
    },
    {
      "cell_type": "markdown",
      "metadata": {
        "id": "1tszEOn1s8Td",
        "colab_type": "text"
      },
      "source": [
        "Run Model Against Translations-Only Data Generators"
      ]
    },
    {
      "cell_type": "code",
      "metadata": {
        "id": "ONAdK1eUrSWa",
        "colab_type": "code",
        "colab": {
          "base_uri": "https://localhost:8080/",
          "height": 1000
        },
        "outputId": "5f41cece-7495-4c01-f44d-7468c58b5d69"
      },
      "source": [
        "from tensorflow.keras.models import Sequential\n",
        "from tensorflow.keras.layers import Dense, Conv2D, Flatten, MaxPooling2D\n",
        "\n",
        "model = Sequential()\n",
        "model.add( Conv2D( 12, ( 3, 3 ), activation = 'relu', input_shape = (256, 256, 3) ) )\n",
        "model.add( MaxPooling2D((2,2)) )\n",
        "model.add( Conv2D( 12, ( 3, 3 ), activation = 'relu' ) )\n",
        "model.add( MaxPooling2D((2,2)) )\n",
        "model.add( Conv2D( 32, ( 3, 3 ), activation = 'relu' ) )\n",
        "model.add( MaxPooling2D(2,2) )\n",
        "model.add( Conv2D( 32, (3, 3 ), activation='relu') )\n",
        "model.add( Flatten() )\n",
        "model.add( Dense( 24, activation = 'relu' ) )\n",
        "model.add( Dense( 12, activation = 'relu' ) )\n",
        "model.add( Dense( 3, activation = 'softmax' ) )\n",
        "model.summary()\n",
        "\n",
        "##Compile the model\n",
        "model.compile( optimizer = 'adam', loss = 'categorical_crossentropy', metrics = [ 'accuracy' ] )\n",
        "\n",
        "##Set the params from training\n",
        "train = {'gen': train_generator, 'steps': int( (1 + 1.0) * train_batches) }\n",
        "val = {'gen': val_generator, 'steps': val_batches }\n",
        "test = {'gen': test_generator, 'steps': test_batches }\n",
        "\n",
        "model_path = '4ConvMaxPool3DenseXyZ.h5'\n",
        "\n",
        "##Train the model\n",
        "history = train_model(model, train, val, model_path)\n",
        "disp_plot(history, model_path.split('.')[0])"
      ],
      "execution_count": 164,
      "outputs": [
        {
          "output_type": "stream",
          "text": [
            "Model: \"sequential_46\"\n",
            "_________________________________________________________________\n",
            "Layer (type)                 Output Shape              Param #   \n",
            "=================================================================\n",
            "conv2d_184 (Conv2D)          (None, 254, 254, 12)      336       \n",
            "_________________________________________________________________\n",
            "max_pooling2d_138 (MaxPoolin (None, 127, 127, 12)      0         \n",
            "_________________________________________________________________\n",
            "conv2d_185 (Conv2D)          (None, 125, 125, 12)      1308      \n",
            "_________________________________________________________________\n",
            "max_pooling2d_139 (MaxPoolin (None, 62, 62, 12)        0         \n",
            "_________________________________________________________________\n",
            "conv2d_186 (Conv2D)          (None, 60, 60, 32)        3488      \n",
            "_________________________________________________________________\n",
            "max_pooling2d_140 (MaxPoolin (None, 30, 30, 32)        0         \n",
            "_________________________________________________________________\n",
            "conv2d_187 (Conv2D)          (None, 28, 28, 32)        9248      \n",
            "_________________________________________________________________\n",
            "flatten_46 (Flatten)         (None, 25088)             0         \n",
            "_________________________________________________________________\n",
            "dense_126 (Dense)            (None, 24)                602136    \n",
            "_________________________________________________________________\n",
            "dense_127 (Dense)            (None, 12)                300       \n",
            "_________________________________________________________________\n",
            "dense_128 (Dense)            (None, 3)                 39        \n",
            "=================================================================\n",
            "Total params: 616,855\n",
            "Trainable params: 616,855\n",
            "Non-trainable params: 0\n",
            "_________________________________________________________________\n",
            "Epoch 1/25\n",
            "122/122 [==============================] - 17s 138ms/step - loss: 0.9299 - accuracy: 0.5262 - val_loss: 1.0493 - val_accuracy: 0.5784\n",
            "Epoch 2/25\n",
            "122/122 [==============================] - 17s 137ms/step - loss: 0.7368 - accuracy: 0.6623 - val_loss: 0.6654 - val_accuracy: 0.6814\n",
            "Epoch 3/25\n",
            "122/122 [==============================] - 17s 138ms/step - loss: 0.6412 - accuracy: 0.7148 - val_loss: 0.6601 - val_accuracy: 0.6912\n",
            "Epoch 4/25\n",
            "122/122 [==============================] - 17s 138ms/step - loss: 0.5917 - accuracy: 0.7475 - val_loss: 0.6500 - val_accuracy: 0.6863\n",
            "Epoch 5/25\n",
            "122/122 [==============================] - 17s 137ms/step - loss: 0.5337 - accuracy: 0.7623 - val_loss: 0.6070 - val_accuracy: 0.7304\n",
            "Epoch 6/25\n",
            "122/122 [==============================] - 17s 137ms/step - loss: 0.5339 - accuracy: 0.7582 - val_loss: 0.6427 - val_accuracy: 0.7108\n",
            "Epoch 7/25\n",
            "122/122 [==============================] - 17s 136ms/step - loss: 0.5076 - accuracy: 0.7869 - val_loss: 0.8248 - val_accuracy: 0.6765\n",
            "Epoch 8/25\n",
            "122/122 [==============================] - 17s 138ms/step - loss: 0.4891 - accuracy: 0.7984 - val_loss: 0.5802 - val_accuracy: 0.7255\n",
            "Epoch 9/25\n",
            "122/122 [==============================] - 17s 137ms/step - loss: 0.4393 - accuracy: 0.8074 - val_loss: 0.6355 - val_accuracy: 0.7451\n",
            "Epoch 10/25\n",
            "122/122 [==============================] - 17s 136ms/step - loss: 0.4488 - accuracy: 0.7926 - val_loss: 0.5849 - val_accuracy: 0.7304\n",
            "Epoch 11/25\n",
            "122/122 [==============================] - 17s 136ms/step - loss: 0.4438 - accuracy: 0.8008 - val_loss: 0.9067 - val_accuracy: 0.7255\n",
            "Epoch 12/25\n",
            "122/122 [==============================] - 17s 136ms/step - loss: 0.4460 - accuracy: 0.8016 - val_loss: 0.7937 - val_accuracy: 0.7402\n",
            "Epoch 13/25\n",
            "122/122 [==============================] - 17s 137ms/step - loss: 0.4631 - accuracy: 0.7893 - val_loss: 0.6641 - val_accuracy: 0.7206\n",
            "Epoch 14/25\n",
            "122/122 [==============================] - 17s 136ms/step - loss: 0.4181 - accuracy: 0.8115 - val_loss: 0.6979 - val_accuracy: 0.7402\n",
            "Epoch 15/25\n",
            "122/122 [==============================] - 17s 137ms/step - loss: 0.4033 - accuracy: 0.8279 - val_loss: 0.5996 - val_accuracy: 0.7500\n",
            "Epoch 16/25\n",
            "122/122 [==============================] - 17s 138ms/step - loss: 0.3987 - accuracy: 0.8262 - val_loss: 0.5130 - val_accuracy: 0.7745\n",
            "Epoch 17/25\n",
            "122/122 [==============================] - 17s 138ms/step - loss: 0.3752 - accuracy: 0.8344 - val_loss: 0.5032 - val_accuracy: 0.7794\n",
            "Epoch 18/25\n",
            "122/122 [==============================] - 17s 137ms/step - loss: 0.4066 - accuracy: 0.8180 - val_loss: 0.5403 - val_accuracy: 0.7696\n",
            "Epoch 19/25\n",
            "122/122 [==============================] - 17s 136ms/step - loss: 0.3573 - accuracy: 0.8516 - val_loss: 1.2119 - val_accuracy: 0.5882\n",
            "Epoch 20/25\n",
            "122/122 [==============================] - 17s 136ms/step - loss: 0.5410 - accuracy: 0.7672 - val_loss: 0.7536 - val_accuracy: 0.7794\n",
            "Epoch 21/25\n",
            "122/122 [==============================] - 17s 137ms/step - loss: 0.3663 - accuracy: 0.8459 - val_loss: 0.5524 - val_accuracy: 0.7843\n",
            "Epoch 22/25\n",
            "122/122 [==============================] - 17s 136ms/step - loss: 0.3993 - accuracy: 0.8328 - val_loss: 0.5516 - val_accuracy: 0.7598\n",
            "Epoch 23/25\n",
            "122/122 [==============================] - 17s 137ms/step - loss: 0.3463 - accuracy: 0.8533 - val_loss: 0.7482 - val_accuracy: 0.7402\n",
            "Epoch 24/25\n",
            "122/122 [==============================] - 17s 136ms/step - loss: 0.3614 - accuracy: 0.8574 - val_loss: 0.5588 - val_accuracy: 0.7745\n",
            "Epoch 25/25\n",
            "122/122 [==============================] - 17s 135ms/step - loss: 0.3538 - accuracy: 0.8451 - val_loss: 0.6150 - val_accuracy: 0.8039\n"
          ],
          "name": "stdout"
        },
        {
          "output_type": "display_data",
          "data": {
            "image/png": "[encoded data removed]",
            "text/plain": [
              "<Figure size 432x288 with 1 Axes>"
            ]
          },
          "metadata": {
            "tags": [],
            "needs_background": "light"
          }
        },
        {
          "output_type": "display_data",
          "data": {
            "image/png": "[encoded data removed]",
            "text/plain": [
              "<Figure size 432x288 with 1 Axes>"
            ]
          },
          "metadata": {
            "tags": [],
            "needs_background": "light"
          }
        }
      ]
    },
    {
      "cell_type": "code",
      "metadata": {
        "id": "mAfPzLjtrah8",
        "colab_type": "code",
        "colab": {
          "base_uri": "https://localhost:8080/",
          "height": 84
        },
        "outputId": "ac07e221-b4ff-4d7a-97ab-3943ee0a4808"
      },
      "source": [
        "##Load the weights of the best model acquired in training\n",
        "model.load_weights(model_path)\n",
        "\n",
        "results = test_model(model, test)\n",
        "print(f'Test: {results}')\n",
        "\n",
        "results = test_model(model, val)\n",
        "print(f'Val: {results}')"
      ],
      "execution_count": 165,
      "outputs": [
        {
          "output_type": "stream",
          "text": [
            "23/23 [==============================] - 0s 20ms/step - loss: 0.4287 - accuracy: 0.8130\n",
            "Test: {'accuracy': 0.813043475151062, 'loss': 0.428727924823761}\n",
            "17/17 [==============================] - 0s 25ms/step - loss: 0.4898 - accuracy: 0.8039\n",
            "Val: {'accuracy': 0.8039215803146362, 'loss': 0.4897559583187103}\n"
          ],
          "name": "stdout"
        }
      ]
    },
    {
      "cell_type": "markdown",
      "metadata": {
        "id": "0Q2sqyMEpyI8",
        "colab_type": "text"
      },
      "source": [
        "Establish Rotations-Only Data Generators"
      ]
    },
    {
      "cell_type": "code",
      "metadata": {
        "id": "etX0ChLkp4KQ",
        "colab_type": "code",
        "colab": {
          "base_uri": "https://localhost:8080/",
          "height": 67
        },
        "outputId": "caea1b45-94a6-4c48-ef36-d6c1ef0f7c5a"
      },
      "source": [
        "from tensorflow.keras.preprocessing.image import ImageDataGenerator\n",
        "\n",
        "train_dir = os.path.join('.', 'train')\n",
        "val_dir = os.path.join('.', 'validation')\n",
        "test_dir = os.path.join('.', 'test')\n",
        "\n",
        "train_batches = 61\n",
        "val_batches = 17\n",
        "test_batches = 23\n",
        "\n",
        "##Create Development Set Generators\n",
        "##Note that 61 * 10 = 610 training samples\n",
        "train_generator = ImageDataGenerator(rescale=1./255,\n",
        "                                     rotation_range=60,\n",
        "                                     fill_mode='nearest',\n",
        "                                     ).flow_from_directory(train_dir, target_size=(256, 256), batch_size=10, class_mode='categorical')\n",
        "##Note that 17 * 12 = 240 validation samples\n",
        "val_generator = ImageDataGenerator(rescale=1./255).flow_from_directory(val_dir, target_size=(256, 256), batch_size=12, class_mode='categorical')\n",
        "\n",
        "##Create Test Generator\n",
        "##Note that 23 * 10 = 230 Test samples\n",
        "test_generator = ImageDataGenerator(rescale=1./255).flow_from_directory(test_dir, target_size=(256,256), batch_size=10, class_mode='categorical')"
      ],
      "execution_count": 166,
      "outputs": [
        {
          "output_type": "stream",
          "text": [
            "Found 610 images belonging to 3 classes.\n",
            "Found 204 images belonging to 3 classes.\n",
            "Found 230 images belonging to 3 classes.\n"
          ],
          "name": "stdout"
        }
      ]
    },
    {
      "cell_type": "markdown",
      "metadata": {
        "id": "ktES0JvFtGzf",
        "colab_type": "text"
      },
      "source": [
        "Run Model on Rotations-Only Data Generators"
      ]
    },
    {
      "cell_type": "code",
      "metadata": {
        "id": "1-tRamTHroiG",
        "colab_type": "code",
        "colab": {
          "base_uri": "https://localhost:8080/",
          "height": 1000
        },
        "outputId": "776b3189-59f0-4cb3-ba0b-e24db81db831"
      },
      "source": [
        "from tensorflow.keras.models import Sequential\n",
        "from tensorflow.keras.layers import Dense, Conv2D, Flatten, MaxPooling2D\n",
        "\n",
        "model = Sequential()\n",
        "model.add( Conv2D( 12, ( 3, 3 ), activation = 'relu', input_shape = (256, 256, 3) ) )\n",
        "model.add( MaxPooling2D((2,2)) )\n",
        "model.add( Conv2D( 12, ( 3, 3 ), activation = 'relu' ) )\n",
        "model.add( MaxPooling2D((2,2)) )\n",
        "model.add( Conv2D( 32, ( 3, 3 ), activation = 'relu' ) )\n",
        "model.add( MaxPooling2D(2,2) )\n",
        "model.add( Conv2D( 32, (3, 3 ), activation='relu') )\n",
        "model.add( Flatten() )\n",
        "model.add( Dense( 24, activation = 'relu' ) )\n",
        "model.add( Dense( 12, activation = 'relu' ) )\n",
        "model.add( Dense( 3, activation = 'softmax' ) )\n",
        "model.summary()\n",
        "\n",
        "##Compile the model\n",
        "model.compile( optimizer = 'adam', loss = 'categorical_crossentropy', metrics = [ 'accuracy' ] )\n",
        "\n",
        "##Set the params from training\n",
        "train = {'gen': train_generator, 'steps': int( (1 + 1.0) * train_batches) }\n",
        "val = {'gen': val_generator, 'steps': val_batches }\n",
        "test = {'gen': test_generator, 'steps': test_batches }\n",
        "\n",
        "model_path = '4ConvMaxPool3DenseRot.h5'\n",
        "\n",
        "##Train the model\n",
        "history = train_model(model, train, val, model_path)\n",
        "disp_plot(history, model_path.split('.')[0])"
      ],
      "execution_count": 167,
      "outputs": [
        {
          "output_type": "stream",
          "text": [
            "Model: \"sequential_47\"\n",
            "_________________________________________________________________\n",
            "Layer (type)                 Output Shape              Param #   \n",
            "=================================================================\n",
            "conv2d_188 (Conv2D)          (None, 254, 254, 12)      336       \n",
            "_________________________________________________________________\n",
            "max_pooling2d_141 (MaxPoolin (None, 127, 127, 12)      0         \n",
            "_________________________________________________________________\n",
            "conv2d_189 (Conv2D)          (None, 125, 125, 12)      1308      \n",
            "_________________________________________________________________\n",
            "max_pooling2d_142 (MaxPoolin (None, 62, 62, 12)        0         \n",
            "_________________________________________________________________\n",
            "conv2d_190 (Conv2D)          (None, 60, 60, 32)        3488      \n",
            "_________________________________________________________________\n",
            "max_pooling2d_143 (MaxPoolin (None, 30, 30, 32)        0         \n",
            "_________________________________________________________________\n",
            "conv2d_191 (Conv2D)          (None, 28, 28, 32)        9248      \n",
            "_________________________________________________________________\n",
            "flatten_47 (Flatten)         (None, 25088)             0         \n",
            "_________________________________________________________________\n",
            "dense_129 (Dense)            (None, 24)                602136    \n",
            "_________________________________________________________________\n",
            "dense_130 (Dense)            (None, 12)                300       \n",
            "_________________________________________________________________\n",
            "dense_131 (Dense)            (None, 3)                 39        \n",
            "=================================================================\n",
            "Total params: 616,855\n",
            "Trainable params: 616,855\n",
            "Non-trainable params: 0\n",
            "_________________________________________________________________\n",
            "Epoch 1/25\n",
            "122/122 [==============================] - 17s 139ms/step - loss: 0.8814 - accuracy: 0.5713 - val_loss: 0.8257 - val_accuracy: 0.6422\n",
            "Epoch 2/25\n",
            "122/122 [==============================] - 17s 138ms/step - loss: 0.6522 - accuracy: 0.6885 - val_loss: 0.7109 - val_accuracy: 0.6716\n",
            "Epoch 3/25\n",
            "122/122 [==============================] - 17s 138ms/step - loss: 0.5997 - accuracy: 0.7164 - val_loss: 0.8973 - val_accuracy: 0.6225\n",
            "Epoch 4/25\n",
            "122/122 [==============================] - 17s 137ms/step - loss: 0.5440 - accuracy: 0.7467 - val_loss: 0.7705 - val_accuracy: 0.6716\n",
            "Epoch 5/25\n",
            "122/122 [==============================] - 17s 137ms/step - loss: 0.5254 - accuracy: 0.7525 - val_loss: 0.7434 - val_accuracy: 0.7255\n",
            "Epoch 6/25\n",
            "122/122 [==============================] - 17s 137ms/step - loss: 0.5020 - accuracy: 0.7705 - val_loss: 0.6719 - val_accuracy: 0.6765\n",
            "Epoch 7/25\n",
            "122/122 [==============================] - 17s 139ms/step - loss: 0.4785 - accuracy: 0.7738 - val_loss: 0.6776 - val_accuracy: 0.7108\n",
            "Epoch 8/25\n",
            "122/122 [==============================] - 17s 139ms/step - loss: 0.4573 - accuracy: 0.7992 - val_loss: 0.9904 - val_accuracy: 0.7059\n",
            "Epoch 9/25\n",
            "122/122 [==============================] - 17s 139ms/step - loss: 0.4305 - accuracy: 0.8000 - val_loss: 0.7969 - val_accuracy: 0.7206\n",
            "Epoch 10/25\n",
            "122/122 [==============================] - 17s 139ms/step - loss: 0.4055 - accuracy: 0.8230 - val_loss: 0.8356 - val_accuracy: 0.6961\n",
            "Epoch 11/25\n",
            "122/122 [==============================] - 17s 139ms/step - loss: 0.3549 - accuracy: 0.8434 - val_loss: 0.8705 - val_accuracy: 0.7843\n",
            "Epoch 12/25\n",
            "122/122 [==============================] - 17s 140ms/step - loss: 0.3512 - accuracy: 0.8459 - val_loss: 1.3512 - val_accuracy: 0.6324\n",
            "Epoch 13/25\n",
            "122/122 [==============================] - 17s 138ms/step - loss: 0.3405 - accuracy: 0.8623 - val_loss: 1.1827 - val_accuracy: 0.7353\n",
            "Epoch 14/25\n",
            "122/122 [==============================] - 17s 137ms/step - loss: 0.3544 - accuracy: 0.8451 - val_loss: 0.7947 - val_accuracy: 0.7353\n",
            "Epoch 15/25\n",
            "122/122 [==============================] - 17s 139ms/step - loss: 0.2985 - accuracy: 0.8738 - val_loss: 1.0967 - val_accuracy: 0.6716\n",
            "Epoch 16/25\n",
            "122/122 [==============================] - 17s 140ms/step - loss: 0.2778 - accuracy: 0.8967 - val_loss: 1.8140 - val_accuracy: 0.7206\n",
            "Epoch 17/25\n",
            "122/122 [==============================] - 17s 141ms/step - loss: 0.3483 - accuracy: 0.8582 - val_loss: 0.9064 - val_accuracy: 0.7696\n",
            "Epoch 18/25\n",
            "122/122 [==============================] - 17s 139ms/step - loss: 0.2857 - accuracy: 0.8869 - val_loss: 0.9296 - val_accuracy: 0.7451\n",
            "Epoch 19/25\n",
            "122/122 [==============================] - 17s 138ms/step - loss: 0.2428 - accuracy: 0.9000 - val_loss: 0.9234 - val_accuracy: 0.7451\n"
          ],
          "name": "stdout"
        },
        {
          "output_type": "display_data",
          "data": {
            "image/png": "[encoded data removed]",
            "text/plain": [
              "<Figure size 432x288 with 1 Axes>"
            ]
          },
          "metadata": {
            "tags": [],
            "needs_background": "light"
          }
        },
        {
          "output_type": "display_data",
          "data": {
            "image/png": "[encoded data removed]",
            "text/plain": [
              "<Figure size 432x288 with 1 Axes>"
            ]
          },
          "metadata": {
            "tags": [],
            "needs_background": "light"
          }
        }
      ]
    },
    {
      "cell_type": "code",
      "metadata": {
        "id": "sQTf1LgprrSI",
        "colab_type": "code",
        "colab": {
          "base_uri": "https://localhost:8080/",
          "height": 84
        },
        "outputId": "1f6f080a-555f-49a0-dae6-edc18c09eb31"
      },
      "source": [
        "##Load the weights of the best model acquired in training\n",
        "model.load_weights(model_path)\n",
        "\n",
        "results = test_model(model, test)\n",
        "print(f'Test: {results}')\n",
        "\n",
        "results = test_model(model, val)\n",
        "print(f'Val: {results}')"
      ],
      "execution_count": 168,
      "outputs": [
        {
          "output_type": "stream",
          "text": [
            "23/23 [==============================] - 0s 20ms/step - loss: 0.7253 - accuracy: 0.7217\n",
            "Test: {'accuracy': 0.7217391133308411, 'loss': 0.7252683043479919}\n",
            "17/17 [==============================] - 0s 26ms/step - loss: 0.8114 - accuracy: 0.6618\n",
            "Val: {'accuracy': 0.6617646813392639, 'loss': 0.8113826513290405}\n"
          ],
          "name": "stdout"
        }
      ]
    }
  ]
}