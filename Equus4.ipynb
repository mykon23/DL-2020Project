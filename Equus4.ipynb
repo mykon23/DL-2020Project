{
  "nbformat": 4,
  "nbformat_minor": 0,
  "metadata": {
    "colab": {
      "name": "Equus4.ipynb",
      "provenance": [],
      "collapsed_sections": [],
      "authorship_tag": "ABX9TyMSOvEHHSEcqQO1F9/dUYnr",
      "include_colab_link": true
    },
    "kernelspec": {
      "name": "python3",
      "display_name": "Python 3"
    }
  },
  "cells": [
    {
      "cell_type": "markdown",
      "metadata": {
        "id": "view-in-github",
        "colab_type": "text"
      },
      "source": [
        "<a href=\"https://colab.research.google.com/github/mykon23/DL-2020Project/blob/split_eval_test/Equus4.ipynb\" target=\"_parent\"><img src=\"https://colab.research.google.com/assets/colab-badge.svg\" alt=\"Open In Colab\"/></a>"
      ]
    },
    {
      "cell_type": "markdown",
      "metadata": {
        "id": "2wo1alGzRFMp",
        "colab_type": "text"
      },
      "source": [
        "Get the Equus Dataset"
      ]
    },
    {
      "cell_type": "code",
      "metadata": {
        "id": "P6TB6FMiTb1x",
        "colab_type": "code",
        "outputId": "ba3881b1-170f-4473-da7f-60b8ac4b6dd7",
        "colab": {
          "base_uri": "https://localhost:8080/",
          "height": 357
        }
      },
      "source": [
        "! wget -O Equus.tar.gz https://github.com/mykon23/DL-2020Project/blob/master/Equus.tar.gz?raw=true"
      ],
      "execution_count": 52,
      "outputs": [
        {
          "output_type": "stream",
          "text": [
            "--2020-04-07 23:37:26--  https://github.com/mykon23/DL-2020Project/blob/master/Equus.tar.gz?raw=true\n",
            "Resolving github.com (github.com)... 140.82.112.4\n",
            "Connecting to github.com (github.com)|140.82.112.4|:443... connected.\n",
            "HTTP request sent, awaiting response... 302 Found\n",
            "Location: https://github.com/mykon23/DL-2020Project/raw/master/Equus.tar.gz [following]\n",
            "--2020-04-07 23:37:27--  https://github.com/mykon23/DL-2020Project/raw/master/Equus.tar.gz\n",
            "Reusing existing connection to github.com:443.\n",
            "HTTP request sent, awaiting response... 302 Found\n",
            "Location: https://raw.githubusercontent.com/mykon23/DL-2020Project/master/Equus.tar.gz [following]\n",
            "--2020-04-07 23:37:27--  https://raw.githubusercontent.com/mykon23/DL-2020Project/master/Equus.tar.gz\n",
            "Resolving raw.githubusercontent.com (raw.githubusercontent.com)... 151.101.0.133, 151.101.64.133, 151.101.128.133, ...\n",
            "Connecting to raw.githubusercontent.com (raw.githubusercontent.com)|151.101.0.133|:443... connected.\n",
            "HTTP request sent, awaiting response... 200 OK\n",
            "Length: 18230746 (17M) [application/octet-stream]\n",
            "Saving to: ‘Equus.tar.gz’\n",
            "\n",
            "Equus.tar.gz        100%[===================>]  17.39M  98.4MB/s    in 0.2s    \n",
            "\n",
            "2020-04-07 23:37:27 (98.4 MB/s) - ‘Equus.tar.gz’ saved [18230746/18230746]\n",
            "\n"
          ],
          "name": "stdout"
        }
      ]
    },
    {
      "cell_type": "code",
      "metadata": {
        "id": "z8ukhtYqTrqO",
        "colab_type": "code",
        "colab": {}
      },
      "source": [
        "! rm -rf Equus\n",
        "! tar -zxf Equus.tar.gz"
      ],
      "execution_count": 0,
      "outputs": []
    },
    {
      "cell_type": "code",
      "metadata": {
        "id": "L6OXRtaBT29o",
        "colab_type": "code",
        "colab": {}
      },
      "source": [
        "! rm *.tar.gz\n",
        "! rm -rf train/\n",
        "! rm -rf validation/\n",
        "! rm -rf test/"
      ],
      "execution_count": 0,
      "outputs": []
    },
    {
      "cell_type": "markdown",
      "metadata": {
        "id": "2TzRW9faT7ql",
        "colab_type": "text"
      },
      "source": [
        "Create the Training Set, Validation Set, and Test Set"
      ]
    },
    {
      "cell_type": "code",
      "metadata": {
        "id": "VVnkRBX1UCWh",
        "colab_type": "code",
        "colab": {}
      },
      "source": [
        "import os\n",
        "import shutil\n",
        "\n",
        "dataset_dir = os.path.join('.', 'Equus')\n",
        "\n",
        "train_dir = os.path.join('.', 'train')\n",
        "os.mkdir(train_dir)\n",
        "\n",
        "val_dir = os.path.join('.', 'validation')\n",
        "os.mkdir(val_dir)\n",
        "\n",
        "test_dir = os.path.join('.', 'test')\n",
        "os.mkdir(test_dir)"
      ],
      "execution_count": 0,
      "outputs": []
    },
    {
      "cell_type": "code",
      "metadata": {
        "id": "wHQDKc9yU4pL",
        "colab_type": "code",
        "outputId": "2f5510d0-a91e-459b-e7c7-c10d9ae64c6e",
        "colab": {
          "base_uri": "https://localhost:8080/",
          "height": 119
        }
      },
      "source": [
        "!ls -lh"
      ],
      "execution_count": 56,
      "outputs": [
        {
          "output_type": "stream",
          "text": [
            "total 20K\n",
            "drwxr-xr-x 5 root root 4.0K Mar 16 03:00 Equus\n",
            "drwxr-xr-x 1 root root 4.0K Apr  3 16:24 sample_data\n",
            "drwxr-xr-x 2 root root 4.0K Apr  7 23:37 test\n",
            "drwxr-xr-x 2 root root 4.0K Apr  7 23:37 train\n",
            "drwxr-xr-x 2 root root 4.0K Apr  7 23:37 validation\n"
          ],
          "name": "stdout"
        }
      ]
    },
    {
      "cell_type": "code",
      "metadata": {
        "id": "R97m7TfuYnuF",
        "colab_type": "code",
        "outputId": "b982f2cd-a2fe-493b-deea-508766478b48",
        "colab": {
          "base_uri": "https://localhost:8080/",
          "height": 68
        }
      },
      "source": [
        "##Get a list of all the vailable images\n",
        "\n",
        "img_donkey = os.listdir( os.path.join(dataset_dir, 'Donkey'))\n",
        "img_horse = os.listdir(os.path.join(dataset_dir, 'Horse'))\n",
        "img_zebra = os.listdir(os.path.join(dataset_dir, 'Zebra'))\n",
        "print(f'Donkey {len(img_donkey)}')\n",
        "print(f'Horse {len(img_horse)}')\n",
        "print(f'Zebra {len(img_zebra)}')"
      ],
      "execution_count": 57,
      "outputs": [
        {
          "output_type": "stream",
          "text": [
            "Donkey 391\n",
            "Horse 314\n",
            "Zebra 339\n"
          ],
          "name": "stdout"
        }
      ]
    },
    {
      "cell_type": "code",
      "metadata": {
        "id": "Pejxt-O-U8tj",
        "colab_type": "code",
        "colab": {}
      },
      "source": [
        "##Create Training Directories\n",
        "train_donkey_dir = os.path.join(train_dir, 'Donkey')\n",
        "train_horse_dir = os.path.join(train_dir, 'Horse')\n",
        "train_zebra_dir = os.path.join(train_dir, 'Zebra')\n",
        "\n",
        "os.mkdir(train_donkey_dir)\n",
        "os.mkdir(train_horse_dir)\n",
        "os.mkdir(train_zebra_dir)\n",
        "\n",
        "##Create Validation Directories\n",
        "val_donkey_dir = os.path.join(val_dir, 'Donkey')\n",
        "val_horse_dir = os.path.join(val_dir, 'Horse')\n",
        "val_zebra_dir = os.path.join(val_dir, 'Zebra')\n",
        "\n",
        "os.mkdir(val_donkey_dir)\n",
        "os.mkdir(val_horse_dir)\n",
        "os.mkdir(val_zebra_dir)\n",
        "\n",
        "##Create Test Directories\n",
        "test_donkey_dir = os.path.join(test_dir, 'Donkey')\n",
        "test_horse_dir = os.path.join(test_dir, 'Horse')\n",
        "test_zebra_dir = os.path.join(test_dir, 'Zebra')\n",
        "\n",
        "os.mkdir(test_donkey_dir)\n",
        "os.mkdir(test_horse_dir)\n",
        "os.mkdir(test_zebra_dir)\n"
      ],
      "execution_count": 0,
      "outputs": []
    },
    {
      "cell_type": "code",
      "metadata": {
        "id": "i0xJ8qyRhoST",
        "colab_type": "code",
        "outputId": "b66e4ee6-526e-4b4d-cfea-ae6ab00ef064",
        "colab": {
          "base_uri": "https://localhost:8080/",
          "height": 119
        }
      },
      "source": [
        "!ls -lh"
      ],
      "execution_count": 59,
      "outputs": [
        {
          "output_type": "stream",
          "text": [
            "total 20K\n",
            "drwxr-xr-x 5 root root 4.0K Mar 16 03:00 Equus\n",
            "drwxr-xr-x 1 root root 4.0K Apr  3 16:24 sample_data\n",
            "drwxr-xr-x 5 root root 4.0K Apr  7 23:37 test\n",
            "drwxr-xr-x 5 root root 4.0K Apr  7 23:37 train\n",
            "drwxr-xr-x 5 root root 4.0K Apr  7 23:37 validation\n"
          ],
          "name": "stdout"
        }
      ]
    },
    {
      "cell_type": "code",
      "metadata": {
        "id": "5Fjmai6VcDMu",
        "colab_type": "code",
        "colab": {}
      },
      "source": [
        "##Keep the indices for the data splitting\n",
        "i_donkey = [0, 240, 315, 391]\n",
        "i_horse = [0, 185, 250, 314]\n",
        "i_zebra = [0, 185, 249, 339]"
      ],
      "execution_count": 0,
      "outputs": []
    },
    {
      "cell_type": "code",
      "metadata": {
        "id": "vO_QsHIbhzsI",
        "colab_type": "code",
        "colab": {}
      },
      "source": [
        "##Populate the Training Set\n",
        "for i in range(i_donkey[0], i_donkey[1]):\n",
        "  src = os.path.join(os.path.join(dataset_dir, 'Donkey'), img_donkey[i])\n",
        "  dst = os.path.join(train_donkey_dir, img_donkey[i])\n",
        "  shutil.copyfile(src, dst)\n",
        "\n",
        "for i in range(i_horse[0], i_horse[1]):\n",
        "  src = os.path.join(os.path.join(dataset_dir, 'Horse'), img_horse[i])\n",
        "  dst = os.path.join(train_horse_dir, img_horse[i])\n",
        "  shutil.copyfile(src, dst)\n",
        "\n",
        "for i in range(i_zebra[0], i_zebra[1]):\n",
        "  src = os.path.join(os.path.join(dataset_dir, 'Zebra'), img_zebra[i])\n",
        "  dst = os.path.join(train_zebra_dir, img_zebra[i])\n",
        "  shutil.copyfile(src, dst)"
      ],
      "execution_count": 0,
      "outputs": []
    },
    {
      "cell_type": "code",
      "metadata": {
        "id": "c7rqGEJ-lOw9",
        "colab_type": "code",
        "colab": {}
      },
      "source": [
        "##Populate the Validation Set\n",
        "for i in range(i_donkey[1], i_donkey[2]):\n",
        "  src = os.path.join(os.path.join(dataset_dir, 'Donkey'), img_donkey[i])\n",
        "  dst = os.path.join(val_donkey_dir, img_donkey[i])\n",
        "  shutil.copyfile(src, dst)\n",
        "\n",
        "for i in range(i_horse[1], i_horse[2]):\n",
        "  src = os.path.join(os.path.join(dataset_dir, 'Horse'), img_horse[i])\n",
        "  dst = os.path.join(val_horse_dir, img_horse[i])\n",
        "  shutil.copyfile(src, dst)\n",
        "\n",
        "for i in range(i_zebra[1], i_zebra[2]):\n",
        "  src = os.path.join(os.path.join(dataset_dir, 'Zebra'), img_zebra[i])\n",
        "  dst = os.path.join(val_zebra_dir, img_zebra[i])\n",
        "  shutil.copyfile(src, dst)"
      ],
      "execution_count": 0,
      "outputs": []
    },
    {
      "cell_type": "code",
      "metadata": {
        "id": "2-q_ZflFlmOy",
        "colab_type": "code",
        "colab": {}
      },
      "source": [
        "##Populate the Test Set\n",
        "for i in range(i_donkey[2], i_donkey[3]):\n",
        "  src = os.path.join(os.path.join(dataset_dir, 'Donkey'), img_donkey[i])\n",
        "  dst = os.path.join(test_donkey_dir, img_donkey[i])\n",
        "  shutil.copyfile(src, dst)\n",
        "\n",
        "for i in range(i_horse[2], i_horse[3]):\n",
        "  src = os.path.join(os.path.join(dataset_dir, 'Horse'), img_horse[i])\n",
        "  dst = os.path.join(test_horse_dir, img_horse[i])\n",
        "  shutil.copyfile(src, dst)\n",
        "\n",
        "for i in range(i_zebra[2], i_zebra[3]):\n",
        "  src = os.path.join(os.path.join(dataset_dir, 'Zebra'), img_zebra[i])\n",
        "  dst = os.path.join(test_zebra_dir, img_zebra[i])\n",
        "  shutil.copyfile(src, dst)"
      ],
      "execution_count": 0,
      "outputs": []
    },
    {
      "cell_type": "code",
      "metadata": {
        "id": "-Hzjf9W_l_A-",
        "colab_type": "code",
        "outputId": "aab0cf9b-d0d7-4b50-c983-89b60dca0494",
        "colab": {
          "base_uri": "https://localhost:8080/",
          "height": 68
        }
      },
      "source": [
        "##Count the number of files within each directory\n",
        "! ls -lh train/*/* | wc -l\n",
        "! ls -lh validation/*/* | wc -l\n",
        "! ls -lh test/*/* | wc -l"
      ],
      "execution_count": 64,
      "outputs": [
        {
          "output_type": "stream",
          "text": [
            "610\n",
            "204\n",
            "230\n"
          ],
          "name": "stdout"
        }
      ]
    },
    {
      "cell_type": "markdown",
      "metadata": {
        "id": "aHxwnxmHpzQu",
        "colab_type": "text"
      },
      "source": [
        "Build Multi Layer Variable Filter Model"
      ]
    },
    {
      "cell_type": "code",
      "metadata": {
        "id": "l9TqrAFiqKeQ",
        "colab_type": "code",
        "outputId": "a79a8b99-82c1-4b24-fef9-94ba2f711dd4",
        "colab": {
          "base_uri": "https://localhost:8080/",
          "height": 68
        }
      },
      "source": [
        "from tensorflow.keras.preprocessing.image import ImageDataGenerator\n",
        "\n",
        "##Create Development Set Generators\n",
        "\n",
        "dat_generator = ImageDataGenerator(rescale=1./255)\n",
        "##Note that 61 * 10 = 610 training samples\n",
        "train_generator = dat_generator.flow_from_directory(train_dir, target_size=(256, 256), batch_size=10, class_mode='categorical')\n",
        "##Note that 17 * 12 = 240 validation samples\n",
        "val_generator = dat_generator.flow_from_directory(val_dir, target_size=(256, 256), batch_size=12, class_mode='categorical')\n",
        "\n",
        "##Create Test Generator\n",
        "##Note that 23 * 10 = 230 Test samples\n",
        "test_generator = dat_generator.flow_from_directory(test_dir, target_size=(256,256), batch_size=10, class_mode='categorical')"
      ],
      "execution_count": 103,
      "outputs": [
        {
          "output_type": "stream",
          "text": [
            "Found 610 images belonging to 3 classes.\n",
            "Found 204 images belonging to 3 classes.\n",
            "Found 230 images belonging to 3 classes.\n"
          ],
          "name": "stdout"
        }
      ]
    },
    {
      "cell_type": "code",
      "metadata": {
        "id": "fl8IiNiep4dB",
        "colab_type": "code",
        "outputId": "cf06ccde-5508-4c3c-c283-561a22750ffc",
        "colab": {
          "base_uri": "https://localhost:8080/",
          "height": 527
        }
      },
      "source": [
        "from tensorflow.keras.models import Sequential\n",
        "from tensorflow.keras.layers import Dense, Conv2D, Flatten, MaxPooling2D\n",
        "\n",
        "model = Sequential()\n",
        "model.add( Conv2D( 12, ( 3, 3 ), activation = 'relu', input_shape = (256, 256, 3) ) )\n",
        "model.add( MaxPooling2D((2,2)) )\n",
        "model.add( Conv2D( 12, ( 3, 3 ), activation = 'relu' ) )\n",
        "model.add( MaxPooling2D((2,2)) )\n",
        "model.add( Conv2D( 32, ( 3, 3 ), activation = 'relu' ) )\n",
        "model.add( MaxPooling2D(2,2) )\n",
        "model.add( Conv2D( 32, (3, 3 ), activation='relu') )\n",
        "model.add( Flatten() )\n",
        "model.add( Dense( 24, activation = 'relu' ) )\n",
        "model.add( Dense( 12, activation = 'relu' ) )\n",
        "model.add( Dense( 3, activation = 'softmax' ) )\n",
        "model.summary()\n",
        "\n",
        "##Compile the model\n",
        "model.compile( optimizer = 'adam', loss = 'categorical_crossentropy', metrics = [ 'accuracy' ] )"
      ],
      "execution_count": 147,
      "outputs": [
        {
          "output_type": "stream",
          "text": [
            "Model: \"sequential_29\"\n",
            "_________________________________________________________________\n",
            "Layer (type)                 Output Shape              Param #   \n",
            "=================================================================\n",
            "conv2d_105 (Conv2D)          (None, 254, 254, 12)      336       \n",
            "_________________________________________________________________\n",
            "max_pooling2d_76 (MaxPooling (None, 127, 127, 12)      0         \n",
            "_________________________________________________________________\n",
            "conv2d_106 (Conv2D)          (None, 125, 125, 12)      1308      \n",
            "_________________________________________________________________\n",
            "max_pooling2d_77 (MaxPooling (None, 62, 62, 12)        0         \n",
            "_________________________________________________________________\n",
            "conv2d_107 (Conv2D)          (None, 60, 60, 32)        3488      \n",
            "_________________________________________________________________\n",
            "max_pooling2d_78 (MaxPooling (None, 30, 30, 32)        0         \n",
            "_________________________________________________________________\n",
            "conv2d_108 (Conv2D)          (None, 28, 28, 32)        9248      \n",
            "_________________________________________________________________\n",
            "flatten_29 (Flatten)         (None, 25088)             0         \n",
            "_________________________________________________________________\n",
            "dense_67 (Dense)             (None, 24)                602136    \n",
            "_________________________________________________________________\n",
            "dense_68 (Dense)             (None, 12)                300       \n",
            "_________________________________________________________________\n",
            "dense_69 (Dense)             (None, 3)                 39        \n",
            "=================================================================\n",
            "Total params: 616,855\n",
            "Trainable params: 616,855\n",
            "Non-trainable params: 0\n",
            "_________________________________________________________________\n"
          ],
          "name": "stdout"
        }
      ]
    },
    {
      "cell_type": "markdown",
      "metadata": {
        "id": "0Ur2htgxr-DU",
        "colab_type": "text"
      },
      "source": [
        "Train the Model"
      ]
    },
    {
      "cell_type": "code",
      "metadata": {
        "id": "WzawBnkzsCLD",
        "colab_type": "code",
        "outputId": "3bde377d-f98b-45d6-fd60-18fd1cffa05b",
        "colab": {
          "base_uri": "https://localhost:8080/",
          "height": 527
        }
      },
      "source": [
        "import tensorflow as tf\n",
        "import keras\n",
        "\n",
        "##Set the callback list\n",
        "callback_list = [\n",
        "  tf.keras.callbacks.EarlyStopping(\n",
        "    monitor='val_accuracy',\n",
        "    patience=5,\n",
        "    ),\n",
        "  tf.keras.callbacks.ModelCheckpoint(\n",
        "      filepath='model.h5',\n",
        "      monitor='val_loss',\n",
        "      save_best_only=True,\n",
        "  )\n",
        "]\n",
        "##Train the model\n",
        "history = model.fit(\n",
        "    train_generator,\n",
        "    steps_per_epoch=61,\n",
        "    epochs=20,\n",
        "    callbacks = callback_list,\n",
        "    validation_data=val_generator,\n",
        "    validation_steps=17)"
      ],
      "execution_count": 148,
      "outputs": [
        {
          "output_type": "stream",
          "text": [
            "Epoch 1/20\n",
            "61/61 [==============================] - 29s 472ms/step - loss: 1.1036 - accuracy: 0.4131 - val_loss: 1.0644 - val_accuracy: 0.5539\n",
            "Epoch 2/20\n",
            "61/61 [==============================] - 29s 468ms/step - loss: 0.8788 - accuracy: 0.5820 - val_loss: 0.7387 - val_accuracy: 0.6275\n",
            "Epoch 3/20\n",
            "61/61 [==============================] - 28s 467ms/step - loss: 0.6895 - accuracy: 0.6541 - val_loss: 0.6911 - val_accuracy: 0.6520\n",
            "Epoch 4/20\n",
            "61/61 [==============================] - 29s 468ms/step - loss: 0.5915 - accuracy: 0.7131 - val_loss: 0.7917 - val_accuracy: 0.5931\n",
            "Epoch 5/20\n",
            "61/61 [==============================] - 29s 467ms/step - loss: 0.5971 - accuracy: 0.7230 - val_loss: 0.5305 - val_accuracy: 0.7745\n",
            "Epoch 6/20\n",
            "61/61 [==============================] - 28s 465ms/step - loss: 0.5432 - accuracy: 0.7443 - val_loss: 0.6653 - val_accuracy: 0.6471\n",
            "Epoch 7/20\n",
            "61/61 [==============================] - 28s 465ms/step - loss: 0.4812 - accuracy: 0.8180 - val_loss: 0.7214 - val_accuracy: 0.7010\n",
            "Epoch 8/20\n",
            "61/61 [==============================] - 32s 519ms/step - loss: 0.4012 - accuracy: 0.8262 - val_loss: 0.5719 - val_accuracy: 0.7843\n",
            "Epoch 9/20\n",
            "61/61 [==============================] - 28s 466ms/step - loss: 0.2770 - accuracy: 0.8902 - val_loss: 0.7872 - val_accuracy: 0.7010\n",
            "Epoch 10/20\n",
            "61/61 [==============================] - 28s 465ms/step - loss: 0.2264 - accuracy: 0.9115 - val_loss: 0.5587 - val_accuracy: 0.7941\n",
            "Epoch 11/20\n",
            "61/61 [==============================] - 28s 466ms/step - loss: 0.1837 - accuracy: 0.9262 - val_loss: 0.9773 - val_accuracy: 0.7108\n",
            "Epoch 12/20\n",
            "61/61 [==============================] - 29s 471ms/step - loss: 0.1117 - accuracy: 0.9623 - val_loss: 0.8381 - val_accuracy: 0.7304\n",
            "Epoch 13/20\n",
            "61/61 [==============================] - 29s 476ms/step - loss: 0.0604 - accuracy: 0.9820 - val_loss: 0.9981 - val_accuracy: 0.7451\n",
            "Epoch 14/20\n",
            "61/61 [==============================] - 29s 473ms/step - loss: 0.0445 - accuracy: 0.9852 - val_loss: 1.5800 - val_accuracy: 0.7304\n",
            "Epoch 15/20\n",
            "61/61 [==============================] - 29s 472ms/step - loss: 0.0652 - accuracy: 0.9787 - val_loss: 1.0982 - val_accuracy: 0.7402\n"
          ],
          "name": "stdout"
        }
      ]
    },
    {
      "cell_type": "code",
      "metadata": {
        "id": "SpdFKqqzu48w",
        "colab_type": "code",
        "outputId": "5afedff3-aef1-4be0-df83-ecb9e0f04158",
        "colab": {
          "base_uri": "https://localhost:8080/",
          "height": 573
        }
      },
      "source": [
        "##Plot the learning curves\n",
        "import matplotlib.pyplot as plt\n",
        "\n",
        "title = 'Multi Layer Variable Filters'\n",
        "\n",
        "plt.figure()\n",
        "plt.plot(history.history['accuracy'], 'bo', label='Training Acc')\n",
        "plt.plot(history.history['val_accuracy'], 'b', label='Validation Acc')\n",
        "plt.ylabel('Accuracy')\n",
        "plt.xlabel('Epoch')\n",
        "plt.title(title)\n",
        "plt.legend()\n",
        "plt.show()\n",
        "\n",
        "plt.figure()\n",
        "plt.plot(history.history['loss'], 'bo', label='Training Loss')\n",
        "plt.plot(history.history['val_loss'], 'b', label='Validation Loss')\n",
        "plt.ylabel('Loss')\n",
        "plt.xlabel('Epoch')\n",
        "plt.title(title)\n",
        "plt.legend()\n",
        "plt.show()\n"
      ],
      "execution_count": 150,
      "outputs": [
        {
          "output_type": "display_data",
          "data": {
            "image/png": "[encoded data removed]",
            "text/plain": [
              "<Figure size 432x288 with 1 Axes>"
            ]
          },
          "metadata": {
            "tags": []
          }
        },
        {
          "output_type": "display_data",
          "data": {
            "image/png": "[encoded data removed]",
            "text/plain": [
              "<Figure size 432x288 with 1 Axes>"
            ]
          },
          "metadata": {
            "tags": []
          }
        }
      ]
    },
    {
      "cell_type": "code",
      "metadata": {
        "id": "KPxHiKNZ0b3k",
        "colab_type": "code",
        "outputId": "13aaf4bb-27cd-4209-902f-f90591e958b5",
        "colab": {
          "base_uri": "https://localhost:8080/",
          "height": 68
        }
      },
      "source": [
        "##Load the weights of the best model acquired in training\n",
        "model.load_weights('model.h5')\n",
        "\n",
        "##Observe the results of the model against the test data\n",
        "test_loss, test_acc = model.evaluate(\n",
        "    test_generator,\n",
        "    steps=23\n",
        ")\n",
        "\n",
        "print(f'Test Acc: {test_acc}\\nTest Loss: {test_loss}')"
      ],
      "execution_count": 151,
      "outputs": [
        {
          "output_type": "stream",
          "text": [
            "23/23 [==============================] - 4s 166ms/step - loss: 0.5923 - accuracy: 0.7783\n",
            "Test Acc: 0.7782608866691589\n",
            "Test Loss: 0.5923058390617371\n"
          ],
          "name": "stdout"
        }
      ]
    }
  ]
}