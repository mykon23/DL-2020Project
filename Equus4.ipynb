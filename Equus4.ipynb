{
  "nbformat": 4,
  "nbformat_minor": 0,
  "metadata": {
    "colab": {
      "name": "Equus4.ipynb",
      "provenance": [],
      "collapsed_sections": [],
      "authorship_tag": "ABX9TyP3wQYefY+k8BqQeGy/PA+w",
      "include_colab_link": true
    },
    "kernelspec": {
      "name": "python3",
      "display_name": "Python 3"
    },
    "accelerator": "GPU"
  },
  "cells": [
    {
      "cell_type": "markdown",
      "metadata": {
        "id": "view-in-github",
        "colab_type": "text"
      },
      "source": [
        "<a href=\"https://colab.research.google.com/github/mykon23/DL-2020Project/blob/split_eval_test/Equus4.ipynb\" target=\"_parent\"><img src=\"https://colab.research.google.com/assets/colab-badge.svg\" alt=\"Open In Colab\"/></a>"
      ]
    },
    {
      "cell_type": "markdown",
      "metadata": {
        "id": "2wo1alGzRFMp",
        "colab_type": "text"
      },
      "source": [
        "Get the Equus Dataset"
      ]
    },
    {
      "cell_type": "code",
      "metadata": {
        "id": "P6TB6FMiTb1x",
        "colab_type": "code",
        "outputId": "669090d7-c00b-4abb-ecfd-201b22d21c93",
        "colab": {
          "base_uri": "https://localhost:8080/",
          "height": 353
        }
      },
      "source": [
        "! wget -O Equus.tar.gz https://github.com/mykon23/DL-2020Project/blob/master/Equus.tar.gz?raw=true"
      ],
      "execution_count": 1,
      "outputs": [
        {
          "output_type": "stream",
          "text": [
            "--2020-04-08 14:44:39--  https://github.com/mykon23/DL-2020Project/blob/master/Equus.tar.gz?raw=true\n",
            "Resolving github.com (github.com)... 140.82.114.4\n",
            "Connecting to github.com (github.com)|140.82.114.4|:443... connected.\n",
            "HTTP request sent, awaiting response... 302 Found\n",
            "Location: https://github.com/mykon23/DL-2020Project/raw/master/Equus.tar.gz [following]\n",
            "--2020-04-08 14:44:39--  https://github.com/mykon23/DL-2020Project/raw/master/Equus.tar.gz\n",
            "Reusing existing connection to github.com:443.\n",
            "HTTP request sent, awaiting response... 302 Found\n",
            "Location: https://raw.githubusercontent.com/mykon23/DL-2020Project/master/Equus.tar.gz [following]\n",
            "--2020-04-08 14:44:39--  https://raw.githubusercontent.com/mykon23/DL-2020Project/master/Equus.tar.gz\n",
            "Resolving raw.githubusercontent.com (raw.githubusercontent.com)... 151.101.0.133, 151.101.64.133, 151.101.128.133, ...\n",
            "Connecting to raw.githubusercontent.com (raw.githubusercontent.com)|151.101.0.133|:443... connected.\n",
            "HTTP request sent, awaiting response... 200 OK\n",
            "Length: 18230746 (17M) [application/octet-stream]\n",
            "Saving to: ‘Equus.tar.gz’\n",
            "\n",
            "\rEquus.tar.gz          0%[                    ]       0  --.-KB/s               \rEquus.tar.gz         10%[=>                  ]   1.85M  9.24MB/s               \rEquus.tar.gz         35%[======>             ]   6.21M  15.5MB/s               \rEquus.tar.gz         86%[================>   ]  14.98M  25.0MB/s               \rEquus.tar.gz        100%[===================>]  17.39M  27.3MB/s    in 0.6s    \n",
            "\n",
            "2020-04-08 14:44:40 (27.3 MB/s) - ‘Equus.tar.gz’ saved [18230746/18230746]\n",
            "\n"
          ],
          "name": "stdout"
        }
      ]
    },
    {
      "cell_type": "code",
      "metadata": {
        "id": "z8ukhtYqTrqO",
        "colab_type": "code",
        "colab": {}
      },
      "source": [
        "! rm -rf Equus\n",
        "! tar -zxf Equus.tar.gz"
      ],
      "execution_count": 0,
      "outputs": []
    },
    {
      "cell_type": "code",
      "metadata": {
        "id": "L6OXRtaBT29o",
        "colab_type": "code",
        "colab": {}
      },
      "source": [
        "! rm *.tar.gz\n",
        "! rm -rf train/\n",
        "! rm -rf validation/\n",
        "! rm -rf test/"
      ],
      "execution_count": 0,
      "outputs": []
    },
    {
      "cell_type": "markdown",
      "metadata": {
        "id": "2TzRW9faT7ql",
        "colab_type": "text"
      },
      "source": [
        "Create the Training Set, Validation Set, and Test Set"
      ]
    },
    {
      "cell_type": "code",
      "metadata": {
        "id": "VVnkRBX1UCWh",
        "colab_type": "code",
        "colab": {}
      },
      "source": [
        "import os\n",
        "import shutil\n",
        "\n",
        "dataset_dir = os.path.join('.', 'Equus')\n",
        "\n",
        "train_dir = os.path.join('.', 'train')\n",
        "os.mkdir(train_dir)\n",
        "\n",
        "val_dir = os.path.join('.', 'validation')\n",
        "os.mkdir(val_dir)\n",
        "\n",
        "test_dir = os.path.join('.', 'test')\n",
        "os.mkdir(test_dir)"
      ],
      "execution_count": 0,
      "outputs": []
    },
    {
      "cell_type": "code",
      "metadata": {
        "id": "wHQDKc9yU4pL",
        "colab_type": "code",
        "outputId": "0e30cc1a-7754-490c-ae2a-6843ed2a055f",
        "colab": {
          "base_uri": "https://localhost:8080/",
          "height": 118
        }
      },
      "source": [
        "!ls -lh"
      ],
      "execution_count": 5,
      "outputs": [
        {
          "output_type": "stream",
          "text": [
            "total 20K\n",
            "drwxr-xr-x 5 root root 4.0K Mar 16 03:00 Equus\n",
            "drwxr-xr-x 1 root root 4.0K Apr  3 16:24 sample_data\n",
            "drwxr-xr-x 2 root root 4.0K Apr  8 14:46 test\n",
            "drwxr-xr-x 2 root root 4.0K Apr  8 14:46 train\n",
            "drwxr-xr-x 2 root root 4.0K Apr  8 14:46 validation\n"
          ],
          "name": "stdout"
        }
      ]
    },
    {
      "cell_type": "code",
      "metadata": {
        "id": "R97m7TfuYnuF",
        "colab_type": "code",
        "outputId": "f63fdd2c-3331-4042-8fca-2bc541d78d97",
        "colab": {
          "base_uri": "https://localhost:8080/",
          "height": 67
        }
      },
      "source": [
        "##Get a list of all the vailable images\n",
        "\n",
        "img_donkey = os.listdir( os.path.join(dataset_dir, 'Donkey'))\n",
        "img_horse = os.listdir(os.path.join(dataset_dir, 'Horse'))\n",
        "img_zebra = os.listdir(os.path.join(dataset_dir, 'Zebra'))\n",
        "print(f'Donkey {len(img_donkey)}')\n",
        "print(f'Horse {len(img_horse)}')\n",
        "print(f'Zebra {len(img_zebra)}')"
      ],
      "execution_count": 6,
      "outputs": [
        {
          "output_type": "stream",
          "text": [
            "Donkey 391\n",
            "Horse 314\n",
            "Zebra 339\n"
          ],
          "name": "stdout"
        }
      ]
    },
    {
      "cell_type": "code",
      "metadata": {
        "id": "Pejxt-O-U8tj",
        "colab_type": "code",
        "colab": {}
      },
      "source": [
        "##Create Training Directories\n",
        "train_donkey_dir = os.path.join(train_dir, 'Donkey')\n",
        "train_horse_dir = os.path.join(train_dir, 'Horse')\n",
        "train_zebra_dir = os.path.join(train_dir, 'Zebra')\n",
        "\n",
        "os.mkdir(train_donkey_dir)\n",
        "os.mkdir(train_horse_dir)\n",
        "os.mkdir(train_zebra_dir)\n",
        "\n",
        "##Create Validation Directories\n",
        "val_donkey_dir = os.path.join(val_dir, 'Donkey')\n",
        "val_horse_dir = os.path.join(val_dir, 'Horse')\n",
        "val_zebra_dir = os.path.join(val_dir, 'Zebra')\n",
        "\n",
        "os.mkdir(val_donkey_dir)\n",
        "os.mkdir(val_horse_dir)\n",
        "os.mkdir(val_zebra_dir)\n",
        "\n",
        "##Create Test Directories\n",
        "test_donkey_dir = os.path.join(test_dir, 'Donkey')\n",
        "test_horse_dir = os.path.join(test_dir, 'Horse')\n",
        "test_zebra_dir = os.path.join(test_dir, 'Zebra')\n",
        "\n",
        "os.mkdir(test_donkey_dir)\n",
        "os.mkdir(test_horse_dir)\n",
        "os.mkdir(test_zebra_dir)\n"
      ],
      "execution_count": 0,
      "outputs": []
    },
    {
      "cell_type": "code",
      "metadata": {
        "id": "i0xJ8qyRhoST",
        "colab_type": "code",
        "outputId": "b69cd13a-a87c-4b66-a060-192d7ecee437",
        "colab": {
          "base_uri": "https://localhost:8080/",
          "height": 118
        }
      },
      "source": [
        "!ls -lh"
      ],
      "execution_count": 8,
      "outputs": [
        {
          "output_type": "stream",
          "text": [
            "total 20K\n",
            "drwxr-xr-x 5 root root 4.0K Mar 16 03:00 Equus\n",
            "drwxr-xr-x 1 root root 4.0K Apr  3 16:24 sample_data\n",
            "drwxr-xr-x 5 root root 4.0K Apr  8 14:46 test\n",
            "drwxr-xr-x 5 root root 4.0K Apr  8 14:46 train\n",
            "drwxr-xr-x 5 root root 4.0K Apr  8 14:46 validation\n"
          ],
          "name": "stdout"
        }
      ]
    },
    {
      "cell_type": "code",
      "metadata": {
        "id": "5Fjmai6VcDMu",
        "colab_type": "code",
        "colab": {}
      },
      "source": [
        "##Keep the indices for the data splitting\n",
        "i_donkey = [0, 240, 315, 391]\n",
        "i_horse = [0, 185, 250, 314]\n",
        "i_zebra = [0, 185, 249, 339]"
      ],
      "execution_count": 0,
      "outputs": []
    },
    {
      "cell_type": "code",
      "metadata": {
        "id": "vO_QsHIbhzsI",
        "colab_type": "code",
        "colab": {}
      },
      "source": [
        "##Populate the Training Set\n",
        "for i in range(i_donkey[0], i_donkey[1]):\n",
        "  src = os.path.join(os.path.join(dataset_dir, 'Donkey'), img_donkey[i])\n",
        "  dst = os.path.join(train_donkey_dir, img_donkey[i])\n",
        "  shutil.copyfile(src, dst)\n",
        "\n",
        "for i in range(i_horse[0], i_horse[1]):\n",
        "  src = os.path.join(os.path.join(dataset_dir, 'Horse'), img_horse[i])\n",
        "  dst = os.path.join(train_horse_dir, img_horse[i])\n",
        "  shutil.copyfile(src, dst)\n",
        "\n",
        "for i in range(i_zebra[0], i_zebra[1]):\n",
        "  src = os.path.join(os.path.join(dataset_dir, 'Zebra'), img_zebra[i])\n",
        "  dst = os.path.join(train_zebra_dir, img_zebra[i])\n",
        "  shutil.copyfile(src, dst)"
      ],
      "execution_count": 0,
      "outputs": []
    },
    {
      "cell_type": "code",
      "metadata": {
        "id": "c7rqGEJ-lOw9",
        "colab_type": "code",
        "colab": {}
      },
      "source": [
        "##Populate the Validation Set\n",
        "for i in range(i_donkey[1], i_donkey[2]):\n",
        "  src = os.path.join(os.path.join(dataset_dir, 'Donkey'), img_donkey[i])\n",
        "  dst = os.path.join(val_donkey_dir, img_donkey[i])\n",
        "  shutil.copyfile(src, dst)\n",
        "\n",
        "for i in range(i_horse[1], i_horse[2]):\n",
        "  src = os.path.join(os.path.join(dataset_dir, 'Horse'), img_horse[i])\n",
        "  dst = os.path.join(val_horse_dir, img_horse[i])\n",
        "  shutil.copyfile(src, dst)\n",
        "\n",
        "for i in range(i_zebra[1], i_zebra[2]):\n",
        "  src = os.path.join(os.path.join(dataset_dir, 'Zebra'), img_zebra[i])\n",
        "  dst = os.path.join(val_zebra_dir, img_zebra[i])\n",
        "  shutil.copyfile(src, dst)"
      ],
      "execution_count": 0,
      "outputs": []
    },
    {
      "cell_type": "code",
      "metadata": {
        "id": "2-q_ZflFlmOy",
        "colab_type": "code",
        "colab": {}
      },
      "source": [
        "##Populate the Test Set\n",
        "for i in range(i_donkey[2], i_donkey[3]):\n",
        "  src = os.path.join(os.path.join(dataset_dir, 'Donkey'), img_donkey[i])\n",
        "  dst = os.path.join(test_donkey_dir, img_donkey[i])\n",
        "  shutil.copyfile(src, dst)\n",
        "\n",
        "for i in range(i_horse[2], i_horse[3]):\n",
        "  src = os.path.join(os.path.join(dataset_dir, 'Horse'), img_horse[i])\n",
        "  dst = os.path.join(test_horse_dir, img_horse[i])\n",
        "  shutil.copyfile(src, dst)\n",
        "\n",
        "for i in range(i_zebra[2], i_zebra[3]):\n",
        "  src = os.path.join(os.path.join(dataset_dir, 'Zebra'), img_zebra[i])\n",
        "  dst = os.path.join(test_zebra_dir, img_zebra[i])\n",
        "  shutil.copyfile(src, dst)"
      ],
      "execution_count": 0,
      "outputs": []
    },
    {
      "cell_type": "code",
      "metadata": {
        "id": "-Hzjf9W_l_A-",
        "colab_type": "code",
        "outputId": "ec663179-eb84-4bca-aafa-0a6232394d27",
        "colab": {
          "base_uri": "https://localhost:8080/",
          "height": 67
        }
      },
      "source": [
        "##Count the number of files within each directory\n",
        "! ls -lh train/*/* | wc -l\n",
        "! ls -lh validation/*/* | wc -l\n",
        "! ls -lh test/*/* | wc -l"
      ],
      "execution_count": 13,
      "outputs": [
        {
          "output_type": "stream",
          "text": [
            "610\n",
            "204\n",
            "230\n"
          ],
          "name": "stdout"
        }
      ]
    },
    {
      "cell_type": "markdown",
      "metadata": {
        "id": "aHxwnxmHpzQu",
        "colab_type": "text"
      },
      "source": [
        "Build Multi Layer Variable Filter Model"
      ]
    },
    {
      "cell_type": "code",
      "metadata": {
        "id": "l9TqrAFiqKeQ",
        "colab_type": "code",
        "outputId": "cb167b38-bf20-49e6-ef43-403ef82200a5",
        "colab": {
          "base_uri": "https://localhost:8080/",
          "height": 67
        }
      },
      "source": [
        "from tensorflow.keras.preprocessing.image import ImageDataGenerator\n",
        "\n",
        "##Create Development Set Generators\n",
        "\n",
        "dat_generator = ImageDataGenerator(rescale=1./255)\n",
        "##Note that 61 * 10 = 610 training samples\n",
        "train_generator = dat_generator.flow_from_directory(train_dir, target_size=(256, 256), batch_size=10, class_mode='categorical')\n",
        "##Note that 17 * 12 = 240 validation samples\n",
        "val_generator = dat_generator.flow_from_directory(val_dir, target_size=(256, 256), batch_size=12, class_mode='categorical')\n",
        "\n",
        "##Create Test Generator\n",
        "##Note that 23 * 10 = 230 Test samples\n",
        "test_generator = dat_generator.flow_from_directory(test_dir, target_size=(256,256), batch_size=10, class_mode='categorical')"
      ],
      "execution_count": 14,
      "outputs": [
        {
          "output_type": "stream",
          "text": [
            "Found 610 images belonging to 3 classes.\n",
            "Found 204 images belonging to 3 classes.\n",
            "Found 230 images belonging to 3 classes.\n"
          ],
          "name": "stdout"
        }
      ]
    },
    {
      "cell_type": "code",
      "metadata": {
        "id": "fl8IiNiep4dB",
        "colab_type": "code",
        "outputId": "30947ca8-b37f-42db-89ca-f6efa89f94f4",
        "colab": {
          "base_uri": "https://localhost:8080/",
          "height": 521
        }
      },
      "source": [
        "from tensorflow.keras.models import Sequential\n",
        "from tensorflow.keras.layers import Dense, Conv2D, Flatten, MaxPooling2D\n",
        "\n",
        "model = Sequential()\n",
        "model.add( Conv2D( 12, ( 3, 3 ), activation = 'relu', input_shape = (256, 256, 3) ) )\n",
        "model.add( MaxPooling2D((2,2)) )\n",
        "model.add( Conv2D( 12, ( 3, 3 ), activation = 'relu' ) )\n",
        "model.add( MaxPooling2D((2,2)) )\n",
        "model.add( Conv2D( 32, ( 3, 3 ), activation = 'relu' ) )\n",
        "model.add( MaxPooling2D(2,2) )\n",
        "model.add( Conv2D( 32, (3, 3 ), activation='relu') )\n",
        "model.add( Flatten() )\n",
        "model.add( Dense( 24, activation = 'relu' ) )\n",
        "model.add( Dense( 12, activation = 'relu' ) )\n",
        "model.add( Dense( 3, activation = 'softmax' ) )\n",
        "model.summary()\n",
        "\n",
        "##Compile the model\n",
        "model.compile( optimizer = 'adam', loss = 'categorical_crossentropy', metrics = [ 'accuracy' ] )"
      ],
      "execution_count": 15,
      "outputs": [
        {
          "output_type": "stream",
          "text": [
            "Model: \"sequential\"\n",
            "_________________________________________________________________\n",
            "Layer (type)                 Output Shape              Param #   \n",
            "=================================================================\n",
            "conv2d (Conv2D)              (None, 254, 254, 12)      336       \n",
            "_________________________________________________________________\n",
            "max_pooling2d (MaxPooling2D) (None, 127, 127, 12)      0         \n",
            "_________________________________________________________________\n",
            "conv2d_1 (Conv2D)            (None, 125, 125, 12)      1308      \n",
            "_________________________________________________________________\n",
            "max_pooling2d_1 (MaxPooling2 (None, 62, 62, 12)        0         \n",
            "_________________________________________________________________\n",
            "conv2d_2 (Conv2D)            (None, 60, 60, 32)        3488      \n",
            "_________________________________________________________________\n",
            "max_pooling2d_2 (MaxPooling2 (None, 30, 30, 32)        0         \n",
            "_________________________________________________________________\n",
            "conv2d_3 (Conv2D)            (None, 28, 28, 32)        9248      \n",
            "_________________________________________________________________\n",
            "flatten (Flatten)            (None, 25088)             0         \n",
            "_________________________________________________________________\n",
            "dense (Dense)                (None, 24)                602136    \n",
            "_________________________________________________________________\n",
            "dense_1 (Dense)              (None, 12)                300       \n",
            "_________________________________________________________________\n",
            "dense_2 (Dense)              (None, 3)                 39        \n",
            "=================================================================\n",
            "Total params: 616,855\n",
            "Trainable params: 616,855\n",
            "Non-trainable params: 0\n",
            "_________________________________________________________________\n"
          ],
          "name": "stdout"
        }
      ]
    },
    {
      "cell_type": "markdown",
      "metadata": {
        "id": "0Ur2htgxr-DU",
        "colab_type": "text"
      },
      "source": [
        "Train the Model"
      ]
    },
    {
      "cell_type": "code",
      "metadata": {
        "id": "WzawBnkzsCLD",
        "colab_type": "code",
        "outputId": "9f84c648-e9c0-443f-a30b-21a83d94c0ee",
        "colab": {
          "base_uri": "https://localhost:8080/",
          "height": 470
        }
      },
      "source": [
        "import tensorflow as tf\n",
        "import keras\n",
        "\n",
        "##Set the callback list\n",
        "callback_list = [\n",
        "  tf.keras.callbacks.EarlyStopping(\n",
        "    monitor='val_accuracy',\n",
        "    patience=5,\n",
        "    ),\n",
        "  tf.keras.callbacks.ModelCheckpoint(\n",
        "      filepath='model.h5',\n",
        "      monitor='val_loss',\n",
        "      save_best_only=True,\n",
        "  )\n",
        "]\n",
        "##Train the model\n",
        "history = model.fit(\n",
        "    train_generator,\n",
        "    steps_per_epoch=61,\n",
        "    epochs=20,\n",
        "    callbacks = callback_list,\n",
        "    validation_data=val_generator,\n",
        "    validation_steps=17)"
      ],
      "execution_count": 16,
      "outputs": [
        {
          "output_type": "stream",
          "text": [
            "Using TensorFlow backend.\n"
          ],
          "name": "stderr"
        },
        {
          "output_type": "stream",
          "text": [
            "Epoch 1/20\n",
            "61/61 [==============================] - 29s 476ms/step - loss: 1.0662 - accuracy: 0.4377 - val_loss: 0.9019 - val_accuracy: 0.5637\n",
            "Epoch 2/20\n",
            "61/61 [==============================] - 29s 474ms/step - loss: 0.7720 - accuracy: 0.6180 - val_loss: 0.6370 - val_accuracy: 0.6471\n",
            "Epoch 3/20\n",
            "61/61 [==============================] - 29s 479ms/step - loss: 0.6463 - accuracy: 0.6459 - val_loss: 0.6408 - val_accuracy: 0.6275\n",
            "Epoch 4/20\n",
            "61/61 [==============================] - 28s 466ms/step - loss: 0.6212 - accuracy: 0.6426 - val_loss: 0.6127 - val_accuracy: 0.6520\n",
            "Epoch 5/20\n",
            "61/61 [==============================] - 28s 464ms/step - loss: 0.5945 - accuracy: 0.7033 - val_loss: 0.6337 - val_accuracy: 0.6275\n",
            "Epoch 6/20\n",
            "61/61 [==============================] - 28s 463ms/step - loss: 0.5279 - accuracy: 0.7115 - val_loss: 0.6947 - val_accuracy: 0.7059\n",
            "Epoch 7/20\n",
            "61/61 [==============================] - 28s 462ms/step - loss: 0.4572 - accuracy: 0.8033 - val_loss: 0.5816 - val_accuracy: 0.7500\n",
            "Epoch 8/20\n",
            "61/61 [==============================] - 28s 462ms/step - loss: 0.3897 - accuracy: 0.8361 - val_loss: 0.4653 - val_accuracy: 0.8333\n",
            "Epoch 9/20\n",
            "61/61 [==============================] - 28s 460ms/step - loss: 0.3361 - accuracy: 0.8557 - val_loss: 0.6432 - val_accuracy: 0.7549\n",
            "Epoch 10/20\n",
            "61/61 [==============================] - 28s 462ms/step - loss: 0.2826 - accuracy: 0.9016 - val_loss: 0.9744 - val_accuracy: 0.6667\n",
            "Epoch 11/20\n",
            "61/61 [==============================] - 28s 462ms/step - loss: 0.1941 - accuracy: 0.9230 - val_loss: 0.8197 - val_accuracy: 0.7549\n",
            "Epoch 12/20\n",
            "61/61 [==============================] - 28s 462ms/step - loss: 0.1292 - accuracy: 0.9541 - val_loss: 1.1486 - val_accuracy: 0.7353\n",
            "Epoch 13/20\n",
            "61/61 [==============================] - 28s 462ms/step - loss: 0.1696 - accuracy: 0.9475 - val_loss: 1.1943 - val_accuracy: 0.6961\n"
          ],
          "name": "stdout"
        }
      ]
    },
    {
      "cell_type": "code",
      "metadata": {
        "id": "SpdFKqqzu48w",
        "colab_type": "code",
        "outputId": "1330f052-ac1f-48bb-a9e8-84570f09c5e1",
        "colab": {
          "base_uri": "https://localhost:8080/",
          "height": 573
        }
      },
      "source": [
        "##Plot the learning curves\n",
        "import matplotlib.pyplot as plt\n",
        "\n",
        "title = 'Multi Layer Variable Filters'\n",
        "\n",
        "plt.figure()\n",
        "plt.plot(history.history['accuracy'], 'bo', label='Training Acc')\n",
        "plt.plot(history.history['val_accuracy'], 'b', label='Validation Acc')\n",
        "plt.ylabel('Accuracy')\n",
        "plt.xlabel('Epoch')\n",
        "plt.title(title)\n",
        "plt.legend()\n",
        "plt.show()\n",
        "\n",
        "plt.figure()\n",
        "plt.plot(history.history['loss'], 'bo', label='Training Loss')\n",
        "plt.plot(history.history['val_loss'], 'b', label='Validation Loss')\n",
        "plt.ylabel('Loss')\n",
        "plt.xlabel('Epoch')\n",
        "plt.title(title)\n",
        "plt.legend()\n",
        "plt.show()\n"
      ],
      "execution_count": 17,
      "outputs": [
        {
          "output_type": "display_data",
          "data": {
            "image/png": "[encoded data removed]",
            "text/plain": [
              "<Figure size 432x288 with 1 Axes>"
            ]
          },
          "metadata": {
            "tags": []
          }
        },
        {
          "output_type": "display_data",
          "data": {
            "image/png": "[encoded data removed]",
            "text/plain": [
              "<Figure size 432x288 with 1 Axes>"
            ]
          },
          "metadata": {
            "tags": []
          }
        }
      ]
    },
    {
      "cell_type": "code",
      "metadata": {
        "id": "KPxHiKNZ0b3k",
        "colab_type": "code",
        "outputId": "7fe9dd3a-5fc6-445c-a015-fba9a8fff7a7",
        "colab": {
          "base_uri": "https://localhost:8080/",
          "height": 67
        }
      },
      "source": [
        "##Load the weights of the best model acquired in training\n",
        "model.load_weights('model.h5')\n",
        "\n",
        "##Observe the results of the model against the test data\n",
        "test_loss, test_acc = model.evaluate(\n",
        "    test_generator,\n",
        "    steps=23\n",
        ")\n",
        "\n",
        "print(f'Test Acc: {test_acc}\\nTest Loss: {test_loss}')"
      ],
      "execution_count": 18,
      "outputs": [
        {
          "output_type": "stream",
          "text": [
            "23/23 [==============================] - 4s 167ms/step - loss: 0.7365 - accuracy: 0.7739\n",
            "Test Acc: 0.7739130258560181\n",
            "Test Loss: 0.7365031242370605\n"
          ],
          "name": "stdout"
        }
      ]
    },
    {
      "cell_type": "markdown",
      "metadata": {
        "id": "4Xn4-Mdm3nDW",
        "colab_type": "text"
      },
      "source": [
        "Model with Reduced Filters"
      ]
    },
    {
      "cell_type": "code",
      "metadata": {
        "id": "8lRhNhBv3smr",
        "colab_type": "code",
        "outputId": "3afba03a-a7cc-449c-9b52-eb358d705a10",
        "colab": {
          "base_uri": "https://localhost:8080/",
          "height": 521
        }
      },
      "source": [
        "from tensorflow.keras.models import Sequential\n",
        "from tensorflow.keras.layers import Dense, Conv2D, Flatten, MaxPooling2D\n",
        "\n",
        "model = Sequential()\n",
        "model.add( Conv2D( 6, ( 3, 3 ), activation = 'relu', input_shape = (256, 256, 3) ) )\n",
        "model.add( MaxPooling2D((2,2)) )\n",
        "model.add( Conv2D( 6, ( 3, 3 ), activation = 'relu' ) )\n",
        "model.add( MaxPooling2D((2,2)) )\n",
        "model.add( Conv2D( 16, ( 3, 3 ), activation = 'relu' ) )\n",
        "model.add( MaxPooling2D(2,2) )\n",
        "model.add( Conv2D( 16, (3, 3 ), activation='relu') )\n",
        "model.add( Flatten() )\n",
        "model.add( Dense( 24, activation = 'relu' ) )\n",
        "model.add( Dense( 12, activation = 'relu' ) )\n",
        "model.add( Dense( 3, activation = 'softmax' ) )\n",
        "model.summary()\n",
        "\n",
        "##Compile the model\n",
        "model.compile( optimizer = 'adam', loss = 'categorical_crossentropy', metrics = [ 'accuracy' ] )"
      ],
      "execution_count": 19,
      "outputs": [
        {
          "output_type": "stream",
          "text": [
            "Model: \"sequential_1\"\n",
            "_________________________________________________________________\n",
            "Layer (type)                 Output Shape              Param #   \n",
            "=================================================================\n",
            "conv2d_4 (Conv2D)            (None, 254, 254, 6)       168       \n",
            "_________________________________________________________________\n",
            "max_pooling2d_3 (MaxPooling2 (None, 127, 127, 6)       0         \n",
            "_________________________________________________________________\n",
            "conv2d_5 (Conv2D)            (None, 125, 125, 6)       330       \n",
            "_________________________________________________________________\n",
            "max_pooling2d_4 (MaxPooling2 (None, 62, 62, 6)         0         \n",
            "_________________________________________________________________\n",
            "conv2d_6 (Conv2D)            (None, 60, 60, 16)        880       \n",
            "_________________________________________________________________\n",
            "max_pooling2d_5 (MaxPooling2 (None, 30, 30, 16)        0         \n",
            "_________________________________________________________________\n",
            "conv2d_7 (Conv2D)            (None, 28, 28, 16)        2320      \n",
            "_________________________________________________________________\n",
            "flatten_1 (Flatten)          (None, 12544)             0         \n",
            "_________________________________________________________________\n",
            "dense_3 (Dense)              (None, 24)                301080    \n",
            "_________________________________________________________________\n",
            "dense_4 (Dense)              (None, 12)                300       \n",
            "_________________________________________________________________\n",
            "dense_5 (Dense)              (None, 3)                 39        \n",
            "=================================================================\n",
            "Total params: 305,117\n",
            "Trainable params: 305,117\n",
            "Non-trainable params: 0\n",
            "_________________________________________________________________\n"
          ],
          "name": "stdout"
        }
      ]
    },
    {
      "cell_type": "code",
      "metadata": {
        "id": "t8DBsFYt35sp",
        "colab_type": "code",
        "outputId": "1aa74fe3-be11-4ac5-e834-46847c291090",
        "colab": {
          "base_uri": "https://localhost:8080/",
          "height": 353
        }
      },
      "source": [
        "import tensorflow as tf\n",
        "import keras\n",
        "\n",
        "##Set the callback list\n",
        "callback_list = [\n",
        "  tf.keras.callbacks.EarlyStopping(\n",
        "    monitor='val_accuracy',\n",
        "    patience=5,\n",
        "    ),\n",
        "  tf.keras.callbacks.ModelCheckpoint(\n",
        "      filepath='model.h5',\n",
        "      monitor='val_loss',\n",
        "      save_best_only=True,\n",
        "  )\n",
        "]\n",
        "##Train the model\n",
        "history = model.fit(\n",
        "    train_generator,\n",
        "    steps_per_epoch=61,\n",
        "    epochs=20,\n",
        "    callbacks = callback_list,\n",
        "    validation_data=val_generator,\n",
        "    validation_steps=17)"
      ],
      "execution_count": 20,
      "outputs": [
        {
          "output_type": "stream",
          "text": [
            "Epoch 1/20\n",
            "61/61 [==============================] - 25s 415ms/step - loss: 1.0785 - accuracy: 0.3836 - val_loss: 0.9096 - val_accuracy: 0.4951\n",
            "Epoch 2/20\n",
            "61/61 [==============================] - 25s 408ms/step - loss: 0.7366 - accuracy: 0.6311 - val_loss: 0.7643 - val_accuracy: 0.6569\n",
            "Epoch 3/20\n",
            "61/61 [==============================] - 25s 408ms/step - loss: 0.6760 - accuracy: 0.6459 - val_loss: 0.6590 - val_accuracy: 0.6912\n",
            "Epoch 4/20\n",
            "61/61 [==============================] - 25s 409ms/step - loss: 0.6198 - accuracy: 0.6902 - val_loss: 0.5702 - val_accuracy: 0.7255\n",
            "Epoch 5/20\n",
            "61/61 [==============================] - 25s 408ms/step - loss: 0.5405 - accuracy: 0.7410 - val_loss: 0.5807 - val_accuracy: 0.7647\n",
            "Epoch 6/20\n",
            "61/61 [==============================] - 25s 408ms/step - loss: 0.4768 - accuracy: 0.7885 - val_loss: 0.5708 - val_accuracy: 0.7647\n",
            "Epoch 7/20\n",
            "61/61 [==============================] - 25s 409ms/step - loss: 0.3915 - accuracy: 0.8230 - val_loss: 0.6053 - val_accuracy: 0.6667\n",
            "Epoch 8/20\n",
            "61/61 [==============================] - 25s 410ms/step - loss: 0.3736 - accuracy: 0.8328 - val_loss: 0.5611 - val_accuracy: 0.6961\n",
            "Epoch 9/20\n",
            "61/61 [==============================] - 25s 411ms/step - loss: 0.2502 - accuracy: 0.9148 - val_loss: 0.7051 - val_accuracy: 0.7549\n",
            "Epoch 10/20\n",
            "61/61 [==============================] - 25s 409ms/step - loss: 0.1596 - accuracy: 0.9377 - val_loss: 0.7176 - val_accuracy: 0.7500\n"
          ],
          "name": "stdout"
        }
      ]
    },
    {
      "cell_type": "code",
      "metadata": {
        "id": "Sp_WuIXR_bat",
        "colab_type": "code",
        "outputId": "5ac948b9-8e5e-4b91-dcff-126193511576",
        "colab": {
          "base_uri": "https://localhost:8080/",
          "height": 573
        }
      },
      "source": [
        "##Plot the learning curves\n",
        "import matplotlib.pyplot as plt\n",
        "\n",
        "title = 'Multi Layer Variable Filters Reduced'\n",
        "\n",
        "plt.figure()\n",
        "plt.plot(history.history['accuracy'], 'bo', label='Training Acc')\n",
        "plt.plot(history.history['val_accuracy'], 'b', label='Validation Acc')\n",
        "plt.ylabel('Accuracy')\n",
        "plt.xlabel('Epoch')\n",
        "plt.title(title)\n",
        "plt.legend()\n",
        "plt.show()\n",
        "\n",
        "plt.figure()\n",
        "plt.plot(history.history['loss'], 'bo', label='Training Loss')\n",
        "plt.plot(history.history['val_loss'], 'b', label='Validation Loss')\n",
        "plt.ylabel('Loss')\n",
        "plt.xlabel('Epoch')\n",
        "plt.title(title)\n",
        "plt.legend()\n",
        "plt.show()"
      ],
      "execution_count": 21,
      "outputs": [
        {
          "output_type": "display_data",
          "data": {
            "image/png": "[encoded data removed]",
            "text/plain": [
              "<Figure size 432x288 with 1 Axes>"
            ]
          },
          "metadata": {
            "tags": []
          }
        },
        {
          "output_type": "display_data",
          "data": {
            "image/png": "[encoded data removed]",
            "text/plain": [
              "<Figure size 432x288 with 1 Axes>"
            ]
          },
          "metadata": {
            "tags": []
          }
        }
      ]
    },
    {
      "cell_type": "code",
      "metadata": {
        "id": "m49gg17Z3-L-",
        "colab_type": "code",
        "outputId": "413f6a3b-b6c5-438b-9814-5fabb8ec0997",
        "colab": {
          "base_uri": "https://localhost:8080/",
          "height": 87
        }
      },
      "source": [
        "##Load the weights of the best model acquired in training\n",
        "model.load_weights('model.h5')\n",
        "\n",
        "##Observe the results of the model against the test data\n",
        "test_loss, test_acc = model.evaluate(\n",
        "    test_generator,\n",
        "    steps=23\n",
        ")\n",
        "\n",
        "print(f'Test Acc: {test_acc}\\nTest Loss: {test_loss}')"
      ],
      "execution_count": 22,
      "outputs": [
        {
          "output_type": "stream",
          "text": [
            "23/23 [==============================] - 4s 162ms/step - loss: 0.6001 - accuracy: 0.7696\n",
            "Test Acc: 0.769565224647522\n",
            "Test Loss: 0.6001008152961731\n"
          ],
          "name": "stdout"
        }
      ]
    },
    {
      "cell_type": "markdown",
      "metadata": {
        "id": "P1PIZ1vp5IGA",
        "colab_type": "text"
      },
      "source": [
        "Model with Double Filters"
      ]
    },
    {
      "cell_type": "code",
      "metadata": {
        "id": "Fh6t6Hz55P2A",
        "colab_type": "code",
        "outputId": "4f70fb11-84af-4492-ad56-55a7b23e19e2",
        "colab": {
          "base_uri": "https://localhost:8080/",
          "height": 521
        }
      },
      "source": [
        "from tensorflow.keras.models import Sequential\n",
        "from tensorflow.keras.layers import Dense, Conv2D, Flatten, MaxPooling2D\n",
        "\n",
        "model = Sequential()\n",
        "model.add( Conv2D( 24, ( 3, 3 ), activation = 'relu', input_shape = (256, 256, 3) ) )\n",
        "model.add( MaxPooling2D((2,2)) )\n",
        "model.add( Conv2D( 24, ( 3, 3 ), activation = 'relu' ) )\n",
        "model.add( MaxPooling2D((2,2)) )\n",
        "model.add( Conv2D( 64, ( 3, 3 ), activation = 'relu' ) )\n",
        "model.add( MaxPooling2D(2,2) )\n",
        "model.add( Conv2D( 64, (3, 3 ), activation='relu') )\n",
        "model.add( Flatten() )\n",
        "model.add( Dense( 24, activation = 'relu' ) )\n",
        "model.add( Dense( 12, activation = 'relu' ) )\n",
        "model.add( Dense( 3, activation = 'softmax' ) )\n",
        "model.summary()\n",
        "\n",
        "##Compile the model\n",
        "model.compile( optimizer = 'adam', loss = 'categorical_crossentropy', metrics = [ 'accuracy' ] )"
      ],
      "execution_count": 23,
      "outputs": [
        {
          "output_type": "stream",
          "text": [
            "Model: \"sequential_2\"\n",
            "_________________________________________________________________\n",
            "Layer (type)                 Output Shape              Param #   \n",
            "=================================================================\n",
            "conv2d_8 (Conv2D)            (None, 254, 254, 24)      672       \n",
            "_________________________________________________________________\n",
            "max_pooling2d_6 (MaxPooling2 (None, 127, 127, 24)      0         \n",
            "_________________________________________________________________\n",
            "conv2d_9 (Conv2D)            (None, 125, 125, 24)      5208      \n",
            "_________________________________________________________________\n",
            "max_pooling2d_7 (MaxPooling2 (None, 62, 62, 24)        0         \n",
            "_________________________________________________________________\n",
            "conv2d_10 (Conv2D)           (None, 60, 60, 64)        13888     \n",
            "_________________________________________________________________\n",
            "max_pooling2d_8 (MaxPooling2 (None, 30, 30, 64)        0         \n",
            "_________________________________________________________________\n",
            "conv2d_11 (Conv2D)           (None, 28, 28, 64)        36928     \n",
            "_________________________________________________________________\n",
            "flatten_2 (Flatten)          (None, 50176)             0         \n",
            "_________________________________________________________________\n",
            "dense_6 (Dense)              (None, 24)                1204248   \n",
            "_________________________________________________________________\n",
            "dense_7 (Dense)              (None, 12)                300       \n",
            "_________________________________________________________________\n",
            "dense_8 (Dense)              (None, 3)                 39        \n",
            "=================================================================\n",
            "Total params: 1,261,283\n",
            "Trainable params: 1,261,283\n",
            "Non-trainable params: 0\n",
            "_________________________________________________________________\n"
          ],
          "name": "stdout"
        }
      ]
    },
    {
      "cell_type": "code",
      "metadata": {
        "id": "5MqhkTKi5XyV",
        "colab_type": "code",
        "outputId": "07360979-6adc-43d2-fe19-6560ace9c500",
        "colab": {
          "base_uri": "https://localhost:8080/",
          "height": 353
        }
      },
      "source": [
        "import tensorflow as tf\n",
        "import keras\n",
        "\n",
        "##Set the callback list\n",
        "callback_list = [\n",
        "  tf.keras.callbacks.EarlyStopping(\n",
        "    monitor='val_accuracy',\n",
        "    patience=5,\n",
        "    ),\n",
        "  tf.keras.callbacks.ModelCheckpoint(\n",
        "      filepath='model.h5',\n",
        "      monitor='val_loss',\n",
        "      save_best_only=True,\n",
        "  )\n",
        "]\n",
        "##Train the model\n",
        "history = model.fit(\n",
        "    train_generator,\n",
        "    steps_per_epoch=61,\n",
        "    epochs=20,\n",
        "    callbacks = callback_list,\n",
        "    validation_data=val_generator,\n",
        "    validation_steps=17)"
      ],
      "execution_count": 24,
      "outputs": [
        {
          "output_type": "stream",
          "text": [
            "Epoch 1/20\n",
            "61/61 [==============================] - 43s 700ms/step - loss: 1.1190 - accuracy: 0.4049 - val_loss: 1.0886 - val_accuracy: 0.4167\n",
            "Epoch 2/20\n",
            "61/61 [==============================] - 43s 699ms/step - loss: 1.0545 - accuracy: 0.4803 - val_loss: 0.8654 - val_accuracy: 0.5980\n",
            "Epoch 3/20\n",
            "61/61 [==============================] - 42s 691ms/step - loss: 0.7792 - accuracy: 0.6197 - val_loss: 0.6681 - val_accuracy: 0.6324\n",
            "Epoch 4/20\n",
            "61/61 [==============================] - 42s 687ms/step - loss: 0.6529 - accuracy: 0.6852 - val_loss: 0.6612 - val_accuracy: 0.6716\n",
            "Epoch 5/20\n",
            "61/61 [==============================] - 42s 684ms/step - loss: 0.6336 - accuracy: 0.7230 - val_loss: 0.5212 - val_accuracy: 0.7549\n",
            "Epoch 6/20\n",
            "61/61 [==============================] - 42s 687ms/step - loss: 0.5457 - accuracy: 0.7656 - val_loss: 0.6882 - val_accuracy: 0.6569\n",
            "Epoch 7/20\n",
            "61/61 [==============================] - 42s 685ms/step - loss: 0.5717 - accuracy: 0.7361 - val_loss: 0.5994 - val_accuracy: 0.6765\n",
            "Epoch 8/20\n",
            "61/61 [==============================] - 42s 683ms/step - loss: 0.4870 - accuracy: 0.7820 - val_loss: 0.6494 - val_accuracy: 0.6863\n",
            "Epoch 9/20\n",
            "61/61 [==============================] - 42s 687ms/step - loss: 0.4172 - accuracy: 0.8082 - val_loss: 0.7342 - val_accuracy: 0.6912\n",
            "Epoch 10/20\n",
            "61/61 [==============================] - 42s 682ms/step - loss: 0.4138 - accuracy: 0.8295 - val_loss: 0.8133 - val_accuracy: 0.6765\n"
          ],
          "name": "stdout"
        }
      ]
    },
    {
      "cell_type": "code",
      "metadata": {
        "id": "X7vT5Jmr_kPq",
        "colab_type": "code",
        "outputId": "beecbf54-f586-488c-e678-0e4779c1af8e",
        "colab": {
          "base_uri": "https://localhost:8080/",
          "height": 573
        }
      },
      "source": [
        "##Plot the learning curves\n",
        "import matplotlib.pyplot as plt\n",
        "\n",
        "title = 'Multi Layer Variable Filters Double'\n",
        "\n",
        "plt.figure()\n",
        "plt.plot(history.history['accuracy'], 'bo', label='Training Acc')\n",
        "plt.plot(history.history['val_accuracy'], 'b', label='Validation Acc')\n",
        "plt.ylabel('Accuracy')\n",
        "plt.xlabel('Epoch')\n",
        "plt.title(title)\n",
        "plt.legend()\n",
        "plt.show()\n",
        "\n",
        "plt.figure()\n",
        "plt.plot(history.history['loss'], 'bo', label='Training Loss')\n",
        "plt.plot(history.history['val_loss'], 'b', label='Validation Loss')\n",
        "plt.ylabel('Loss')\n",
        "plt.xlabel('Epoch')\n",
        "plt.title(title)\n",
        "plt.legend()\n",
        "plt.show()"
      ],
      "execution_count": 25,
      "outputs": [
        {
          "output_type": "display_data",
          "data": {
            "image/png": "[encoded data removed]",
            "text/plain": [
              "<Figure size 432x288 with 1 Axes>"
            ]
          },
          "metadata": {
            "tags": []
          }
        },
        {
          "output_type": "display_data",
          "data": {
            "image/png": "[encoded data removed]",
            "text/plain": [
              "<Figure size 432x288 with 1 Axes>"
            ]
          },
          "metadata": {
            "tags": []
          }
        }
      ]
    },
    {
      "cell_type": "code",
      "metadata": {
        "id": "uY9F9xsW5b0r",
        "colab_type": "code",
        "outputId": "f06d9fe8-13ce-47f1-b899-5db4a64202f1",
        "colab": {
          "base_uri": "https://localhost:8080/",
          "height": 67
        }
      },
      "source": [
        "##Load the weights of the best model acquired in training\n",
        "model.load_weights('model.h5')\n",
        "\n",
        "##Observe the results of the model against the test data\n",
        "test_loss, test_acc = model.evaluate(\n",
        "    test_generator,\n",
        "    steps=23\n",
        ")\n",
        "\n",
        "print(f'Test Acc: {test_acc}\\nTest Loss: {test_loss}')"
      ],
      "execution_count": 26,
      "outputs": [
        {
          "output_type": "stream",
          "text": [
            "23/23 [==============================] - 5s 201ms/step - loss: 0.5779 - accuracy: 0.7348\n",
            "Test Acc: 0.7347826361656189\n",
            "Test Loss: 0.5778960585594177\n"
          ],
          "name": "stdout"
        }
      ]
    },
    {
      "cell_type": "markdown",
      "metadata": {
        "id": "k9_gSL4o8Eg8",
        "colab_type": "text"
      },
      "source": [
        "Model with Reduced Layers"
      ]
    },
    {
      "cell_type": "code",
      "metadata": {
        "id": "XaQfjlNs8KyU",
        "colab_type": "code",
        "outputId": "7e697b36-9c33-492b-f7ed-9e5d89b2e2d5",
        "colab": {
          "base_uri": "https://localhost:8080/",
          "height": 420
        }
      },
      "source": [
        "from tensorflow.keras.models import Sequential\n",
        "from tensorflow.keras.layers import Dense, Conv2D, Flatten, MaxPooling2D\n",
        "\n",
        "model = Sequential()\n",
        "model.add( Conv2D( 12, ( 3, 3 ), activation = 'relu', input_shape = (256, 256, 3) ) )\n",
        "model.add( MaxPooling2D((2,2)) )\n",
        "model.add( Conv2D( 32, ( 3, 3 ), activation = 'relu' ) )\n",
        "model.add( MaxPooling2D(2,2) )\n",
        "model.add( Flatten() )\n",
        "model.add( Dense( 24, activation = 'relu' ) )\n",
        "model.add( Dense( 12, activation = 'relu' ) )\n",
        "model.add( Dense( 3, activation = 'softmax' ) )\n",
        "model.summary()\n",
        "\n",
        "##Compile the model\n",
        "model.compile( optimizer = 'adam', loss = 'categorical_crossentropy', metrics = [ 'accuracy' ] )"
      ],
      "execution_count": 27,
      "outputs": [
        {
          "output_type": "stream",
          "text": [
            "Model: \"sequential_3\"\n",
            "_________________________________________________________________\n",
            "Layer (type)                 Output Shape              Param #   \n",
            "=================================================================\n",
            "conv2d_12 (Conv2D)           (None, 254, 254, 12)      336       \n",
            "_________________________________________________________________\n",
            "max_pooling2d_9 (MaxPooling2 (None, 127, 127, 12)      0         \n",
            "_________________________________________________________________\n",
            "conv2d_13 (Conv2D)           (None, 125, 125, 32)      3488      \n",
            "_________________________________________________________________\n",
            "max_pooling2d_10 (MaxPooling (None, 62, 62, 32)        0         \n",
            "_________________________________________________________________\n",
            "flatten_3 (Flatten)          (None, 123008)            0         \n",
            "_________________________________________________________________\n",
            "dense_9 (Dense)              (None, 24)                2952216   \n",
            "_________________________________________________________________\n",
            "dense_10 (Dense)             (None, 12)                300       \n",
            "_________________________________________________________________\n",
            "dense_11 (Dense)             (None, 3)                 39        \n",
            "=================================================================\n",
            "Total params: 2,956,379\n",
            "Trainable params: 2,956,379\n",
            "Non-trainable params: 0\n",
            "_________________________________________________________________\n"
          ],
          "name": "stdout"
        }
      ]
    },
    {
      "cell_type": "code",
      "metadata": {
        "id": "DtuH2Om_8eZx",
        "colab_type": "code",
        "outputId": "bdd45fa4-b37c-4148-ac82-ff4007358863",
        "colab": {
          "base_uri": "https://localhost:8080/",
          "height": 420
        }
      },
      "source": [
        "import tensorflow as tf\n",
        "import keras\n",
        "\n",
        "##Set the callback list\n",
        "callback_list = [\n",
        "  tf.keras.callbacks.EarlyStopping(\n",
        "    monitor='val_accuracy',\n",
        "    patience=5,\n",
        "    ),\n",
        "  tf.keras.callbacks.ModelCheckpoint(\n",
        "      filepath='model.h5',\n",
        "      monitor='val_loss',\n",
        "      save_best_only=True,\n",
        "  )\n",
        "]\n",
        "##Train the model\n",
        "history = model.fit(\n",
        "    train_generator,\n",
        "    steps_per_epoch=61,\n",
        "    epochs=20,\n",
        "    callbacks = callback_list,\n",
        "    validation_data=val_generator,\n",
        "    validation_steps=17)"
      ],
      "execution_count": 28,
      "outputs": [
        {
          "output_type": "stream",
          "text": [
            "Epoch 1/20\n",
            "61/61 [==============================] - 29s 468ms/step - loss: 1.1233 - accuracy: 0.4754 - val_loss: 0.6979 - val_accuracy: 0.6912\n",
            "Epoch 2/20\n",
            "61/61 [==============================] - 28s 466ms/step - loss: 0.6101 - accuracy: 0.7230 - val_loss: 0.6934 - val_accuracy: 0.6618\n",
            "Epoch 3/20\n",
            "61/61 [==============================] - 28s 465ms/step - loss: 0.3454 - accuracy: 0.8754 - val_loss: 0.7563 - val_accuracy: 0.6667\n",
            "Epoch 4/20\n",
            "61/61 [==============================] - 28s 465ms/step - loss: 0.2191 - accuracy: 0.9262 - val_loss: 0.8548 - val_accuracy: 0.6275\n",
            "Epoch 5/20\n",
            "61/61 [==============================] - 28s 466ms/step - loss: 0.1124 - accuracy: 0.9705 - val_loss: 0.7303 - val_accuracy: 0.6961\n",
            "Epoch 6/20\n",
            "61/61 [==============================] - 28s 464ms/step - loss: 0.0320 - accuracy: 0.9951 - val_loss: 0.7805 - val_accuracy: 0.7157\n",
            "Epoch 7/20\n",
            "61/61 [==============================] - 28s 465ms/step - loss: 0.0124 - accuracy: 0.9967 - val_loss: 1.1333 - val_accuracy: 0.7255\n",
            "Epoch 8/20\n",
            "61/61 [==============================] - 28s 464ms/step - loss: 0.0045 - accuracy: 1.0000 - val_loss: 0.9867 - val_accuracy: 0.7157\n",
            "Epoch 9/20\n",
            "61/61 [==============================] - 29s 469ms/step - loss: 0.0020 - accuracy: 1.0000 - val_loss: 1.0563 - val_accuracy: 0.7255\n",
            "Epoch 10/20\n",
            "61/61 [==============================] - 28s 465ms/step - loss: 0.0012 - accuracy: 1.0000 - val_loss: 1.2521 - val_accuracy: 0.7157\n",
            "Epoch 11/20\n",
            "61/61 [==============================] - 28s 467ms/step - loss: 8.1172e-04 - accuracy: 1.0000 - val_loss: 1.1486 - val_accuracy: 0.6961\n",
            "Epoch 12/20\n",
            "61/61 [==============================] - 28s 466ms/step - loss: 6.2492e-04 - accuracy: 1.0000 - val_loss: 1.2200 - val_accuracy: 0.6961\n"
          ],
          "name": "stdout"
        }
      ]
    },
    {
      "cell_type": "code",
      "metadata": {
        "id": "Ei6BXj6n_sjp",
        "colab_type": "code",
        "outputId": "0c3d59ce-73f8-4742-fe38-a6544f534b90",
        "colab": {
          "base_uri": "https://localhost:8080/",
          "height": 573
        }
      },
      "source": [
        "##Plot the learning curves\n",
        "import matplotlib.pyplot as plt\n",
        "\n",
        "title = 'Multi Layer Variable Layers Reduced'\n",
        "\n",
        "plt.figure()\n",
        "plt.plot(history.history['accuracy'], 'bo', label='Training Acc')\n",
        "plt.plot(history.history['val_accuracy'], 'b', label='Validation Acc')\n",
        "plt.ylabel('Accuracy')\n",
        "plt.xlabel('Epoch')\n",
        "plt.title(title)\n",
        "plt.legend()\n",
        "plt.show()\n",
        "\n",
        "plt.figure()\n",
        "plt.plot(history.history['loss'], 'bo', label='Training Loss')\n",
        "plt.plot(history.history['val_loss'], 'b', label='Validation Loss')\n",
        "plt.ylabel('Loss')\n",
        "plt.xlabel('Epoch')\n",
        "plt.title(title)\n",
        "plt.legend()\n",
        "plt.show()"
      ],
      "execution_count": 29,
      "outputs": [
        {
          "output_type": "display_data",
          "data": {
            "image/png": "[encoded data removed]",
            "text/plain": [
              "<Figure size 432x288 with 1 Axes>"
            ]
          },
          "metadata": {
            "tags": []
          }
        },
        {
          "output_type": "display_data",
          "data": {
            "image/png": "[encoded data removed]",
            "text/plain": [
              "<Figure size 432x288 with 1 Axes>"
            ]
          },
          "metadata": {
            "tags": []
          }
        }
      ]
    },
    {
      "cell_type": "code",
      "metadata": {
        "id": "au5SY_MA8fnT",
        "colab_type": "code",
        "outputId": "c773e693-e760-4872-e0ec-d5df1f29b216",
        "colab": {
          "base_uri": "https://localhost:8080/",
          "height": 67
        }
      },
      "source": [
        "##Load the weights of the best model acquired in training\n",
        "model.load_weights('model.h5')\n",
        "\n",
        "##Observe the results of the model against the test data\n",
        "test_loss, test_acc = model.evaluate(\n",
        "    test_generator,\n",
        "    steps=23\n",
        ")\n",
        "\n",
        "print(f'Test Acc: {test_acc}\\nTest Loss: {test_loss}')"
      ],
      "execution_count": 30,
      "outputs": [
        {
          "output_type": "stream",
          "text": [
            "23/23 [==============================] - 4s 158ms/step - loss: 0.7433 - accuracy: 0.7304\n",
            "Test Acc: 0.730434775352478\n",
            "Test Loss: 0.7432637214660645\n"
          ],
          "name": "stdout"
        }
      ]
    },
    {
      "cell_type": "markdown",
      "metadata": {
        "id": "VLn0CMIJ-HP5",
        "colab_type": "text"
      },
      "source": [
        "Model with Reduced Layers and Additional Filters"
      ]
    },
    {
      "cell_type": "code",
      "metadata": {
        "id": "lE1WKRcY-G4m",
        "colab_type": "code",
        "outputId": "9ead4837-4d67-4125-f474-acd22db51ac3",
        "colab": {
          "base_uri": "https://localhost:8080/",
          "height": 420
        }
      },
      "source": [
        "from tensorflow.keras.models import Sequential\n",
        "from tensorflow.keras.layers import Dense, Conv2D, Flatten, MaxPooling2D\n",
        "\n",
        "model = Sequential()\n",
        "model.add( Conv2D( 32, ( 3, 3 ), activation = 'relu', input_shape = (256, 256, 3) ) )\n",
        "model.add( MaxPooling2D((2,2)) )\n",
        "model.add( Conv2D( 64, ( 3, 3 ), activation = 'relu' ) )\n",
        "model.add( MaxPooling2D(2,2) )\n",
        "model.add( Flatten() )\n",
        "model.add( Dense( 24, activation = 'relu' ) )\n",
        "model.add( Dense( 12, activation = 'relu' ) )\n",
        "model.add( Dense( 3, activation = 'softmax' ) )\n",
        "model.summary()\n",
        "\n",
        "##Compile the model\n",
        "model.compile( optimizer = 'adam', loss = 'categorical_crossentropy', metrics = [ 'accuracy' ] )"
      ],
      "execution_count": 31,
      "outputs": [
        {
          "output_type": "stream",
          "text": [
            "Model: \"sequential_4\"\n",
            "_________________________________________________________________\n",
            "Layer (type)                 Output Shape              Param #   \n",
            "=================================================================\n",
            "conv2d_14 (Conv2D)           (None, 254, 254, 32)      896       \n",
            "_________________________________________________________________\n",
            "max_pooling2d_11 (MaxPooling (None, 127, 127, 32)      0         \n",
            "_________________________________________________________________\n",
            "conv2d_15 (Conv2D)           (None, 125, 125, 64)      18496     \n",
            "_________________________________________________________________\n",
            "max_pooling2d_12 (MaxPooling (None, 62, 62, 64)        0         \n",
            "_________________________________________________________________\n",
            "flatten_4 (Flatten)          (None, 246016)            0         \n",
            "_________________________________________________________________\n",
            "dense_12 (Dense)             (None, 24)                5904408   \n",
            "_________________________________________________________________\n",
            "dense_13 (Dense)             (None, 12)                300       \n",
            "_________________________________________________________________\n",
            "dense_14 (Dense)             (None, 3)                 39        \n",
            "=================================================================\n",
            "Total params: 5,924,139\n",
            "Trainable params: 5,924,139\n",
            "Non-trainable params: 0\n",
            "_________________________________________________________________\n"
          ],
          "name": "stdout"
        }
      ]
    },
    {
      "cell_type": "code",
      "metadata": {
        "id": "HqK7GWoG-Un0",
        "colab_type": "code",
        "outputId": "5671fa71-2f1b-4110-d2be-d3c4dab0f130",
        "colab": {
          "base_uri": "https://localhost:8080/",
          "height": 353
        }
      },
      "source": [
        "import tensorflow as tf\n",
        "import keras\n",
        "\n",
        "##Set the callback list\n",
        "callback_list = [\n",
        "  tf.keras.callbacks.EarlyStopping(\n",
        "    monitor='val_accuracy',\n",
        "    patience=5,\n",
        "    ),\n",
        "  tf.keras.callbacks.ModelCheckpoint(\n",
        "      filepath='model.h5',\n",
        "      monitor='val_loss',\n",
        "      save_best_only=True,\n",
        "  )\n",
        "]\n",
        "##Train the model\n",
        "history = model.fit(\n",
        "    train_generator,\n",
        "    steps_per_epoch=61,\n",
        "    epochs=20,\n",
        "    callbacks = callback_list,\n",
        "    validation_data=val_generator,\n",
        "    validation_steps=17)"
      ],
      "execution_count": 32,
      "outputs": [
        {
          "output_type": "stream",
          "text": [
            "Epoch 1/20\n",
            "61/61 [==============================] - 54s 890ms/step - loss: 1.1179 - accuracy: 0.4475 - val_loss: 0.8050 - val_accuracy: 0.5539\n",
            "Epoch 2/20\n",
            "61/61 [==============================] - 54s 888ms/step - loss: 0.7304 - accuracy: 0.6541 - val_loss: 0.7651 - val_accuracy: 0.6569\n",
            "Epoch 3/20\n",
            "61/61 [==============================] - 54s 881ms/step - loss: 0.6113 - accuracy: 0.7295 - val_loss: 0.5862 - val_accuracy: 0.7157\n",
            "Epoch 4/20\n",
            "61/61 [==============================] - 54s 882ms/step - loss: 0.4740 - accuracy: 0.7869 - val_loss: 0.6684 - val_accuracy: 0.7206\n",
            "Epoch 5/20\n",
            "61/61 [==============================] - 54s 882ms/step - loss: 0.3278 - accuracy: 0.8623 - val_loss: 0.5837 - val_accuracy: 0.7892\n",
            "Epoch 6/20\n",
            "61/61 [==============================] - 54s 879ms/step - loss: 0.2294 - accuracy: 0.9328 - val_loss: 1.3157 - val_accuracy: 0.6912\n",
            "Epoch 7/20\n",
            "61/61 [==============================] - 54s 879ms/step - loss: 0.1277 - accuracy: 0.9574 - val_loss: 1.0950 - val_accuracy: 0.6961\n",
            "Epoch 8/20\n",
            "61/61 [==============================] - 54s 880ms/step - loss: 0.0969 - accuracy: 0.9770 - val_loss: 0.9603 - val_accuracy: 0.7402\n",
            "Epoch 9/20\n",
            "61/61 [==============================] - 54s 881ms/step - loss: 0.0262 - accuracy: 0.9951 - val_loss: 1.0484 - val_accuracy: 0.7451\n",
            "Epoch 10/20\n",
            "61/61 [==============================] - 54s 883ms/step - loss: 0.0100 - accuracy: 1.0000 - val_loss: 1.1772 - val_accuracy: 0.7549\n"
          ],
          "name": "stdout"
        }
      ]
    },
    {
      "cell_type": "code",
      "metadata": {
        "id": "wu2_BPjX_6My",
        "colab_type": "code",
        "colab": {
          "base_uri": "https://localhost:8080/",
          "height": 573
        },
        "outputId": "b4d217c1-1518-4dcb-c702-d91a4fee8069"
      },
      "source": [
        "##Plot the learning curves\n",
        "import matplotlib.pyplot as plt\n",
        "\n",
        "title = 'Multi Layer Variable Reduced Layers Increased Filters'\n",
        "\n",
        "plt.figure()\n",
        "plt.plot(history.history['accuracy'], 'bo', label='Training Acc')\n",
        "plt.plot(history.history['val_accuracy'], 'b', label='Validation Acc')\n",
        "plt.ylabel('Accuracy')\n",
        "plt.xlabel('Epoch')\n",
        "plt.title(title)\n",
        "plt.legend()\n",
        "plt.show()\n",
        "\n",
        "plt.figure()\n",
        "plt.plot(history.history['loss'], 'bo', label='Training Loss')\n",
        "plt.plot(history.history['val_loss'], 'b', label='Validation Loss')\n",
        "plt.ylabel('Loss')\n",
        "plt.xlabel('Epoch')\n",
        "plt.title(title)\n",
        "plt.legend()\n",
        "plt.show()"
      ],
      "execution_count": 33,
      "outputs": [
        {
          "output_type": "display_data",
          "data": {
            "image/png": "[encoded data removed]",
            "text/plain": [
              "<Figure size 432x288 with 1 Axes>"
            ]
          },
          "metadata": {
            "tags": []
          }
        },
        {
          "output_type": "display_data",
          "data": {
            "image/png": "[encoded data removed]",
            "text/plain": [
              "<Figure size 432x288 with 1 Axes>"
            ]
          },
          "metadata": {
            "tags": []
          }
        }
      ]
    },
    {
      "cell_type": "code",
      "metadata": {
        "id": "Cl-AhCsj-a5p",
        "colab_type": "code",
        "colab": {
          "base_uri": "https://localhost:8080/",
          "height": 67
        },
        "outputId": "619d8ab5-746b-418a-889a-ce64178b8308"
      },
      "source": [
        "##Load the weights of the best model acquired in training\n",
        "model.load_weights('model.h5')\n",
        "\n",
        "##Observe the results of the model against the test data\n",
        "test_loss, test_acc = model.evaluate(\n",
        "    test_generator,\n",
        "    steps=23\n",
        ")\n",
        "\n",
        "print(f'Test Acc: {test_acc}\\nTest Loss: {test_loss}')"
      ],
      "execution_count": 34,
      "outputs": [
        {
          "output_type": "stream",
          "text": [
            "23/23 [==============================] - 6s 240ms/step - loss: 0.7550 - accuracy: 0.7261\n",
            "Test Acc: 0.7260869741439819\n",
            "Test Loss: 0.7550042271614075\n"
          ],
          "name": "stdout"
        }
      ]
    },
    {
      "cell_type": "markdown",
      "metadata": {
        "id": "kmcRF0RSCtxH",
        "colab_type": "text"
      },
      "source": [
        "Model with One Additional Layer"
      ]
    },
    {
      "cell_type": "code",
      "metadata": {
        "id": "QQxXVHQeCwz8",
        "colab_type": "code",
        "outputId": "b73e7dfd-9686-4be4-80db-0b754f43c3d5",
        "colab": {
          "base_uri": "https://localhost:8080/",
          "height": 588
        }
      },
      "source": [
        "from tensorflow.keras.models import Sequential\n",
        "from tensorflow.keras.layers import Dense, Conv2D, Flatten, MaxPooling2D\n",
        "\n",
        "model = Sequential()\n",
        "model.add( Conv2D( 12, ( 3, 3 ), activation = 'relu', input_shape = (256, 256, 3) ) )\n",
        "model.add( MaxPooling2D((2,2)) )\n",
        "model.add( Conv2D( 12, ( 3, 3 ), activation = 'relu' ) )\n",
        "model.add( MaxPooling2D((2,2)) )\n",
        "model.add( Conv2D( 32, ( 3, 3 ), activation = 'relu' ) )\n",
        "model.add( MaxPooling2D(2,2) )\n",
        "model.add( Conv2D( 32, (3, 3 ), activation='relu') )\n",
        "model.add( MaxPooling2D(2,2) )\n",
        "model.add( Conv2D( 32, (3, 3 ), activation='relu') )\n",
        "model.add( Flatten() )\n",
        "model.add( Dense( 24, activation = 'relu' ) )\n",
        "model.add( Dense( 12, activation = 'relu' ) )\n",
        "model.add( Dense( 3, activation = 'softmax' ) )\n",
        "model.summary()\n",
        "\n",
        "##Compile the model\n",
        "model.compile( optimizer = 'adam', loss = 'categorical_crossentropy', metrics = [ 'accuracy' ] )"
      ],
      "execution_count": 35,
      "outputs": [
        {
          "output_type": "stream",
          "text": [
            "Model: \"sequential_5\"\n",
            "_________________________________________________________________\n",
            "Layer (type)                 Output Shape              Param #   \n",
            "=================================================================\n",
            "conv2d_16 (Conv2D)           (None, 254, 254, 12)      336       \n",
            "_________________________________________________________________\n",
            "max_pooling2d_13 (MaxPooling (None, 127, 127, 12)      0         \n",
            "_________________________________________________________________\n",
            "conv2d_17 (Conv2D)           (None, 125, 125, 12)      1308      \n",
            "_________________________________________________________________\n",
            "max_pooling2d_14 (MaxPooling (None, 62, 62, 12)        0         \n",
            "_________________________________________________________________\n",
            "conv2d_18 (Conv2D)           (None, 60, 60, 32)        3488      \n",
            "_________________________________________________________________\n",
            "max_pooling2d_15 (MaxPooling (None, 30, 30, 32)        0         \n",
            "_________________________________________________________________\n",
            "conv2d_19 (Conv2D)           (None, 28, 28, 32)        9248      \n",
            "_________________________________________________________________\n",
            "max_pooling2d_16 (MaxPooling (None, 14, 14, 32)        0         \n",
            "_________________________________________________________________\n",
            "conv2d_20 (Conv2D)           (None, 12, 12, 32)        9248      \n",
            "_________________________________________________________________\n",
            "flatten_5 (Flatten)          (None, 4608)              0         \n",
            "_________________________________________________________________\n",
            "dense_15 (Dense)             (None, 24)                110616    \n",
            "_________________________________________________________________\n",
            "dense_16 (Dense)             (None, 12)                300       \n",
            "_________________________________________________________________\n",
            "dense_17 (Dense)             (None, 3)                 39        \n",
            "=================================================================\n",
            "Total params: 134,583\n",
            "Trainable params: 134,583\n",
            "Non-trainable params: 0\n",
            "_________________________________________________________________\n"
          ],
          "name": "stdout"
        }
      ]
    },
    {
      "cell_type": "code",
      "metadata": {
        "id": "VuiJGrrGDAYE",
        "colab_type": "code",
        "outputId": "922ce182-6f92-4100-fac8-beb71a8c9d47",
        "colab": {
          "base_uri": "https://localhost:8080/",
          "height": 454
        }
      },
      "source": [
        "import tensorflow as tf\n",
        "import keras\n",
        "\n",
        "##Set the callback list\n",
        "callback_list = [\n",
        "  tf.keras.callbacks.EarlyStopping(\n",
        "    monitor='val_accuracy',\n",
        "    patience=5,\n",
        "    ),\n",
        "  tf.keras.callbacks.ModelCheckpoint(\n",
        "      filepath='model.h5',\n",
        "      monitor='val_loss',\n",
        "      save_best_only=True,\n",
        "  )\n",
        "]\n",
        "##Train the model\n",
        "history = model.fit(\n",
        "    train_generator,\n",
        "    steps_per_epoch=61,\n",
        "    epochs=20,\n",
        "    callbacks = callback_list,\n",
        "    validation_data=val_generator,\n",
        "    validation_steps=17)"
      ],
      "execution_count": 36,
      "outputs": [
        {
          "output_type": "stream",
          "text": [
            "Epoch 1/20\n",
            "61/61 [==============================] - 29s 470ms/step - loss: 0.9794 - accuracy: 0.4639 - val_loss: 0.8818 - val_accuracy: 0.5441\n",
            "Epoch 2/20\n",
            "61/61 [==============================] - 29s 467ms/step - loss: 0.7693 - accuracy: 0.6131 - val_loss: 0.7206 - val_accuracy: 0.6471\n",
            "Epoch 3/20\n",
            "61/61 [==============================] - 28s 464ms/step - loss: 0.6397 - accuracy: 0.6525 - val_loss: 0.6183 - val_accuracy: 0.6667\n",
            "Epoch 4/20\n",
            "61/61 [==============================] - 28s 463ms/step - loss: 0.6678 - accuracy: 0.6393 - val_loss: 0.6691 - val_accuracy: 0.6863\n",
            "Epoch 5/20\n",
            "61/61 [==============================] - 28s 464ms/step - loss: 0.6287 - accuracy: 0.7016 - val_loss: 0.5849 - val_accuracy: 0.6912\n",
            "Epoch 6/20\n",
            "61/61 [==============================] - 28s 466ms/step - loss: 0.6085 - accuracy: 0.6721 - val_loss: 0.6145 - val_accuracy: 0.6275\n",
            "Epoch 7/20\n",
            "61/61 [==============================] - 28s 465ms/step - loss: 0.5693 - accuracy: 0.7164 - val_loss: 0.5874 - val_accuracy: 0.7157\n",
            "Epoch 8/20\n",
            "61/61 [==============================] - 28s 464ms/step - loss: 0.5596 - accuracy: 0.7082 - val_loss: 0.6191 - val_accuracy: 0.7304\n",
            "Epoch 9/20\n",
            "61/61 [==============================] - 28s 463ms/step - loss: 0.5581 - accuracy: 0.7410 - val_loss: 0.6323 - val_accuracy: 0.7059\n",
            "Epoch 10/20\n",
            "61/61 [==============================] - 28s 463ms/step - loss: 0.5105 - accuracy: 0.7574 - val_loss: 0.6384 - val_accuracy: 0.7304\n",
            "Epoch 11/20\n",
            "61/61 [==============================] - 28s 463ms/step - loss: 0.4608 - accuracy: 0.7951 - val_loss: 0.6648 - val_accuracy: 0.7010\n",
            "Epoch 12/20\n",
            "61/61 [==============================] - 28s 465ms/step - loss: 0.4113 - accuracy: 0.8115 - val_loss: 0.7113 - val_accuracy: 0.6912\n",
            "Epoch 13/20\n",
            "61/61 [==============================] - 28s 464ms/step - loss: 0.3590 - accuracy: 0.8541 - val_loss: 0.7991 - val_accuracy: 0.7206\n"
          ],
          "name": "stdout"
        }
      ]
    },
    {
      "cell_type": "code",
      "metadata": {
        "id": "oiuFTZqFDEwO",
        "colab_type": "code",
        "colab": {
          "base_uri": "https://localhost:8080/",
          "height": 573
        },
        "outputId": "176f9d38-74cc-41be-f69f-b22d5a95ccab"
      },
      "source": [
        "##Plot the learning curves\n",
        "import matplotlib.pyplot as plt\n",
        "\n",
        "title = 'Multi Layer Variable Layers Increased Filters'\n",
        "\n",
        "plt.figure()\n",
        "plt.plot(history.history['accuracy'], 'bo', label='Training Acc')\n",
        "plt.plot(history.history['val_accuracy'], 'b', label='Validation Acc')\n",
        "plt.ylabel('Accuracy')\n",
        "plt.xlabel('Epoch')\n",
        "plt.title(title)\n",
        "plt.legend()\n",
        "plt.show()\n",
        "\n",
        "plt.figure()\n",
        "plt.plot(history.history['loss'], 'bo', label='Training Loss')\n",
        "plt.plot(history.history['val_loss'], 'b', label='Validation Loss')\n",
        "plt.ylabel('Loss')\n",
        "plt.xlabel('Epoch')\n",
        "plt.title(title)\n",
        "plt.legend()\n",
        "plt.show()"
      ],
      "execution_count": 37,
      "outputs": [
        {
          "output_type": "display_data",
          "data": {
            "image/png": "[encoded data removed]",
            "text/plain": [
              "<Figure size 432x288 with 1 Axes>"
            ]
          },
          "metadata": {
            "tags": []
          }
        },
        {
          "output_type": "display_data",
          "data": {
            "image/png": "[encoded data removed]",
            "text/plain": [
              "<Figure size 432x288 with 1 Axes>"
            ]
          },
          "metadata": {
            "tags": []
          }
        }
      ]
    },
    {
      "cell_type": "code",
      "metadata": {
        "id": "cnKlgr9eDGR_",
        "colab_type": "code",
        "colab": {
          "base_uri": "https://localhost:8080/",
          "height": 67
        },
        "outputId": "d57453f0-660c-41e5-e0c5-15212e026d1c"
      },
      "source": [
        "##Load the weights of the best model acquired in training\n",
        "model.load_weights('model.h5')\n",
        "\n",
        "##Observe the results of the model against the test data\n",
        "test_loss, test_acc = model.evaluate(\n",
        "    test_generator,\n",
        "    steps=23\n",
        ")\n",
        "\n",
        "print(f'Test Acc: {test_acc}\\nTest Loss: {test_loss}')"
      ],
      "execution_count": 38,
      "outputs": [
        {
          "output_type": "stream",
          "text": [
            "23/23 [==============================] - 4s 163ms/step - loss: 0.6035 - accuracy: 0.7174\n",
            "Test Acc: 0.717391312122345\n",
            "Test Loss: 0.603538990020752\n"
          ],
          "name": "stdout"
        }
      ]
    }
  ]
}